{
 "cells": [
  {
   "cell_type": "code",
   "execution_count": null,
   "id": "49125707-3b94-4290-9af3-92f4c9077237",
   "metadata": {},
   "outputs": [],
   "source": [
    "import shutil"
   ]
  },
  {
   "cell_type": "code",
   "execution_count": null,
   "id": "3d1a3956-714b-4c3f-aeaa-80a16651afec",
   "metadata": {},
   "outputs": [],
   "source": [
    "shutil.make_archive('saved_models', 'zip', './saved_models')"
   ]
  },
  {
   "cell_type": "code",
   "execution_count": null,
   "id": "ca60dea2-ba34-4399-9352-805e1cd9a588",
   "metadata": {},
   "outputs": [],
   "source": [
    "file_path = ''\n",
    "archive_name = ''"
   ]
  },
  {
   "cell_type": "code",
   "execution_count": null,
   "id": "cd1f82ee-224a-462e-b525-dbdb90c2d539",
   "metadata": {},
   "outputs": [],
   "source": [
    "!tar -czvf - {file_path} | split -b 1024M - {archive_name}.tar.gz"
   ]
  }
 ],
 "metadata": {
  "kernelspec": {
   "display_name": "default:Python",
   "language": "python",
   "name": "conda-env-default-py"
  },
  "language_info": {
   "codemirror_mode": {
    "name": "ipython",
    "version": 3
   },
   "file_extension": ".py",
   "mimetype": "text/x-python",
   "name": "python",
   "nbconvert_exporter": "python",
   "pygments_lexer": "ipython3",
   "version": "3.9.13"
  }
 },
 "nbformat": 4,
 "nbformat_minor": 5
}
