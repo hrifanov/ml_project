{
 "cells": [
  {
   "cell_type": "code",
   "execution_count": 16,
   "id": "cd1f82ee-224a-462e-b525-dbdb90c2d539",
   "metadata": {},
   "outputs": [
    {
     "name": "stdout",
     "output_type": "stream",
     "text": [
      "/home/studio-lab-user/sagemaker-studiolab-notebooks/ml_project/Sprint_5\n"
     ]
    }
   ],
   "source": [
    "!pwd"
   ]
  },
  {
   "cell_type": "code",
   "execution_count": 21,
   "id": "d84e89bb-9eb3-41c5-bc22-6ffff5b7396f",
   "metadata": {},
   "outputs": [
    {
     "name": "stdout",
     "output_type": "stream",
     "text": [
      "./Triplets model/logs/\n",
      "./Triplets model/logs/.ipynb_checkpoints/\n",
      "./Triplets model/logs/resnet50_1024_2-layers_06-dr/\n",
      "./Triplets model/logs/resnet50_1024_2-layers_06-dr/train/\n",
      "./Triplets model/logs/resnet50_1024_2-layers_06-dr/train/events.out.tfevents.1670858100.default.80.6.v2\n",
      "./Triplets model/logs/resnet50_1024_2-layers_06-dr/validation/\n",
      "./Triplets model/logs/resnet50_1024_2-layers_06-dr/validation/events.out.tfevents.1670858151.default.80.7.v2\n",
      "./Triplets model/logs/resnet50_512_2-layers_06-dr/\n",
      "./Triplets model/logs/resnet50_512_2-layers_06-dr/train/\n",
      "./Triplets model/logs/resnet50_512_2-layers_06-dr/train/events.out.tfevents.1670869974.default.122.13.v2\n",
      "./Triplets model/logs/resnet50_512_2-layers_06-dr/train/events.out.tfevents.1670872625.default.122.15.v2\n",
      "./Triplets model/logs/resnet50_512_2-layers_06-dr/validation/\n",
      "./Triplets model/logs/resnet50_512_2-layers_06-dr/validation/events.out.tfevents.1670870014.default.122.14.v2\n",
      "./Triplets model/logs/resnet50_512_2-layers_06-dr/validation/events.out.tfevents.1670872670.default.122.16.v2\n",
      "./Triplets model/logs/resnet50_128_2-layers-05-dr/\n",
      "./Triplets model/logs/resnet50_128_2-layers-05-dr/validation/\n",
      "./Triplets model/logs/resnet50_128_2-layers-05-dr/validation/events.out.tfevents.1670872961.default.122.18.v2\n"
     ]
    }
   ],
   "source": [
    "!tar -czvf - './Triplets model/logs' | split -b 1024M - logs.tar.gz"
   ]
  },
  {
   "cell_type": "code",
   "execution_count": null,
   "id": "f3fbb284-bc98-4e48-8d61-4086627781eb",
   "metadata": {},
   "outputs": [],
   "source": []
  }
 ],
 "metadata": {
  "kernelspec": {
   "display_name": "default:Python",
   "language": "python",
   "name": "conda-env-default-py"
  },
  "language_info": {
   "codemirror_mode": {
    "name": "ipython",
    "version": 3
   },
   "file_extension": ".py",
   "mimetype": "text/x-python",
   "name": "python",
   "nbconvert_exporter": "python",
   "pygments_lexer": "ipython3",
   "version": "3.9.13"
  }
 },
 "nbformat": 4,
 "nbformat_minor": 5
}
