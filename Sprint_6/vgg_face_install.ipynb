{
 "cells": [
  {
   "cell_type": "markdown",
   "id": "dc9df25d-a553-47d7-8585-275fe1facde2",
   "metadata": {},
   "source": [
    "## IMPORTANT\n",
    "\n",
    "#### After installing keras_vgg face we have to change the\n",
    "\n",
    "`from keras.engine.topology import get_source_inputs`\n",
    "\n",
    "to:\n",
    "\n",
    "`from keras.utils.layer_utils import get_source_inputs`\n",
    "\n",
    "in the library itself because of its bug"
   ]
  },
  {
   "cell_type": "code",
   "execution_count": 1,
   "id": "67fe4c24-ce05-4a57-b694-40c526f1b7da",
   "metadata": {},
   "outputs": [
    {
     "name": "stdout",
     "output_type": "stream",
     "text": [
      "Requirement already satisfied: keras_vggface in /home/studio-lab-user/.conda/envs/default/lib/python3.9/site-packages (0.6)\n",
      "Requirement already satisfied: six>=1.9.0 in /home/studio-lab-user/.conda/envs/default/lib/python3.9/site-packages (from keras_vggface) (1.16.0)\n",
      "Requirement already satisfied: keras in /home/studio-lab-user/.conda/envs/default/lib/python3.9/site-packages (from keras_vggface) (2.11.0)\n",
      "Requirement already satisfied: pyyaml in /home/studio-lab-user/.conda/envs/default/lib/python3.9/site-packages (from keras_vggface) (6.0)\n",
      "Requirement already satisfied: scipy>=0.14 in /home/studio-lab-user/.conda/envs/default/lib/python3.9/site-packages (from keras_vggface) (1.9.3)\n",
      "Requirement already satisfied: h5py in /home/studio-lab-user/.conda/envs/default/lib/python3.9/site-packages (from keras_vggface) (3.7.0)\n",
      "Requirement already satisfied: pillow in /home/studio-lab-user/.conda/envs/default/lib/python3.9/site-packages (from keras_vggface) (9.3.0)\n",
      "Requirement already satisfied: numpy>=1.9.1 in /home/studio-lab-user/.conda/envs/default/lib/python3.9/site-packages (from keras_vggface) (1.23.5)\n",
      "Requirement already satisfied: keras_applications in /home/studio-lab-user/.conda/envs/default/lib/python3.9/site-packages (1.0.8)\n",
      "Requirement already satisfied: h5py in /home/studio-lab-user/.conda/envs/default/lib/python3.9/site-packages (from keras_applications) (3.7.0)\n",
      "Requirement already satisfied: numpy>=1.9.1 in /home/studio-lab-user/.conda/envs/default/lib/python3.9/site-packages (from keras_applications) (1.23.5)\n"
     ]
    }
   ],
   "source": [
    "!pip install keras_vggface\n",
    "!pip install keras_applications"
   ]
  },
  {
   "cell_type": "code",
   "execution_count": 2,
   "id": "ecbd80ce-ead7-45f5-bcff-99726bf640d1",
   "metadata": {},
   "outputs": [
    {
     "name": "stdout",
     "output_type": "stream",
     "text": [
      "Name: keras-vggface\n",
      "Version: 0.6\n",
      "Summary: VGGFace implementation with Keras framework\n",
      "Home-page: https://github.com/rcmalli/keras-vggface\n",
      "Author: Refik Can MALLI\n",
      "Author-email: mallir@itu.edu.tr\n",
      "License: MIT\n",
      "Location: /home/studio-lab-user/.conda/envs/default/lib/python3.9/site-packages\n",
      "Requires: pyyaml, keras, six, numpy, pillow, h5py, scipy\n",
      "Required-by: \n"
     ]
    }
   ],
   "source": [
    "!pip show keras_vggface"
   ]
  }
 ],
 "metadata": {
  "kernelspec": {
   "display_name": "default:Python",
   "language": "python",
   "name": "conda-env-default-py"
  },
  "language_info": {
   "codemirror_mode": {
    "name": "ipython",
    "version": 3
   },
   "file_extension": ".py",
   "mimetype": "text/x-python",
   "name": "python",
   "nbconvert_exporter": "python",
   "pygments_lexer": "ipython3",
   "version": "3.9.13"
  }
 },
 "nbformat": 4,
 "nbformat_minor": 5
}
