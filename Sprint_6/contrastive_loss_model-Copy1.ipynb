{
 "cells": [
  {
   "cell_type": "code",
   "execution_count": 522,
   "id": "87b536fa-e294-4e0e-b05a-b5486e6912a4",
   "metadata": {},
   "outputs": [],
   "source": [
    "import pandas as pd\n",
    "import numpy as np\n",
    "import cv2\n",
    "from pathlib import Path\n",
    "import matplotlib.pyplot as plt\n",
    "import seaborn as sn\n",
    "from sklearn.metrics import classification_report\n",
    "from sklearn.metrics import confusion_matrix\n",
    "import time"
   ]
  },
  {
   "cell_type": "code",
   "execution_count": 523,
   "id": "d19be4e7-901d-4a4c-8d69-bf15b5782cf2",
   "metadata": {},
   "outputs": [],
   "source": [
    "import tensorflow as tf\n",
    "from tensorflow.keras import layers\n",
    "from tensorflow.keras.applications import resnet50\n",
    "from tensorflow.keras.models import Model\n",
    "from tensorflow.keras.optimizers import Adam\n",
    "import tensorflow.keras.backend as K\n",
    "from tensorflow.keras.callbacks import TensorBoard, EarlyStopping, ReduceLROnPlateau\n",
    "from tensorflow.keras.utils import plot_model\n",
    "from tensorflow.keras.models import load_model"
   ]
  },
  {
   "cell_type": "markdown",
   "id": "09ae0603-81b8-4ca0-9f13-484032e1df67",
   "metadata": {},
   "source": [
    "### Paths"
   ]
  },
  {
   "cell_type": "code",
   "execution_count": 524,
   "id": "a0952180-18df-4ce0-b4df-718a89e6a10f",
   "metadata": {},
   "outputs": [],
   "source": [
    "celeba_path = Path('../../Dataset/img_celeba_cropped/')\n",
    "celeba_identity_path = Path('../Dataset/celeb_identity_processed.txt')\n",
    "\n",
    "precalculated_pairs_path = Path('../Dataset/pairs_precalculated.csv')"
   ]
  },
  {
   "cell_type": "markdown",
   "id": "679c8a4e-183e-4221-ac80-485bcbdc30d0",
   "metadata": {},
   "source": [
    "### Hyperparameters"
   ]
  },
  {
   "cell_type": "code",
   "execution_count": 525,
   "id": "7dc8ab9a-9690-489e-8018-3f37d53937d0",
   "metadata": {},
   "outputs": [],
   "source": [
    "pair_count = 5000\n",
    "\n",
    "train_size = 0.7\n",
    "\n",
    "network_input_shape = (224, 224, 3)\n",
    "\n",
    "batch_size = 16\n",
    "lr = 1e-5"
   ]
  },
  {
   "cell_type": "markdown",
   "id": "8a13926f-4442-4755-9c6a-5a16b616435a",
   "metadata": {},
   "source": [
    "### a) Creating pairs"
   ]
  },
  {
   "cell_type": "code",
   "execution_count": 526,
   "id": "a9a878a3-a2d8-40f2-a343-a6da36433ba4",
   "metadata": {},
   "outputs": [],
   "source": [
    "df_identity = pd.read_csv(\n",
    "    celeba_identity_path,\n",
    "    sep=\",\",\n",
    "    names=[\"image\", \"identity\"],\n",
    "    header=0,\n",
    "    dtype=str\n",
    ")"
   ]
  },
  {
   "cell_type": "code",
   "execution_count": 527,
   "id": "ba1d9b7a-9d64-4b54-a898-c2a363a27e5b",
   "metadata": {},
   "outputs": [],
   "source": [
    "def create_n_pairs(df_identity, n):\n",
    "    pairs = []\n",
    "\n",
    "    for pair in range(n):\n",
    "        anchor_id = df_identity['identity'].sample(1, replace=True).to_string(index=False)\n",
    "\n",
    "        keepGoing = True\n",
    "        while (keepGoing):\n",
    "            anchor, positive = df_identity.loc[df_identity['identity'] == anchor_id]['image'].sample(2, replace=True)\n",
    "            keepGoing = (anchor == positive)\n",
    "\n",
    "        negative = df_identity.loc[df_identity['identity'] != anchor_id]['image'].sample(1, replace=True).to_string(index=False)\n",
    "\n",
    "        anchor = str(celeba_path) + '/' + anchor\n",
    "        positive = str(celeba_path) + '/' + positive\n",
    "        negative = str(celeba_path) + '/' + negative\n",
    "\n",
    "        pairs.append([anchor, positive, 1])\n",
    "        pairs.append([anchor, negative, 0])\n",
    "\n",
    "    return pd.DataFrame(pairs, columns=['left', 'right', 'label'])"
   ]
  },
  {
   "cell_type": "code",
   "execution_count": 528,
   "id": "b55cdc54-e215-4d0d-8d8c-bee79cd7f28e",
   "metadata": {},
   "outputs": [
    {
     "data": {
      "text/html": [
       "<div>\n",
       "<style scoped>\n",
       "    .dataframe tbody tr th:only-of-type {\n",
       "        vertical-align: middle;\n",
       "    }\n",
       "\n",
       "    .dataframe tbody tr th {\n",
       "        vertical-align: top;\n",
       "    }\n",
       "\n",
       "    .dataframe thead th {\n",
       "        text-align: right;\n",
       "    }\n",
       "</style>\n",
       "<table border=\"1\" class=\"dataframe\">\n",
       "  <thead>\n",
       "    <tr style=\"text-align: right;\">\n",
       "      <th></th>\n",
       "      <th>left</th>\n",
       "      <th>right</th>\n",
       "      <th>label</th>\n",
       "    </tr>\n",
       "  </thead>\n",
       "  <tbody>\n",
       "    <tr>\n",
       "      <th>0</th>\n",
       "      <td>../../Dataset/img_celeba_cropped/138413.jpg</td>\n",
       "      <td>../../Dataset/img_celeba_cropped/092473.jpg</td>\n",
       "      <td>1</td>\n",
       "    </tr>\n",
       "    <tr>\n",
       "      <th>1</th>\n",
       "      <td>../../Dataset/img_celeba_cropped/138413.jpg</td>\n",
       "      <td>../../Dataset/img_celeba_cropped/168196.jpg</td>\n",
       "      <td>0</td>\n",
       "    </tr>\n",
       "    <tr>\n",
       "      <th>2</th>\n",
       "      <td>../../Dataset/img_celeba_cropped/173517.jpg</td>\n",
       "      <td>../../Dataset/img_celeba_cropped/167298.jpg</td>\n",
       "      <td>1</td>\n",
       "    </tr>\n",
       "    <tr>\n",
       "      <th>3</th>\n",
       "      <td>../../Dataset/img_celeba_cropped/173517.jpg</td>\n",
       "      <td>../../Dataset/img_celeba_cropped/169375.jpg</td>\n",
       "      <td>0</td>\n",
       "    </tr>\n",
       "    <tr>\n",
       "      <th>4</th>\n",
       "      <td>../../Dataset/img_celeba_cropped/064219.jpg</td>\n",
       "      <td>../../Dataset/img_celeba_cropped/014332.jpg</td>\n",
       "      <td>1</td>\n",
       "    </tr>\n",
       "  </tbody>\n",
       "</table>\n",
       "</div>"
      ],
      "text/plain": [
       "                                          left  \\\n",
       "0  ../../Dataset/img_celeba_cropped/138413.jpg   \n",
       "1  ../../Dataset/img_celeba_cropped/138413.jpg   \n",
       "2  ../../Dataset/img_celeba_cropped/173517.jpg   \n",
       "3  ../../Dataset/img_celeba_cropped/173517.jpg   \n",
       "4  ../../Dataset/img_celeba_cropped/064219.jpg   \n",
       "\n",
       "                                         right  label  \n",
       "0  ../../Dataset/img_celeba_cropped/092473.jpg      1  \n",
       "1  ../../Dataset/img_celeba_cropped/168196.jpg      0  \n",
       "2  ../../Dataset/img_celeba_cropped/167298.jpg      1  \n",
       "3  ../../Dataset/img_celeba_cropped/169375.jpg      0  \n",
       "4  ../../Dataset/img_celeba_cropped/014332.jpg      1  "
      ]
     },
     "execution_count": 528,
     "metadata": {},
     "output_type": "execute_result"
    }
   ],
   "source": [
    "pairs = create_n_pairs(df_identity, pair_count)\n",
    "pairs.head()"
   ]
  },
  {
   "cell_type": "code",
   "execution_count": 529,
   "id": "c8cf0986-e4a4-4bfb-8ee3-1202c87794f1",
   "metadata": {},
   "outputs": [
    {
     "data": {
      "text/plain": [
       "(10000, 3)"
      ]
     },
     "execution_count": 529,
     "metadata": {},
     "output_type": "execute_result"
    }
   ],
   "source": [
    "pairs.shape"
   ]
  },
  {
   "cell_type": "markdown",
   "id": "a34abdcd-f069-4e77-816a-926748418f79",
   "metadata": {},
   "source": [
    "### b) Loading precalculated pairs from csv"
   ]
  },
  {
   "cell_type": "code",
   "execution_count": 530,
   "id": "62fbcc83-6233-44ed-95dd-9fe7a3b7fd9f",
   "metadata": {},
   "outputs": [],
   "source": [
    "# pairs = pd.read_csv(precalculated_pairs_path, sep=';')\n",
    "# pairs = str(celeba_path) + '/' + triplets\n",
    "\n",
    "# pairs.head()"
   ]
  },
  {
   "cell_type": "code",
   "execution_count": 531,
   "id": "3490f398-90a1-48f6-bd94-aa9fb83fb74b",
   "metadata": {},
   "outputs": [],
   "source": [
    "# pairs = pairs[:pair_count]\n",
    "# pairs.shape"
   ]
  },
  {
   "cell_type": "markdown",
   "id": "aab26a2b-1064-4963-bf04-046939378080",
   "metadata": {},
   "source": [
    "### Visualize triplets"
   ]
  },
  {
   "cell_type": "code",
   "execution_count": 532,
   "id": "679e5e1a-597f-4a41-913e-46302cd5fd84",
   "metadata": {},
   "outputs": [],
   "source": [
    "def visualize_pairs(pairs):\n",
    "    def show(ax, path):\n",
    "        img = cv2.imread(path)\n",
    "\n",
    "        ax.imshow(cv2.cvtColor(img, cv2.COLOR_BGR2RGB))\n",
    "        ax.get_xaxis().set_visible(False)\n",
    "        ax.get_yaxis().set_visible(False)\n",
    "\n",
    "    fig = plt.figure(figsize=(5, 15))\n",
    "\n",
    "    axs = fig.subplots(8, 2)\n",
    "    for i in range(8):\n",
    "        show(axs[i, 0], pairs.iloc[i][0])\n",
    "        show(axs[i, 1], pairs.iloc[i][1])"
   ]
  },
  {
   "cell_type": "code",
   "execution_count": 533,
   "id": "4308da93-dcfa-4d13-94d6-bd3f067f4f62",
   "metadata": {},
   "outputs": [],
   "source": [
    "#visualize_pairs(pairs)"
   ]
  },
  {
   "cell_type": "markdown",
   "id": "f5406fd0-60d2-410c-b50b-5fb852b8c55f",
   "metadata": {},
   "source": [
    "### TF Pipeline"
   ]
  },
  {
   "cell_type": "code",
   "execution_count": 534,
   "id": "1be3c3ce-14c1-4fdc-82d1-d2143aec13ce",
   "metadata": {},
   "outputs": [],
   "source": [
    "def preprocessing(left, right, label):\n",
    "    return (\n",
    "        (convert_to_img(left), convert_to_img(right)),\n",
    "        label_preprocessing(label),\n",
    "    )\n",
    "\n",
    "\n",
    "def convert_to_img(img_path):\n",
    "    img = tf.io.read_file(img_path)\n",
    "    img = tf.image.decode_jpeg(img)\n",
    "    img = resnet50.preprocess_input(img)\n",
    "    return img\n",
    "\n",
    "\n",
    "def label_preprocessing(label):\n",
    "    return tf.cast(label, tf.float32)"
   ]
  },
  {
   "cell_type": "code",
   "execution_count": 535,
   "id": "f015d363-dccd-4b72-ac0e-a2658fc48805",
   "metadata": {},
   "outputs": [],
   "source": [
    "features = tf.data.Dataset.from_tensor_slices(\n",
    "    (pairs['left'].values,\n",
    "     pairs['right'].values,\n",
    "     pairs['label'].values)\n",
    ")\n",
    "\n",
    "dataset = features.map(preprocessing)"
   ]
  },
  {
   "cell_type": "markdown",
   "id": "90c8e1cd-6f39-4adf-b493-d8121fbf39fc",
   "metadata": {},
   "source": [
    "### Test val splits"
   ]
  },
  {
   "cell_type": "code",
   "execution_count": 536,
   "id": "ec4f44c2-4240-42e6-a1f6-484a02ccf4de",
   "metadata": {},
   "outputs": [],
   "source": [
    "train_dataset = dataset.take(round(pairs.shape[0] * train_size))\n",
    "val_dataset = dataset.skip(round(pairs.shape[0] * train_size))"
   ]
  },
  {
   "cell_type": "markdown",
   "id": "33ce2bb0-ca5d-4729-8745-877deecd8b96",
   "metadata": {},
   "source": [
    "### Performance optimization"
   ]
  },
  {
   "cell_type": "code",
   "execution_count": 537,
   "id": "32094b49-2c76-4514-8442-e4a22feb315a",
   "metadata": {},
   "outputs": [],
   "source": [
    "train_dataset = train_dataset \\\n",
    "        .batch(batch_size, num_parallel_calls=tf.data.AUTOTUNE) \\\n",
    "        .prefetch(buffer_size=tf.data.AUTOTUNE) \\\n",
    "        .cache()\n",
    "\n",
    "val_dataset = val_dataset \\\n",
    "        .batch(batch_size, num_parallel_calls=tf.data.AUTOTUNE) \\\n",
    "        .prefetch(buffer_size=tf.data.AUTOTUNE) \\\n",
    "        .cache()"
   ]
  },
  {
   "cell_type": "markdown",
   "id": "c65d75c5-f5b0-4801-8e17-c50e2137f793",
   "metadata": {},
   "source": [
    "# Models"
   ]
  },
  {
   "cell_type": "markdown",
   "id": "0e4b6149-3e7c-4060-bfd9-9e8284b99ea1",
   "metadata": {},
   "source": [
    "### Resnet 50 embedding"
   ]
  },
  {
   "cell_type": "code",
   "execution_count": 538,
   "id": "da0738cd-8b70-4e3f-8fb6-83ee2b9010e7",
   "metadata": {},
   "outputs": [],
   "source": [
    "def resnet_embedding():\n",
    "    input = layers.Input(shape=network_input_shape)\n",
    "\n",
    "    base_cnn = resnet50.ResNet50(\n",
    "        input_tensor=input,\n",
    "        include_top=False,\n",
    "        input_shape=network_input_shape,\n",
    "        weights='imagenet'\n",
    "    )\n",
    "\n",
    "    for layer in base_cnn.layers[0:-3]:\n",
    "        layer.trainable = False\n",
    "\n",
    "    model = layers.Flatten()(base_cnn.output)\n",
    "    \n",
    "    # model = tf.keras.layers.BatchNormalization()(model)\n",
    "\n",
    "    model = layers.Dropout(0.5)(model)\n",
    "    model = layers.Dense(512, activation=\"leaky_relu\")(model)\n",
    "\n",
    "    model = layers.Dense(256)(model)\n",
    "\n",
    "    return Model(input, outputs=model, name='resnet50')"
   ]
  },
  {
   "cell_type": "code",
   "execution_count": 539,
   "id": "10365062-ac65-4173-aa60-ea4e226f1dec",
   "metadata": {},
   "outputs": [],
   "source": [
    "def euclidean_distance(vects):\n",
    "    x, y = vects\n",
    "    sum_square = tf.math.reduce_sum(tf.math.square(x-y), axis=1, keepdims=True)\n",
    "    return tf.math.sqrt(tf.math.maximum(sum_square, tf.keras.backend.epsilon()))"
   ]
  },
  {
   "cell_type": "code",
   "execution_count": 540,
   "id": "2090b438-84de-44bc-b149-1ed7456c0039",
   "metadata": {},
   "outputs": [],
   "source": [
    "embedding = resnet_embedding()\n",
    "\n",
    "left_input = layers.Input(shape=network_input_shape, name=\"left_input\")\n",
    "right_input = layers.Input(shape=network_input_shape, name=\"right_input\")\n",
    "\n",
    "left_tower = embedding(left_input)\n",
    "right_tower = embedding(right_input)\n",
    "\n",
    "merge_layer = layers.Lambda(euclidean_distance, name=\"lambda_layer\")([left_tower,right_tower])\n",
    "\n",
    "model = Model([left_input, right_input], merge_layer, name=\"siamese_lambda_network\")"
   ]
  },
  {
   "cell_type": "code",
   "execution_count": 541,
   "id": "63e17d71-d576-473e-af60-bb7a98fcdb26",
   "metadata": {},
   "outputs": [],
   "source": [
    "def cont_loss(margin=1):\n",
    "    def contrastive_loss(y_true, y_pred):\n",
    "        square_pred = tf.math.square(y_pred)\n",
    "        margin_square = tf.math.square(tf.math.maximum(margin - (y_pred), 0))\n",
    "        return tf.math.reduce_mean(\n",
    "            y_true * square_pred + (1-y_true) * margin_square\n",
    "        )\n",
    "\n",
    "    return contrastive_loss"
   ]
  },
  {
   "cell_type": "code",
   "execution_count": 542,
   "id": "c3aa6bc2-ac39-405d-bca6-01d1cf489313",
   "metadata": {},
   "outputs": [
    {
     "name": "stdout",
     "output_type": "stream",
     "text": [
      "Model: \"siamese_lambda_network\"\n",
      "__________________________________________________________________________________________________\n",
      " Layer (type)                   Output Shape         Param #     Connected to                     \n",
      "==================================================================================================\n",
      " left_input (InputLayer)        [(None, 224, 224, 3  0           []                               \n",
      "                                )]                                                                \n",
      "                                                                                                  \n",
      " right_input (InputLayer)       [(None, 224, 224, 3  0           []                               \n",
      "                                )]                                                                \n",
      "                                                                                                  \n",
      " resnet50 (Functional)          (None, 256)          75099776    ['left_input[0][0]',             \n",
      "                                                                  'right_input[0][0]']            \n",
      "                                                                                                  \n",
      " lambda_layer (Lambda)          (None, 1)            0           ['resnet50[0][0]',               \n",
      "                                                                  'resnet50[1][0]']               \n",
      "                                                                                                  \n",
      "==================================================================================================\n",
      "Total params: 75,099,776\n",
      "Trainable params: 51,516,160\n",
      "Non-trainable params: 23,583,616\n",
      "__________________________________________________________________________________________________\n"
     ]
    }
   ],
   "source": [
    "model.compile(loss=cont_loss(margin=1), optimizer=Adam(learning_rate=lr))\n",
    "\n",
    "model.summary()"
   ]
  },
  {
   "cell_type": "code",
   "execution_count": 543,
   "id": "ecac0dc2-1395-4f60-9cbd-b44b1011fa22",
   "metadata": {},
   "outputs": [],
   "source": [
    "# plot_model(model, show_shapes=True)"
   ]
  },
  {
   "cell_type": "markdown",
   "id": "9245b822-bba3-44be-b92a-e6dc63e71192",
   "metadata": {},
   "source": [
    "### Callbacks"
   ]
  },
  {
   "cell_type": "code",
   "execution_count": 544,
   "id": "7f5ed54e-7800-4345-9177-85a6f69333ab",
   "metadata": {},
   "outputs": [],
   "source": [
    "tensorboard = TensorBoard(\n",
    "    log_dir=f\"logs/{model.name}_{time.strftime('run_%Y_%m_%d-%H_%M_%S')}\",\n",
    "    # histogram_freq=1,\n",
    "    # embeddings_freq=1,\n",
    ")\n",
    "\n",
    "early_stopping = EarlyStopping(\n",
    "    monitor=\"val_loss\",\n",
    "    patience=10,\n",
    "    restore_best_weights=True,\n",
    "    verbose=1,\n",
    ")\n",
    "\n",
    "lr_scheduler_reduce = ReduceLROnPlateau(factor=0.5, patience=5)"
   ]
  },
  {
   "cell_type": "code",
   "execution_count": 545,
   "id": "1d9c9091-bf85-43cb-8de5-c54743f38ff3",
   "metadata": {},
   "outputs": [],
   "source": [
    "callbacks_list = [\n",
    "    early_stopping,\n",
    "    lr_scheduler_reduce,\n",
    "]"
   ]
  },
  {
   "cell_type": "code",
   "execution_count": 546,
   "id": "9ace6a8d-fd12-4632-92ad-ee9b7b5cc9d0",
   "metadata": {},
   "outputs": [
    {
     "name": "stdout",
     "output_type": "stream",
     "text": [
      "Epoch 1/10\n"
     ]
    },
    {
     "name": "stderr",
     "output_type": "stream",
     "text": [
      "2023-01-14 16:34:00.910905: I tensorflow/core/grappler/optimizers/custom_graph_optimizer_registry.cc:113] Plugin optimizer for device_type GPU is enabled.\n"
     ]
    },
    {
     "name": "stdout",
     "output_type": "stream",
     "text": [
      "438/438 [==============================] - ETA: 0s - loss: 161.4787"
     ]
    },
    {
     "name": "stderr",
     "output_type": "stream",
     "text": [
      "2023-01-14 16:35:54.249711: I tensorflow/core/grappler/optimizers/custom_graph_optimizer_registry.cc:113] Plugin optimizer for device_type GPU is enabled.\n"
     ]
    },
    {
     "name": "stdout",
     "output_type": "stream",
     "text": [
      "438/438 [==============================] - 162s 357ms/step - loss: 161.4787 - val_loss: 42.7630 - lr: 1.0000e-05\n",
      "Epoch 2/10\n",
      "438/438 [==============================] - 140s 319ms/step - loss: 64.5565 - val_loss: 37.0052 - lr: 1.0000e-05\n",
      "Epoch 3/10\n",
      "438/438 [==============================] - 139s 317ms/step - loss: 43.7158 - val_loss: 34.0993 - lr: 1.0000e-05\n",
      "Epoch 4/10\n",
      "438/438 [==============================] - 141s 321ms/step - loss: 29.4867 - val_loss: 32.3771 - lr: 1.0000e-05\n",
      "Epoch 5/10\n",
      "438/438 [==============================] - 138s 314ms/step - loss: 19.8112 - val_loss: 31.2660 - lr: 1.0000e-05\n",
      "Epoch 6/10\n",
      "438/438 [==============================] - 138s 315ms/step - loss: 13.2765 - val_loss: 30.5227 - lr: 1.0000e-05\n",
      "Epoch 7/10\n",
      "438/438 [==============================] - 140s 318ms/step - loss: 8.8882 - val_loss: 30.0057 - lr: 1.0000e-05\n",
      "Epoch 8/10\n",
      "438/438 [==============================] - 141s 321ms/step - loss: 5.9594 - val_loss: 29.6285 - lr: 1.0000e-05\n",
      "Epoch 9/10\n",
      "438/438 [==============================] - 140s 319ms/step - loss: 4.0390 - val_loss: 29.3850 - lr: 1.0000e-05\n",
      "Epoch 10/10\n",
      "438/438 [==============================] - 141s 322ms/step - loss: 2.7594 - val_loss: 29.2201 - lr: 1.0000e-05\n"
     ]
    }
   ],
   "source": [
    "model_fit = model.fit(\n",
    "    train_dataset,\n",
    "    validation_data=val_dataset,\n",
    "    callbacks=callbacks_list,\n",
    "    epochs=10,\n",
    ")"
   ]
  },
  {
   "cell_type": "markdown",
   "id": "28480e4c-7623-4a87-ad3b-2693ba286303",
   "metadata": {},
   "source": [
    "### Save model"
   ]
  },
  {
   "cell_type": "code",
   "execution_count": 547,
   "id": "47bf2bb8-f8b4-4c40-934d-d1e564a34a55",
   "metadata": {},
   "outputs": [],
   "source": [
    "#save_path = 'saved_models'"
   ]
  },
  {
   "cell_type": "markdown",
   "id": "6ef1e287-e831-4e1e-bdee-86de3b129aa4",
   "metadata": {},
   "source": [
    "#### Save whole model"
   ]
  },
  {
   "cell_type": "code",
   "execution_count": 548,
   "id": "7109757e-11f7-424c-8828-94b00ca72115",
   "metadata": {},
   "outputs": [],
   "source": [
    "#model_version = f'{model.name}-{time.strftime(\"%Y%m%d-%H%M%S\")}'\n",
    "\n",
    "#model_path = f'{save_path}/{model_version}'\n",
    "#model.save(model_path)\n",
    "#model.save_weights(\"model_path\")"
   ]
  },
  {
   "cell_type": "markdown",
   "id": "c6fd930c-68a7-4dbe-a900-dcdbadd5c0e5",
   "metadata": {},
   "source": [
    "#### Saving just the embedding for predictions"
   ]
  },
  {
   "cell_type": "code",
   "execution_count": 549,
   "id": "a0ebc4ae-64b4-49cc-80f9-152cfcc60b95",
   "metadata": {},
   "outputs": [],
   "source": [
    "#model_version = f'embedding-{model.name}-{time.strftime(\"%Y%m%d-%H%M%S\")}'\n",
    "\n",
    "#model_path = f'{save_path}/{model_version}'\n",
    "#embedding.save(model_path, include_optimizer=False)\n",
    "#embedding.save_weights(\"model_path\")"
   ]
  },
  {
   "cell_type": "code",
   "execution_count": 550,
   "id": "cd87c916-7653-4a18-903f-b5d9c51cc309",
   "metadata": {},
   "outputs": [
    {
     "data": {
      "image/png": "[encoded data removed]",
      "text/plain": [
       "<Figure size 640x480 with 1 Axes>"
      ]
     },
     "metadata": {},
     "output_type": "display_data"
    }
   ],
   "source": [
    "plt.plot(model_fit.history['loss'])\n",
    "plt.plot(model_fit.history['val_loss'])\n",
    "plt.title('Model Loss')\n",
    "plt.ylabel('Loss')\n",
    "plt.xlabel('Epochs')\n",
    "plt.legend(['train', 'validation'])\n",
    "plt.grid()\n",
    "\n",
    "plt.show()"
   ]
  },
  {
   "cell_type": "markdown",
   "id": "0e360b7e-1def-43a8-a303-2a9a5b7c0265",
   "metadata": {},
   "source": [
    "### Tensorboard"
   ]
  },
  {
   "cell_type": "code",
   "execution_count": 551,
   "id": "e1748ca2-f608-42ff-b9cf-4801084adfe8",
   "metadata": {},
   "outputs": [],
   "source": [
    "# %load_ext tensorboard\n",
    "# %tensorboard --logdir=logs"
   ]
  },
  {
   "cell_type": "code",
   "execution_count": 552,
   "id": "d7cf7f56-5296-48dd-9063-e677752cbaa4",
   "metadata": {},
   "outputs": [],
   "source": [
    "pairs = create_n_pairs(df_identity, 500)"
   ]
  },
  {
   "cell_type": "code",
   "execution_count": 553,
   "id": "47e7d2e2-e320-4573-839f-057d77c17a5b",
   "metadata": {},
   "outputs": [
    {
     "data": {
      "text/html": [
       "<div>\n",
       "<style scoped>\n",
       "    .dataframe tbody tr th:only-of-type {\n",
       "        vertical-align: middle;\n",
       "    }\n",
       "\n",
       "    .dataframe tbody tr th {\n",
       "        vertical-align: top;\n",
       "    }\n",
       "\n",
       "    .dataframe thead th {\n",
       "        text-align: right;\n",
       "    }\n",
       "</style>\n",
       "<table border=\"1\" class=\"dataframe\">\n",
       "  <thead>\n",
       "    <tr style=\"text-align: right;\">\n",
       "      <th></th>\n",
       "      <th>left</th>\n",
       "      <th>right</th>\n",
       "      <th>label</th>\n",
       "    </tr>\n",
       "  </thead>\n",
       "  <tbody>\n",
       "    <tr>\n",
       "      <th>0</th>\n",
       "      <td>../../Dataset/img_celeba_cropped/005473.jpg</td>\n",
       "      <td>../../Dataset/img_celeba_cropped/061792.jpg</td>\n",
       "      <td>1</td>\n",
       "    </tr>\n",
       "    <tr>\n",
       "      <th>1</th>\n",
       "      <td>../../Dataset/img_celeba_cropped/005473.jpg</td>\n",
       "      <td>../../Dataset/img_celeba_cropped/041696.jpg</td>\n",
       "      <td>0</td>\n",
       "    </tr>\n",
       "    <tr>\n",
       "      <th>2</th>\n",
       "      <td>../../Dataset/img_celeba_cropped/186325.jpg</td>\n",
       "      <td>../../Dataset/img_celeba_cropped/201979.jpg</td>\n",
       "      <td>1</td>\n",
       "    </tr>\n",
       "    <tr>\n",
       "      <th>3</th>\n",
       "      <td>../../Dataset/img_celeba_cropped/186325.jpg</td>\n",
       "      <td>../../Dataset/img_celeba_cropped/160969.jpg</td>\n",
       "      <td>0</td>\n",
       "    </tr>\n",
       "    <tr>\n",
       "      <th>4</th>\n",
       "      <td>../../Dataset/img_celeba_cropped/173488.jpg</td>\n",
       "      <td>../../Dataset/img_celeba_cropped/180672.jpg</td>\n",
       "      <td>1</td>\n",
       "    </tr>\n",
       "    <tr>\n",
       "      <th>5</th>\n",
       "      <td>../../Dataset/img_celeba_cropped/173488.jpg</td>\n",
       "      <td>../../Dataset/img_celeba_cropped/174137.jpg</td>\n",
       "      <td>0</td>\n",
       "    </tr>\n",
       "  </tbody>\n",
       "</table>\n",
       "</div>"
      ],
      "text/plain": [
       "                                          left  \\\n",
       "0  ../../Dataset/img_celeba_cropped/005473.jpg   \n",
       "1  ../../Dataset/img_celeba_cropped/005473.jpg   \n",
       "2  ../../Dataset/img_celeba_cropped/186325.jpg   \n",
       "3  ../../Dataset/img_celeba_cropped/186325.jpg   \n",
       "4  ../../Dataset/img_celeba_cropped/173488.jpg   \n",
       "5  ../../Dataset/img_celeba_cropped/173488.jpg   \n",
       "\n",
       "                                         right  label  \n",
       "0  ../../Dataset/img_celeba_cropped/061792.jpg      1  \n",
       "1  ../../Dataset/img_celeba_cropped/041696.jpg      0  \n",
       "2  ../../Dataset/img_celeba_cropped/201979.jpg      1  \n",
       "3  ../../Dataset/img_celeba_cropped/160969.jpg      0  \n",
       "4  ../../Dataset/img_celeba_cropped/180672.jpg      1  \n",
       "5  ../../Dataset/img_celeba_cropped/174137.jpg      0  "
      ]
     },
     "execution_count": 553,
     "metadata": {},
     "output_type": "execute_result"
    }
   ],
   "source": [
    "pairs.head(6)"
   ]
  },
  {
   "cell_type": "code",
   "execution_count": 554,
   "id": "232b2ac3-b11f-451d-82b2-488551b30c89",
   "metadata": {},
   "outputs": [],
   "source": [
    "def create_singular_dataset(feature):\n",
    "    dataset = tf.data.Dataset.from_tensor_slices(feature.values)\n",
    "    dataset = dataset.map(convert_to_img)\n",
    "    dataset = dataset.batch(batch_size, num_parallel_calls=tf.data.AUTOTUNE)\n",
    "\n",
    "    return dataset"
   ]
  },
  {
   "cell_type": "code",
   "execution_count": 555,
   "id": "ee752abe-e877-46f8-81fe-eee317e5392f",
   "metadata": {},
   "outputs": [],
   "source": [
    "test_ds_left = create_singular_dataset(pairs['left'])\n",
    "test_ds_right = create_singular_dataset(pairs['right'])\n",
    "test_labels = pairs['label']"
   ]
  },
  {
   "cell_type": "code",
   "execution_count": 556,
   "id": "6547c5fa-0241-4cfe-a624-743e4da6353f",
   "metadata": {},
   "outputs": [
    {
     "name": "stderr",
     "output_type": "stream",
     "text": [
      "2023-01-14 16:57:44.794755: I tensorflow/core/grappler/optimizers/custom_graph_optimizer_registry.cc:113] Plugin optimizer for device_type GPU is enabled.\n"
     ]
    },
    {
     "name": "stdout",
     "output_type": "stream",
     "text": [
      "63/63 [==============================] - 9s 125ms/step\n",
      "63/63 [==============================] - 6s 97ms/step\n"
     ]
    }
   ],
   "source": [
    "left_image_feature_vectors = embedding.predict(test_ds_left)\n",
    "right_image_feature_vectors = embedding.predict(test_ds_right)"
   ]
  },
  {
   "cell_type": "code",
   "execution_count": 557,
   "id": "b1881579-1cf5-4e30-9881-daeb700ba524",
   "metadata": {},
   "outputs": [],
   "source": [
    "#test_ds = create_pair_dataset(pairs['left'], pairs['right'])\n",
    "\n",
    "#model.predict([test_ds_left, test_ds_right])"
   ]
  },
  {
   "cell_type": "code",
   "execution_count": 558,
   "id": "56afa3b0-bb3d-4d00-8069-973c042d84ad",
   "metadata": {},
   "outputs": [],
   "source": [
    "positive_left_image_feature_vectors = left_image_feature_vectors[0::2]\n",
    "negative_left_image_feature_vectors = left_image_feature_vectors[1::2]\n",
    "\n",
    "positive_right_image_feature_vectors = right_image_feature_vectors[0::2]\n",
    "negative_right_image_feature_vectors = right_image_feature_vectors[1::2]"
   ]
  },
  {
   "cell_type": "code",
   "execution_count": 559,
   "id": "f8ed1451-5629-4586-b61c-d8ff6e04766f",
   "metadata": {},
   "outputs": [
    {
     "data": {
      "text/plain": [
       "count    500.000000\n",
       "mean       7.605785\n",
       "std        0.781637\n",
       "min        5.467038\n",
       "25%        7.097809\n",
       "50%        7.531515\n",
       "75%        8.013503\n",
       "max       10.895866\n",
       "dtype: float64"
      ]
     },
     "execution_count": 559,
     "metadata": {},
     "output_type": "execute_result"
    }
   ],
   "source": [
    "positive_distances = euclidean_distance((positive_left_image_feature_vectors, positive_right_image_feature_vectors)).numpy().flatten()\n",
    "positive_mean = pd.Series(positive_distances).mean()\n",
    "pd.Series(positive_distances).describe()"
   ]
  },
  {
   "cell_type": "code",
   "execution_count": 560,
   "id": "d2c478ca-855e-4ce7-be96-7a6f80f355dc",
   "metadata": {},
   "outputs": [
    {
     "data": {
      "text/plain": [
       "count    500.000000\n",
       "mean       7.708435\n",
       "std        0.732527\n",
       "min        5.912419\n",
       "25%        7.185598\n",
       "50%        7.651450\n",
       "75%        8.175034\n",
       "max       10.834054\n",
       "dtype: float64"
      ]
     },
     "execution_count": 560,
     "metadata": {},
     "output_type": "execute_result"
    }
   ],
   "source": [
    "negative_distances = euclidean_distance((negative_left_image_feature_vectors, negative_right_image_feature_vectors)).numpy().flatten()\n",
    "negative_mean = pd.Series(negative_distances).mean()\n",
    "pd.Series(negative_distances).describe()"
   ]
  },
  {
   "cell_type": "code",
   "execution_count": 561,
   "id": "a7ff82ba-76b0-48cb-9ec6-7ba019d99b1f",
   "metadata": {},
   "outputs": [
    {
     "data": {
      "image/png": "[encoded data removed]",
      "text/plain": [
       "<Figure size 640x480 with 1 Axes>"
      ]
     },
     "metadata": {},
     "output_type": "display_data"
    }
   ],
   "source": [
    "fig = plt.figure()\n",
    "ax = fig.add_axes([0, 0, 1, 1])\n",
    "ax.boxplot([positive_distances, negative_distances])\n",
    "plt.xticks([1, 2], ['Positive', 'Negative'])\n",
    "ax.grid()\n",
    "plt.show()"
   ]
  },
  {
   "cell_type": "code",
   "execution_count": 562,
   "id": "1a9746e6-ffc1-4a86-9c06-bf6a2c468301",
   "metadata": {},
   "outputs": [],
   "source": [
    "def compute_accuracy(y_true, y_pred, cutoff):\n",
    "    pred = y_pred.flatten() < cutoff\n",
    "    return np.mean(pred == y_true), pred"
   ]
  },
  {
   "cell_type": "code",
   "execution_count": 563,
   "id": "d42a59bb-00ba-4648-9e42-0d638fdc292d",
   "metadata": {},
   "outputs": [],
   "source": [
    "y_pred = np.linalg.norm(left_image_feature_vectors-right_image_feature_vectors, axis=1)\n",
    "cutoff = (positive_mean + negative_mean)/2"
   ]
  },
  {
   "cell_type": "code",
   "execution_count": 564,
   "id": "a432cbf4-f86a-4079-9c99-ca2894fe46fd",
   "metadata": {},
   "outputs": [
    {
     "name": "stdout",
     "output_type": "stream",
     "text": [
      "Accuracy: 53.40%\n"
     ]
    }
   ],
   "source": [
    "test_accuracy, y_pred = compute_accuracy(test_labels, y_pred, cutoff)\n",
    "print(f'Accuracy: {test_accuracy*100:.2f}%')"
   ]
  },
  {
   "cell_type": "code",
   "execution_count": 565,
   "id": "1737b04d-9958-4f00-8d59-282bbbc96ce5",
   "metadata": {},
   "outputs": [
    {
     "data": {
      "text/plain": [
       "<AxesSubplot: >"
      ]
     },
     "execution_count": 565,
     "metadata": {},
     "output_type": "execute_result"
    },
    {
     "data": {
      "image/png": "[encoded data removed]",
      "text/plain": [
       "<Figure size 1000x700 with 2 Axes>"
      ]
     },
     "metadata": {},
     "output_type": "display_data"
    }
   ],
   "source": [
    "c_matrix = confusion_matrix(y_pred, test_labels, labels=[1, 0])\n",
    "c_matrix_df = pd.DataFrame(c_matrix, index=[\"TP\", \"FN\"], columns=[\"FP\", \"TN\"])\n",
    "plt.figure(figsize=(10, 7))\n",
    "sn.heatmap(c_matrix_df, cmap=\"Greens\", annot=True,\n",
    "           annot_kws={'fontsize': 20, 'fontweight': 'bold', 'alpha': 0.6},\n",
    "           fmt='g')"
   ]
  },
  {
   "cell_type": "code",
   "execution_count": 566,
   "id": "9a7dd71c-f0c3-43a8-9f03-3b4c3d88c9d5",
   "metadata": {},
   "outputs": [
    {
     "name": "stdout",
     "output_type": "stream",
     "text": [
      "              precision    recall  f1-score   support\n",
      "\n",
      "       False       0.50      0.54      0.52       464\n",
      "        True       0.57      0.53      0.55       536\n",
      "\n",
      "    accuracy                           0.53      1000\n",
      "   macro avg       0.53      0.53      0.53      1000\n",
      "weighted avg       0.54      0.53      0.53      1000\n",
      "\n"
     ]
    }
   ],
   "source": [
    "report = classification_report(y_pred, test_labels)\n",
    "print(report)"
   ]
  },
  {
   "cell_type": "code",
   "execution_count": 567,
   "id": "6f4ca1af-6062-4105-86fa-3998a67a462f",
   "metadata": {},
   "outputs": [],
   "source": [
    "def visualize(pairs, labels, to_show=6, num_col=3, predictions=None, test=False):\n",
    "\n",
    "    num_row = to_show // num_col if to_show // num_col != 0 else 1\n",
    "\n",
    "    to_show = num_row * num_col\n",
    "\n",
    "    fig, axes = plt.subplots(num_row, num_col, figsize=(5, 5))\n",
    "    for i in range(to_show):\n",
    "\n",
    "        if num_row == 1:\n",
    "            ax = axes[i % num_col]\n",
    "        else:\n",
    "            ax = axes[i // num_col, i % num_col]\n",
    "\n",
    "        ax.imshow(tf.concat([cv2.cvtColor(cv2.imread(pairs[\"left\"].iloc[i]), cv2.COLOR_BGR2RGB), cv2.cvtColor(cv2.imread(pairs[\"right\"].iloc[i]), cv2.COLOR_BGR2RGB)], axis=1), cmap=\"gray\")\n",
    "        ax.set_axis_off()\n",
    "        if test:\n",
    "            ax.set_title(\"True: {} | Pred: {:.5f}\".format(labels[\"label\"].iloc[i], predictions[i][0]))\n",
    "        else:\n",
    "            ax.set_title(\"Label: {}\".format(labels[i]))\n",
    "    if test:\n",
    "        plt.tight_layout(rect=(0, 0, 1.9, 1.9), w_pad=0.0)\n",
    "    else:\n",
    "        plt.tight_layout(rect=(0, 0, 1.5, 1.5))\n",
    "    plt.show()"
   ]
  },
  {
   "cell_type": "code",
   "execution_count": 568,
   "id": "548ab46b-c575-412e-9e02-859cecf7234f",
   "metadata": {},
   "outputs": [
    {
     "ename": "NameError",
     "evalue": "name 'predictions' is not defined",
     "output_type": "error",
     "traceback": [
      "\u001b[0;31m---------------------------------------------------------------------------\u001b[0m",
      "\u001b[0;31mNameError\u001b[0m                                 Traceback (most recent call last)",
      "Cell \u001b[0;32mIn[568], line 1\u001b[0m\n\u001b[0;32m----> 1\u001b[0m visualize(pairs, test_labels, to_show\u001b[38;5;241m=\u001b[39m\u001b[38;5;241m9\u001b[39m, num_col\u001b[38;5;241m=\u001b[39m\u001b[38;5;241m3\u001b[39m, predictions\u001b[38;5;241m=\u001b[39m\u001b[43mpredictions\u001b[49m, test\u001b[38;5;241m=\u001b[39m\u001b[38;5;28;01mTrue\u001b[39;00m)\n",
      "\u001b[0;31mNameError\u001b[0m: name 'predictions' is not defined"
     ]
    }
   ],
   "source": [
    "visualize(pairs, test_labels, to_show=9, num_col=3, predictions=predictions, test=True)"
   ]
  },
  {
   "cell_type": "code",
   "execution_count": null,
   "id": "9e58c3b8-e0fc-4d7a-98a9-7e0692823c34",
   "metadata": {},
   "outputs": [],
   "source": []
  },
  {
   "cell_type": "code",
   "execution_count": null,
   "id": "b03e7ba4-8a9c-4117-8823-a83dc9e2df1b",
   "metadata": {},
   "outputs": [],
   "source": []
  }
 ],
 "metadata": {
  "kernelspec": {
   "display_name": "Python (my_env)",
   "language": "python",
   "name": "my_env"
  },
  "language_info": {
   "codemirror_mode": {
    "name": "ipython",
    "version": 3
   },
   "file_extension": ".py",
   "mimetype": "text/x-python",
   "name": "python",
   "nbconvert_exporter": "python",
   "pygments_lexer": "ipython3",
   "version": "3.10.8"
  }
 },
 "nbformat": 4,
 "nbformat_minor": 5
}
