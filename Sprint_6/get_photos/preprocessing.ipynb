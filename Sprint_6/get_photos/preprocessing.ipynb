{
 "cells": [
  {
   "cell_type": "code",
   "execution_count": null,
   "id": "b238768d-e712-486c-8c70-e7daf2b3a01d",
   "metadata": {},
   "outputs": [],
   "source": [
    "import cv2\n",
    "import face_recognition as face\n",
    "import os\n",
    "import shutil\n",
    "import random\n",
    "import dlib\n",
    "from matplotlib import pyplot as plt\n",
    "import google_drive_load"
   ]
  },
  {
   "cell_type": "code",
   "execution_count": null,
   "id": "c8e778c0-d467-4261-a845-1ac75332b0e4",
   "metadata": {},
   "outputs": [],
   "source": [
    "path_photos = \"C:\\\\Users\\\\adria\\\\Desktop\\\\ml_new\\\\ml_project\\\\process_and_load\\\\images\\\\\"\n",
    "path_results = \"C:\\\\Users\\\\adria\\\\Desktop\\\\ml_new\\\\ml_project\\\\process_and_load\\\\processed_images\\\\\""
   ]
  },
  {
   "cell_type": "code",
   "execution_count": null,
   "id": "0329428e-ee21-453d-b652-e41a688962ce",
   "metadata": {},
   "outputs": [],
   "source": [
    "photos = os.listdir(path_photos)\n",
    "photos = [x for x in photos if \".jpg\" in x]\n",
    "photos\n",
    "\n",
    "coordinates = {}\n",
    "\n",
    "for p in photos:\n",
    "    try:\n",
    "        image = face.load_image_file(os.path.join(path_photos, p))\n",
    "        face_coordinates = face.face_locations(image)\n",
    "\n",
    "        if face_coordinates:\n",
    "            left, bottom, right, top = face_coordinates[0]\n",
    "            coordinates[p] = face_coordinates[0]\n",
    "            print(str(face_coordinates) + \" \" + p)\n",
    "        else:\n",
    "            print(\"Could not find a face in {p}.\")\n",
    "    except:\n",
    "        print(f\"Error when processing {p} image\")"
   ]
  },
  {
   "cell_type": "code",
   "execution_count": null,
   "id": "c93a49b8-1892-48a9-a3ba-5c48447a0c06",
   "metadata": {},
   "outputs": [],
   "source": [
    "def resize_img(img, resize_to):\n",
    "    old_size = img.shape[:2]\n",
    "\n",
    "    ratio = resize_to / min(old_size)\n",
    "\n",
    "    width = round(img.shape[1] * ratio)\n",
    "    height = round(img.shape[0] * ratio)\n",
    "    dim = (width, height)\n",
    "\n",
    "    resized_img = cv2.resize(img, dim)\n",
    "\n",
    "    delta_w = dim[0] - resize_to\n",
    "    delta_h = dim[1] - resize_to\n",
    "\n",
    "    x1 = delta_w // 2\n",
    "    y1 = delta_h // 2\n",
    "    x2 = x1 + resize_to\n",
    "    y2 = y1 + resize_to\n",
    "\n",
    "\n",
    "    return resized_img[y1:y2, x1:x2]"
   ]
  },
  {
   "cell_type": "code",
   "execution_count": null,
   "id": "8e1f6cad-22f0-49ab-8e51-bc86ece52051",
   "metadata": {},
   "outputs": [],
   "source": [
    "for image, coordinate in coordinates.items():\n",
    "    try:\n",
    "        image_old = cv2.imread(os.path.join(path_photos, image))\n",
    "        image_new = image_old[coordinate[0]:coordinate[2], coordinate[3]:coordinate[1]]\n",
    "        image_new = resize_img(image_new, 224)\n",
    "        cv2.imwrite(os.path.join(path_results, image), image_new)\n",
    "\n",
    "    except Exception as e:\n",
    "        print(e)\n",
    "\n",
    "google_drive_load.main()"
   ]
  }
 ],
 "metadata": {
  "kernelspec": {
   "display_name": "default:Python",
   "language": "python",
   "name": "conda-env-default-py"
  },
  "language_info": {
   "codemirror_mode": {
    "name": "ipython",
    "version": 3
   },
   "file_extension": ".py",
   "mimetype": "text/x-python",
   "name": "python",
   "nbconvert_exporter": "python",
   "pygments_lexer": "ipython3",
   "version": "3.9.13"
  }
 },
 "nbformat": 4,
 "nbformat_minor": 5
}
