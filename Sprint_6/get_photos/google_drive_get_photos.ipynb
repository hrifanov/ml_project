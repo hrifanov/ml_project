{
 "cells": [
  {
   "cell_type": "code",
   "execution_count": 5,
   "id": "8a5cc15b-fc61-466d-82d9-278296502f91",
   "metadata": {},
   "outputs": [],
   "source": [
    "from pydrive2.auth import GoogleAuth\n",
    "from pydrive2.drive import GoogleDrive\n",
    "import os"
   ]
  },
  {
   "cell_type": "code",
   "execution_count": 6,
   "id": "63757666-ac17-4e2d-b32e-4fb6d2c9f2d7",
   "metadata": {},
   "outputs": [],
   "source": [
    "def google_drive_get_photos(drive, save_path):\n",
    "    file_list = drive.ListFile({'q': \"'1hOAGM4vongZKqMc3QtvNEV7UEHlX528f' in parents and trashed=false\"}).GetList()\n",
    "    for file in file_list:\n",
    "        photo = drive.CreateFile({\"id\": file[\"id\"]})\n",
    "        photo.GetContentFile(os.path.join(save_path, file[\"title\"] + \".jpg\"))"
   ]
  },
  {
   "cell_type": "code",
   "execution_count": null,
   "id": "5d0fded7-609e-46cb-8455-70a1b6bfb887",
   "metadata": {},
   "outputs": [
    {
     "name": "stdout",
     "output_type": "stream",
     "text": [
      "Your browser has been opened to visit:\n",
      "\n",
      "    https://accounts.google.com/o/oauth2/auth?client_id=481529144490-lqit98hhm8os6ndli4vid9vek72v055i.apps.googleusercontent.com&redirect_uri=http%3A%2F%2Flocalhost%3A8090%2F&scope=https%3A%2F%2Fwww.googleapis.com%2Fauth%2Fdrive&access_type=online&response_type=code\n",
      "\n"
     ]
    }
   ],
   "source": [
    "gauth = GoogleAuth()\n",
    "gauth.LocalWebserverAuth()\n",
    "drive = GoogleDrive(gauth)\n",
    "\n",
    "google_drive_get_photos(drive, save_path = \"./team_photos_downloaded\")"
   ]
  },
  {
   "cell_type": "code",
   "execution_count": null,
   "id": "069e7db4-2c61-47a2-afcd-48325b8a1813",
   "metadata": {},
   "outputs": [],
   "source": []
  }
 ],
 "metadata": {
  "kernelspec": {
   "display_name": "default:Python",
   "language": "python",
   "name": "conda-env-default-py"
  },
  "language_info": {
   "codemirror_mode": {
    "name": "ipython",
    "version": 3
   },
   "file_extension": ".py",
   "mimetype": "text/x-python",
   "name": "python",
   "nbconvert_exporter": "python",
   "pygments_lexer": "ipython3",
   "version": "3.9.13"
  }
 },
 "nbformat": 4,
 "nbformat_minor": 5
}
