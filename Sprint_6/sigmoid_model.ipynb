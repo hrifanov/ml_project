{
 "cells": [
  {
   "cell_type": "code",
   "execution_count": 97,
   "id": "87b536fa-e294-4e0e-b05a-b5486e6912a4",
   "metadata": {},
   "outputs": [],
   "source": [
    "import pandas as pd\n",
    "import numpy as np\n",
    "import cv2\n",
    "from pathlib import Path\n",
    "import matplotlib.pyplot as plt\n",
    "import seaborn as sn\n",
    "from sklearn.metrics import classification_report\n",
    "from sklearn.metrics import confusion_matrix\n",
    "import time"
   ]
  },
  {
   "cell_type": "code",
   "execution_count": 98,
   "id": "d19be4e7-901d-4a4c-8d69-bf15b5782cf2",
   "metadata": {},
   "outputs": [],
   "source": [
    "import tensorflow as tf\n",
    "from tensorflow.keras import layers\n",
    "from tensorflow.keras.applications import resnet50\n",
    "from tensorflow.keras.models import Model\n",
    "from tensorflow.keras.optimizers import Adam\n",
    "import tensorflow.keras.backend as K\n",
    "from tensorflow.keras.callbacks import TensorBoard, EarlyStopping, ReduceLROnPlateau\n",
    "from tensorflow.keras.utils import plot_model\n",
    "from tensorflow.keras.models import load_model"
   ]
  },
  {
   "cell_type": "markdown",
   "id": "09ae0603-81b8-4ca0-9f13-484032e1df67",
   "metadata": {},
   "source": [
    "### Paths"
   ]
  },
  {
   "cell_type": "code",
   "execution_count": 99,
   "id": "a0952180-18df-4ce0-b4df-718a89e6a10f",
   "metadata": {},
   "outputs": [],
   "source": [
    "celeba_path = Path('../../Dataset/img_celeba_cropped/')\n",
    "celeba_identity_path = Path('../Dataset/celeb_identity_processed.txt')\n",
    "\n",
    "precalculated_pairs_path = Path('../Dataset/pairs_precalculated.csv')"
   ]
  },
  {
   "cell_type": "markdown",
   "id": "679c8a4e-183e-4221-ac80-485bcbdc30d0",
   "metadata": {},
   "source": [
    "### Hyperparameters"
   ]
  },
  {
   "cell_type": "code",
   "execution_count": 134,
   "id": "7dc8ab9a-9690-489e-8018-3f37d53937d0",
   "metadata": {},
   "outputs": [],
   "source": [
    "pair_count = 5000\n",
    "\n",
    "train_size = 0.7\n",
    "\n",
    "network_input_shape = (224, 224, 3)\n",
    "\n",
    "batch_size = 32\n",
    "lr = 1e-4"
   ]
  },
  {
   "cell_type": "markdown",
   "id": "8a13926f-4442-4755-9c6a-5a16b616435a",
   "metadata": {},
   "source": [
    "### a) Creating pairs"
   ]
  },
  {
   "cell_type": "code",
   "execution_count": 135,
   "id": "a9a878a3-a2d8-40f2-a343-a6da36433ba4",
   "metadata": {},
   "outputs": [],
   "source": [
    "df_identity = pd.read_csv(\n",
    "    celeba_identity_path,\n",
    "    sep=\",\",\n",
    "    names=[\"image\", \"identity\"],\n",
    "    header=0,\n",
    "    dtype=str\n",
    ")"
   ]
  },
  {
   "cell_type": "code",
   "execution_count": 136,
   "id": "ba1d9b7a-9d64-4b54-a898-c2a363a27e5b",
   "metadata": {},
   "outputs": [],
   "source": [
    "def create_n_pairs(df_identity, n):\n",
    "    pairs = []\n",
    "\n",
    "    for pair in range(n):\n",
    "        anchor_id = df_identity['identity'].sample(1, replace=True).to_string(index=False)\n",
    "\n",
    "        keepGoing = True\n",
    "        while (keepGoing):\n",
    "            anchor, positive = df_identity.loc[df_identity['identity'] == anchor_id]['image'].sample(2, replace=True)\n",
    "            keepGoing = (anchor == positive)\n",
    "\n",
    "        negative = df_identity.loc[df_identity['identity'] != anchor_id]['image'].sample(1, replace=True).to_string(index=False)\n",
    "\n",
    "        anchor = str(celeba_path) + '/' + anchor\n",
    "        positive = str(celeba_path) + '/' + positive\n",
    "        negative = str(celeba_path) + '/' + negative\n",
    "\n",
    "        pairs.append([anchor, positive, 1])\n",
    "        pairs.append([anchor, negative, 0])\n",
    "\n",
    "    return pd.DataFrame(pairs, columns=['left', 'right', 'label'])"
   ]
  },
  {
   "cell_type": "code",
   "execution_count": 137,
   "id": "b55cdc54-e215-4d0d-8d8c-bee79cd7f28e",
   "metadata": {},
   "outputs": [
    {
     "data": {
      "text/html": [
       "<div>\n",
       "<style scoped>\n",
       "    .dataframe tbody tr th:only-of-type {\n",
       "        vertical-align: middle;\n",
       "    }\n",
       "\n",
       "    .dataframe tbody tr th {\n",
       "        vertical-align: top;\n",
       "    }\n",
       "\n",
       "    .dataframe thead th {\n",
       "        text-align: right;\n",
       "    }\n",
       "</style>\n",
       "<table border=\"1\" class=\"dataframe\">\n",
       "  <thead>\n",
       "    <tr style=\"text-align: right;\">\n",
       "      <th></th>\n",
       "      <th>left</th>\n",
       "      <th>right</th>\n",
       "      <th>label</th>\n",
       "    </tr>\n",
       "  </thead>\n",
       "  <tbody>\n",
       "    <tr>\n",
       "      <th>0</th>\n",
       "      <td>../../Dataset/img_celeba_cropped/122467.jpg</td>\n",
       "      <td>../../Dataset/img_celeba_cropped/046439.jpg</td>\n",
       "      <td>1</td>\n",
       "    </tr>\n",
       "    <tr>\n",
       "      <th>1</th>\n",
       "      <td>../../Dataset/img_celeba_cropped/122467.jpg</td>\n",
       "      <td>../../Dataset/img_celeba_cropped/015062.jpg</td>\n",
       "      <td>0</td>\n",
       "    </tr>\n",
       "    <tr>\n",
       "      <th>2</th>\n",
       "      <td>../../Dataset/img_celeba_cropped/123848.jpg</td>\n",
       "      <td>../../Dataset/img_celeba_cropped/146232.jpg</td>\n",
       "      <td>1</td>\n",
       "    </tr>\n",
       "    <tr>\n",
       "      <th>3</th>\n",
       "      <td>../../Dataset/img_celeba_cropped/123848.jpg</td>\n",
       "      <td>../../Dataset/img_celeba_cropped/185896.jpg</td>\n",
       "      <td>0</td>\n",
       "    </tr>\n",
       "    <tr>\n",
       "      <th>4</th>\n",
       "      <td>../../Dataset/img_celeba_cropped/000542.jpg</td>\n",
       "      <td>../../Dataset/img_celeba_cropped/049234.jpg</td>\n",
       "      <td>1</td>\n",
       "    </tr>\n",
       "  </tbody>\n",
       "</table>\n",
       "</div>"
      ],
      "text/plain": [
       "                                          left  \\\n",
       "0  ../../Dataset/img_celeba_cropped/122467.jpg   \n",
       "1  ../../Dataset/img_celeba_cropped/122467.jpg   \n",
       "2  ../../Dataset/img_celeba_cropped/123848.jpg   \n",
       "3  ../../Dataset/img_celeba_cropped/123848.jpg   \n",
       "4  ../../Dataset/img_celeba_cropped/000542.jpg   \n",
       "\n",
       "                                         right  label  \n",
       "0  ../../Dataset/img_celeba_cropped/046439.jpg      1  \n",
       "1  ../../Dataset/img_celeba_cropped/015062.jpg      0  \n",
       "2  ../../Dataset/img_celeba_cropped/146232.jpg      1  \n",
       "3  ../../Dataset/img_celeba_cropped/185896.jpg      0  \n",
       "4  ../../Dataset/img_celeba_cropped/049234.jpg      1  "
      ]
     },
     "execution_count": 137,
     "metadata": {},
     "output_type": "execute_result"
    }
   ],
   "source": [
    "pairs = create_n_pairs(df_identity, pair_count)\n",
    "pairs.head()"
   ]
  },
  {
   "cell_type": "code",
   "execution_count": 138,
   "id": "c8cf0986-e4a4-4bfb-8ee3-1202c87794f1",
   "metadata": {},
   "outputs": [
    {
     "data": {
      "text/plain": [
       "(10000, 3)"
      ]
     },
     "execution_count": 138,
     "metadata": {},
     "output_type": "execute_result"
    }
   ],
   "source": [
    "pairs.shape"
   ]
  },
  {
   "cell_type": "markdown",
   "id": "a34abdcd-f069-4e77-816a-926748418f79",
   "metadata": {},
   "source": [
    "### b) Loading precalculated pairs from csv"
   ]
  },
  {
   "cell_type": "code",
   "execution_count": 139,
   "id": "62fbcc83-6233-44ed-95dd-9fe7a3b7fd9f",
   "metadata": {},
   "outputs": [],
   "source": [
    "# pairs = pd.read_csv(precalculated_pairs_path, sep=';')\n",
    "# pairs = str(celeba_path) + '/' + triplets\n",
    "\n",
    "# pairs.head()"
   ]
  },
  {
   "cell_type": "code",
   "execution_count": 140,
   "id": "3490f398-90a1-48f6-bd94-aa9fb83fb74b",
   "metadata": {},
   "outputs": [],
   "source": [
    "# pairs = pairs[:pair_count]\n",
    "# pairs.shape"
   ]
  },
  {
   "cell_type": "markdown",
   "id": "aab26a2b-1064-4963-bf04-046939378080",
   "metadata": {},
   "source": [
    "### Visualize triplets"
   ]
  },
  {
   "cell_type": "code",
   "execution_count": 141,
   "id": "679e5e1a-597f-4a41-913e-46302cd5fd84",
   "metadata": {},
   "outputs": [],
   "source": [
    "def visualize_pairs(pairs):\n",
    "    def show(ax, path):\n",
    "        img = cv2.imread(path)\n",
    "\n",
    "        ax.imshow(cv2.cvtColor(img, cv2.COLOR_BGR2RGB))\n",
    "        ax.get_xaxis().set_visible(False)\n",
    "        ax.get_yaxis().set_visible(False)\n",
    "\n",
    "    fig = plt.figure(figsize=(5, 15))\n",
    "\n",
    "    axs = fig.subplots(8, 2)\n",
    "    for i in range(8):\n",
    "        show(axs[i, 0], pairs.iloc[i][0])\n",
    "        show(axs[i, 1], pairs.iloc[i][1])"
   ]
  },
  {
   "cell_type": "code",
   "execution_count": 142,
   "id": "4308da93-dcfa-4d13-94d6-bd3f067f4f62",
   "metadata": {},
   "outputs": [],
   "source": [
    "#visualize_pairs(pairs)"
   ]
  },
  {
   "cell_type": "markdown",
   "id": "f5406fd0-60d2-410c-b50b-5fb852b8c55f",
   "metadata": {},
   "source": [
    "### TF Pipeline"
   ]
  },
  {
   "cell_type": "code",
   "execution_count": 143,
   "id": "1be3c3ce-14c1-4fdc-82d1-d2143aec13ce",
   "metadata": {},
   "outputs": [],
   "source": [
    "def preprocessing(left, right, label):\n",
    "    return (\n",
    "        (convert_to_img(left), convert_to_img(right)),\n",
    "        label_preprocessing(label),\n",
    "    )\n",
    "\n",
    "\n",
    "def convert_to_img(img_path):\n",
    "    img = tf.io.read_file(img_path)\n",
    "    img = tf.image.decode_jpeg(img)\n",
    "    img = resnet50.preprocess_input(img)\n",
    "    return img\n",
    "\n",
    "\n",
    "def label_preprocessing(label):\n",
    "    return tf.cast(label, tf.float32)"
   ]
  },
  {
   "cell_type": "code",
   "execution_count": 144,
   "id": "f015d363-dccd-4b72-ac0e-a2658fc48805",
   "metadata": {},
   "outputs": [],
   "source": [
    "features = tf.data.Dataset.from_tensor_slices(\n",
    "    (pairs['left'].values,\n",
    "     pairs['right'].values,\n",
    "     pairs['label'].values)\n",
    ")\n",
    "\n",
    "dataset = features.map(preprocessing)"
   ]
  },
  {
   "cell_type": "markdown",
   "id": "90c8e1cd-6f39-4adf-b493-d8121fbf39fc",
   "metadata": {},
   "source": [
    "### Test val splits"
   ]
  },
  {
   "cell_type": "code",
   "execution_count": 145,
   "id": "ec4f44c2-4240-42e6-a1f6-484a02ccf4de",
   "metadata": {},
   "outputs": [],
   "source": [
    "train_dataset = dataset.take(round(pairs.shape[0] * train_size))\n",
    "val_dataset = dataset.skip(round(pairs.shape[0] * train_size))"
   ]
  },
  {
   "cell_type": "markdown",
   "id": "33ce2bb0-ca5d-4729-8745-877deecd8b96",
   "metadata": {},
   "source": [
    "### Performance optimization"
   ]
  },
  {
   "cell_type": "code",
   "execution_count": 146,
   "id": "32094b49-2c76-4514-8442-e4a22feb315a",
   "metadata": {},
   "outputs": [],
   "source": [
    "train_dataset = train_dataset \\\n",
    "        .batch(batch_size, num_parallel_calls=tf.data.AUTOTUNE) \\\n",
    "        .prefetch(buffer_size=tf.data.AUTOTUNE) \\\n",
    "        .cache()\n",
    "\n",
    "val_dataset = val_dataset \\\n",
    "        .batch(batch_size, num_parallel_calls=tf.data.AUTOTUNE) \\\n",
    "        .prefetch(buffer_size=tf.data.AUTOTUNE) \\\n",
    "        .cache()"
   ]
  },
  {
   "cell_type": "markdown",
   "id": "c65d75c5-f5b0-4801-8e17-c50e2137f793",
   "metadata": {},
   "source": [
    "# Models"
   ]
  },
  {
   "cell_type": "markdown",
   "id": "0e4b6149-3e7c-4060-bfd9-9e8284b99ea1",
   "metadata": {},
   "source": [
    "### Resnet 50 embedding"
   ]
  },
  {
   "cell_type": "code",
   "execution_count": 147,
   "id": "da0738cd-8b70-4e3f-8fb6-83ee2b9010e7",
   "metadata": {},
   "outputs": [],
   "source": [
    "def resnet_embedding():\n",
    "    input = layers.Input(shape=network_input_shape)\n",
    "\n",
    "    base_cnn = resnet50.ResNet50(\n",
    "        input_tensor=input,\n",
    "        include_top=False,\n",
    "        input_shape=network_input_shape,\n",
    "        weights='imagenet'\n",
    "    )\n",
    "\n",
    "    for layer in base_cnn.layers[0:-3]:\n",
    "        layer.trainable = False\n",
    "\n",
    "    model = layers.Flatten()(base_cnn.output)\n",
    "    \n",
    "    #model = tf.keras.layers.BatchNormalization()(model)\n",
    "\n",
    "    model = layers.Dropout(0.6)(model)\n",
    "    model = layers.Dense(512, activation=\"leaky_relu\")(model)\n",
    "\n",
    "    model = layers.Dense(256)(model)\n",
    "\n",
    "    return Model(input, outputs=model, name='resnet50')"
   ]
  },
  {
   "cell_type": "code",
   "execution_count": 148,
   "id": "2090b438-84de-44bc-b149-1ed7456c0039",
   "metadata": {},
   "outputs": [],
   "source": [
    "embedding = resnet_embedding()\n",
    "\n",
    "left_input = layers.Input(shape=network_input_shape, name=\"left_input\")\n",
    "right_input = layers.Input(shape=network_input_shape, name=\"right_input\")\n",
    "\n",
    "left_tower = embedding(left_input)\n",
    "right_tower = embedding(right_input)\n",
    "\n",
    "merge_layer = layers.Subtract(name=\"subtract_layer\")([left_tower,right_tower])\n",
    "\n",
    "#normal_layer = tf.keras.layers.BatchNormalization()(merge_layer)\n",
    "output_layer = layers.Dense(1, activation=\"sigmoid\")(merge_layer)\n",
    "\n",
    "model = Model([left_input, right_input], output_layer, name=\"siamese_lambda_network\")"
   ]
  },
  {
   "cell_type": "code",
   "execution_count": 149,
   "id": "c3aa6bc2-ac39-405d-bca6-01d1cf489313",
   "metadata": {},
   "outputs": [
    {
     "name": "stdout",
     "output_type": "stream",
     "text": [
      "Model: \"siamese_lambda_network\"\n",
      "__________________________________________________________________________________________________\n",
      " Layer (type)                   Output Shape         Param #     Connected to                     \n",
      "==================================================================================================\n",
      " left_input (InputLayer)        [(None, 224, 224, 3  0           []                               \n",
      "                                )]                                                                \n",
      "                                                                                                  \n",
      " right_input (InputLayer)       [(None, 224, 224, 3  0           []                               \n",
      "                                )]                                                                \n",
      "                                                                                                  \n",
      " resnet50 (Functional)          (None, 256)          75099776    ['left_input[0][0]',             \n",
      "                                                                  'right_input[0][0]']            \n",
      "                                                                                                  \n",
      " subtract_layer (Subtract)      (None, 256)          0           ['resnet50[0][0]',               \n",
      "                                                                  'resnet50[1][0]']               \n",
      "                                                                                                  \n",
      " dense_14 (Dense)               (None, 1)            257         ['subtract_layer[0][0]']         \n",
      "                                                                                                  \n",
      "==================================================================================================\n",
      "Total params: 75,100,033\n",
      "Trainable params: 51,516,417\n",
      "Non-trainable params: 23,583,616\n",
      "__________________________________________________________________________________________________\n"
     ]
    }
   ],
   "source": [
    "model.compile(loss='binary_crossentropy', optimizer=Adam(learning_rate=lr), metrics=['accuracy'])\n",
    "\n",
    "model.summary()"
   ]
  },
  {
   "cell_type": "code",
   "execution_count": 150,
   "id": "ecac0dc2-1395-4f60-9cbd-b44b1011fa22",
   "metadata": {},
   "outputs": [],
   "source": [
    "# plot_model(model, show_shapes=True)"
   ]
  },
  {
   "cell_type": "markdown",
   "id": "9245b822-bba3-44be-b92a-e6dc63e71192",
   "metadata": {},
   "source": [
    "### Callbacks"
   ]
  },
  {
   "cell_type": "code",
   "execution_count": 118,
   "id": "7f5ed54e-7800-4345-9177-85a6f69333ab",
   "metadata": {},
   "outputs": [],
   "source": [
    "tensorboard = TensorBoard(\n",
    "    log_dir=f\"logs/{model.name}_{time.strftime('run_%Y_%m_%d-%H_%M_%S')}\",\n",
    "    # histogram_freq=1,\n",
    "    # embeddings_freq=1,\n",
    ")\n",
    "\n",
    "early_stopping = EarlyStopping(\n",
    "    monitor=\"val_loss\",\n",
    "    patience=10,\n",
    "    restore_best_weights=True,\n",
    "    verbose=1,\n",
    ")\n",
    "\n",
    "lr_scheduler_reduce = ReduceLROnPlateau(factor=0.5, patience=5)"
   ]
  },
  {
   "cell_type": "code",
   "execution_count": 119,
   "id": "1d9c9091-bf85-43cb-8de5-c54743f38ff3",
   "metadata": {},
   "outputs": [],
   "source": [
    "callbacks_list = [\n",
    "    early_stopping,\n",
    "    lr_scheduler_reduce,\n",
    "]"
   ]
  },
  {
   "cell_type": "code",
   "execution_count": 123,
   "id": "9ace6a8d-fd12-4632-92ad-ee9b7b5cc9d0",
   "metadata": {},
   "outputs": [
    {
     "name": "stdout",
     "output_type": "stream",
     "text": [
      "Epoch 1/10\n",
      "44/44 [==============================] - 24s 535ms/step - loss: 1.1434 - accuracy: 0.7771 - val_loss: 1.5901 - val_accuracy: 0.5133 - lr: 1.0000e-04\n",
      "Epoch 2/10\n",
      "44/44 [==============================] - 23s 512ms/step - loss: 0.1363 - accuracy: 0.9586 - val_loss: 1.4368 - val_accuracy: 0.5000 - lr: 1.0000e-04\n",
      "Epoch 3/10\n",
      "44/44 [==============================] - 23s 503ms/step - loss: 0.0115 - accuracy: 0.9957 - val_loss: 1.4368 - val_accuracy: 0.5167 - lr: 1.0000e-04\n",
      "Epoch 4/10\n",
      "44/44 [==============================] - 16s 349ms/step - loss: 6.0636e-04 - accuracy: 1.0000 - val_loss: 1.4477 - val_accuracy: 0.5067 - lr: 1.0000e-04\n",
      "Epoch 5/10\n",
      "44/44 [==============================] - 20s 442ms/step - loss: 4.5429e-04 - accuracy: 1.0000 - val_loss: 1.4516 - val_accuracy: 0.5100 - lr: 1.0000e-04\n",
      "Epoch 6/10\n",
      "44/44 [==============================] - 14s 321ms/step - loss: 3.7419e-04 - accuracy: 1.0000 - val_loss: 1.4552 - val_accuracy: 0.5100 - lr: 1.0000e-04\n",
      "Epoch 7/10\n",
      "44/44 [==============================] - 14s 310ms/step - loss: 3.1917e-04 - accuracy: 1.0000 - val_loss: 1.4588 - val_accuracy: 0.5100 - lr: 1.0000e-04\n",
      "Epoch 8/10\n",
      "44/44 [==============================] - 14s 311ms/step - loss: 2.8472e-04 - accuracy: 1.0000 - val_loss: 1.4605 - val_accuracy: 0.5100 - lr: 5.0000e-05\n",
      "Epoch 9/10\n",
      "44/44 [==============================] - 14s 313ms/step - loss: 2.6681e-04 - accuracy: 1.0000 - val_loss: 1.4622 - val_accuracy: 0.5100 - lr: 5.0000e-05\n",
      "Epoch 10/10\n",
      "44/44 [==============================] - 14s 311ms/step - loss: 2.5031e-04 - accuracy: 1.0000 - val_loss: 1.4640 - val_accuracy: 0.5100 - lr: 5.0000e-05\n"
     ]
    }
   ],
   "source": [
    "model_fit = model.fit(\n",
    "    train_dataset,\n",
    "    validation_data=val_dataset,\n",
    "    callbacks=callbacks_list,\n",
    "    epochs=10,\n",
    ")"
   ]
  },
  {
   "cell_type": "markdown",
   "id": "28480e4c-7623-4a87-ad3b-2693ba286303",
   "metadata": {},
   "source": [
    "### Save model"
   ]
  },
  {
   "cell_type": "code",
   "execution_count": 124,
   "id": "47bf2bb8-f8b4-4c40-934d-d1e564a34a55",
   "metadata": {},
   "outputs": [],
   "source": [
    "#save_path = 'saved_models'"
   ]
  },
  {
   "cell_type": "markdown",
   "id": "6ef1e287-e831-4e1e-bdee-86de3b129aa4",
   "metadata": {},
   "source": [
    "#### Save whole model"
   ]
  },
  {
   "cell_type": "code",
   "execution_count": 125,
   "id": "7109757e-11f7-424c-8828-94b00ca72115",
   "metadata": {},
   "outputs": [],
   "source": [
    "#model_version = f'{model.name}-{time.strftime(\"%Y%m%d-%H%M%S\")}'\n",
    "\n",
    "#model_path = f'{save_path}/{model_version}'\n",
    "#model.save(model_path)\n",
    "#model.save_weights(\"model_path\")"
   ]
  },
  {
   "cell_type": "markdown",
   "id": "c6fd930c-68a7-4dbe-a900-dcdbadd5c0e5",
   "metadata": {},
   "source": [
    "#### Saving just the embedding for predictions"
   ]
  },
  {
   "cell_type": "code",
   "execution_count": 126,
   "id": "a0ebc4ae-64b4-49cc-80f9-152cfcc60b95",
   "metadata": {},
   "outputs": [],
   "source": [
    "#model_version = f'embedding-{model.name}-{time.strftime(\"%Y%m%d-%H%M%S\")}'\n",
    "\n",
    "#model_path = f'{save_path}/{model_version}'\n",
    "#embedding.save(model_path, include_optimizer=False)\n",
    "#embedding.save_weights(\"model_path\")"
   ]
  },
  {
   "cell_type": "code",
   "execution_count": 127,
   "id": "cd87c916-7653-4a18-903f-b5d9c51cc309",
   "metadata": {},
   "outputs": [
    {
     "data": {
      "image/png": "[encoded data removed]",
      "text/plain": [
       "<Figure size 640x480 with 1 Axes>"
      ]
     },
     "metadata": {},
     "output_type": "display_data"
    }
   ],
   "source": [
    "plt.plot(model_fit.history['loss'])\n",
    "plt.plot(model_fit.history['val_loss'])\n",
    "plt.title('Model Loss')\n",
    "plt.ylabel('Loss')\n",
    "plt.xlabel('Epochs')\n",
    "plt.legend(['train', 'validation'])\n",
    "plt.grid()\n",
    "\n",
    "plt.show()"
   ]
  },
  {
   "cell_type": "markdown",
   "id": "0e360b7e-1def-43a8-a303-2a9a5b7c0265",
   "metadata": {},
   "source": [
    "### Tensorboard"
   ]
  },
  {
   "cell_type": "code",
   "execution_count": 128,
   "id": "e1748ca2-f608-42ff-b9cf-4801084adfe8",
   "metadata": {},
   "outputs": [],
   "source": [
    "# %load_ext tensorboard\n",
    "# %tensorboard --logdir=logs"
   ]
  },
  {
   "cell_type": "code",
   "execution_count": 129,
   "id": "d7cf7f56-5296-48dd-9063-e677752cbaa4",
   "metadata": {},
   "outputs": [],
   "source": [
    "pairs = create_n_pairs(df_identity, 500)"
   ]
  },
  {
   "cell_type": "code",
   "execution_count": 130,
   "id": "47e7d2e2-e320-4573-839f-057d77c17a5b",
   "metadata": {},
   "outputs": [
    {
     "data": {
      "text/html": [
       "<div>\n",
       "<style scoped>\n",
       "    .dataframe tbody tr th:only-of-type {\n",
       "        vertical-align: middle;\n",
       "    }\n",
       "\n",
       "    .dataframe tbody tr th {\n",
       "        vertical-align: top;\n",
       "    }\n",
       "\n",
       "    .dataframe thead th {\n",
       "        text-align: right;\n",
       "    }\n",
       "</style>\n",
       "<table border=\"1\" class=\"dataframe\">\n",
       "  <thead>\n",
       "    <tr style=\"text-align: right;\">\n",
       "      <th></th>\n",
       "      <th>left</th>\n",
       "      <th>right</th>\n",
       "      <th>label</th>\n",
       "    </tr>\n",
       "  </thead>\n",
       "  <tbody>\n",
       "    <tr>\n",
       "      <th>0</th>\n",
       "      <td>../../Dataset/img_celeba_cropped/180492.jpg</td>\n",
       "      <td>../../Dataset/img_celeba_cropped/179757.jpg</td>\n",
       "      <td>1</td>\n",
       "    </tr>\n",
       "    <tr>\n",
       "      <th>1</th>\n",
       "      <td>../../Dataset/img_celeba_cropped/180492.jpg</td>\n",
       "      <td>../../Dataset/img_celeba_cropped/108138.jpg</td>\n",
       "      <td>0</td>\n",
       "    </tr>\n",
       "    <tr>\n",
       "      <th>2</th>\n",
       "      <td>../../Dataset/img_celeba_cropped/087549.jpg</td>\n",
       "      <td>../../Dataset/img_celeba_cropped/007688.jpg</td>\n",
       "      <td>1</td>\n",
       "    </tr>\n",
       "    <tr>\n",
       "      <th>3</th>\n",
       "      <td>../../Dataset/img_celeba_cropped/087549.jpg</td>\n",
       "      <td>../../Dataset/img_celeba_cropped/111481.jpg</td>\n",
       "      <td>0</td>\n",
       "    </tr>\n",
       "    <tr>\n",
       "      <th>4</th>\n",
       "      <td>../../Dataset/img_celeba_cropped/180067.jpg</td>\n",
       "      <td>../../Dataset/img_celeba_cropped/178895.jpg</td>\n",
       "      <td>1</td>\n",
       "    </tr>\n",
       "    <tr>\n",
       "      <th>5</th>\n",
       "      <td>../../Dataset/img_celeba_cropped/180067.jpg</td>\n",
       "      <td>../../Dataset/img_celeba_cropped/123174.jpg</td>\n",
       "      <td>0</td>\n",
       "    </tr>\n",
       "  </tbody>\n",
       "</table>\n",
       "</div>"
      ],
      "text/plain": [
       "                                          left  \\\n",
       "0  ../../Dataset/img_celeba_cropped/180492.jpg   \n",
       "1  ../../Dataset/img_celeba_cropped/180492.jpg   \n",
       "2  ../../Dataset/img_celeba_cropped/087549.jpg   \n",
       "3  ../../Dataset/img_celeba_cropped/087549.jpg   \n",
       "4  ../../Dataset/img_celeba_cropped/180067.jpg   \n",
       "5  ../../Dataset/img_celeba_cropped/180067.jpg   \n",
       "\n",
       "                                         right  label  \n",
       "0  ../../Dataset/img_celeba_cropped/179757.jpg      1  \n",
       "1  ../../Dataset/img_celeba_cropped/108138.jpg      0  \n",
       "2  ../../Dataset/img_celeba_cropped/007688.jpg      1  \n",
       "3  ../../Dataset/img_celeba_cropped/111481.jpg      0  \n",
       "4  ../../Dataset/img_celeba_cropped/178895.jpg      1  \n",
       "5  ../../Dataset/img_celeba_cropped/123174.jpg      0  "
      ]
     },
     "execution_count": 130,
     "metadata": {},
     "output_type": "execute_result"
    }
   ],
   "source": [
    "pairs.head(6)"
   ]
  },
  {
   "cell_type": "code",
   "execution_count": 131,
   "id": "232b2ac3-b11f-451d-82b2-488551b30c89",
   "metadata": {},
   "outputs": [],
   "source": [
    "def create_singular_dataset(feature):\n",
    "    dataset = tf.data.Dataset.from_tensor_slices(feature.values)\n",
    "    dataset = dataset.map(convert_to_img)\n",
    "    dataset = dataset.batch(batch_size, num_parallel_calls=tf.data.AUTOTUNE)\n",
    "\n",
    "    return dataset"
   ]
  },
  {
   "cell_type": "code",
   "execution_count": 132,
   "id": "ee752abe-e877-46f8-81fe-eee317e5392f",
   "metadata": {},
   "outputs": [],
   "source": [
    "test_ds_left = create_singular_dataset(pairs['left'])\n",
    "test_ds_right = create_singular_dataset(pairs['right'])\n",
    "test_labels = pairs['label']"
   ]
  },
  {
   "cell_type": "code",
   "execution_count": 133,
   "id": "b1881579-1cf5-4e30-9881-daeb700ba524",
   "metadata": {},
   "outputs": [
    {
     "ename": "ValueError",
     "evalue": "Failed to find data adapter that can handle input: (<class 'list'> containing values of types {\"<class 'tensorflow.python.data.ops.dataset_ops.ParallelBatchDataset'>\"}), <class 'NoneType'>",
     "output_type": "error",
     "traceback": [
      "\u001b[0;31m---------------------------------------------------------------------------\u001b[0m",
      "\u001b[0;31mValueError\u001b[0m                                Traceback (most recent call last)",
      "Cell \u001b[0;32mIn[133], line 1\u001b[0m\n\u001b[0;32m----> 1\u001b[0m y_pred \u001b[38;5;241m=\u001b[39m \u001b[43mmodel\u001b[49m\u001b[38;5;241;43m.\u001b[39;49m\u001b[43mpredict\u001b[49m\u001b[43m(\u001b[49m\u001b[43m[\u001b[49m\u001b[43mtest_ds_left\u001b[49m\u001b[43m,\u001b[49m\u001b[43m \u001b[49m\u001b[43mtest_ds_right\u001b[49m\u001b[43m]\u001b[49m\u001b[43m)\u001b[49m\n",
      "File \u001b[0;32m~/miniforge3/envs/my_env/lib/python3.10/site-packages/keras/utils/traceback_utils.py:67\u001b[0m, in \u001b[0;36mfilter_traceback.<locals>.error_handler\u001b[0;34m(*args, **kwargs)\u001b[0m\n\u001b[1;32m     65\u001b[0m \u001b[38;5;28;01mexcept\u001b[39;00m \u001b[38;5;167;01mException\u001b[39;00m \u001b[38;5;28;01mas\u001b[39;00m e:  \u001b[38;5;66;03m# pylint: disable=broad-except\u001b[39;00m\n\u001b[1;32m     66\u001b[0m   filtered_tb \u001b[38;5;241m=\u001b[39m _process_traceback_frames(e\u001b[38;5;241m.\u001b[39m__traceback__)\n\u001b[0;32m---> 67\u001b[0m   \u001b[38;5;28;01mraise\u001b[39;00m e\u001b[38;5;241m.\u001b[39mwith_traceback(filtered_tb) \u001b[38;5;28;01mfrom\u001b[39;00m \u001b[38;5;28mNone\u001b[39m\n\u001b[1;32m     68\u001b[0m \u001b[38;5;28;01mfinally\u001b[39;00m:\n\u001b[1;32m     69\u001b[0m   \u001b[38;5;28;01mdel\u001b[39;00m filtered_tb\n",
      "File \u001b[0;32m~/miniforge3/envs/my_env/lib/python3.10/site-packages/keras/engine/data_adapter.py:985\u001b[0m, in \u001b[0;36mselect_data_adapter\u001b[0;34m(x, y)\u001b[0m\n\u001b[1;32m    982\u001b[0m adapter_cls \u001b[38;5;241m=\u001b[39m [\u001b[38;5;28mcls\u001b[39m \u001b[38;5;28;01mfor\u001b[39;00m \u001b[38;5;28mcls\u001b[39m \u001b[38;5;129;01min\u001b[39;00m ALL_ADAPTER_CLS \u001b[38;5;28;01mif\u001b[39;00m \u001b[38;5;28mcls\u001b[39m\u001b[38;5;241m.\u001b[39mcan_handle(x, y)]\n\u001b[1;32m    983\u001b[0m \u001b[38;5;28;01mif\u001b[39;00m \u001b[38;5;129;01mnot\u001b[39;00m adapter_cls:\n\u001b[1;32m    984\u001b[0m   \u001b[38;5;66;03m# TODO(scottzhu): This should be a less implementation-specific error.\u001b[39;00m\n\u001b[0;32m--> 985\u001b[0m   \u001b[38;5;28;01mraise\u001b[39;00m \u001b[38;5;167;01mValueError\u001b[39;00m(\n\u001b[1;32m    986\u001b[0m       \u001b[38;5;124m\"\u001b[39m\u001b[38;5;124mFailed to find data adapter that can handle \u001b[39m\u001b[38;5;124m\"\u001b[39m\n\u001b[1;32m    987\u001b[0m       \u001b[38;5;124m\"\u001b[39m\u001b[38;5;124minput: \u001b[39m\u001b[38;5;132;01m{}\u001b[39;00m\u001b[38;5;124m, \u001b[39m\u001b[38;5;132;01m{}\u001b[39;00m\u001b[38;5;124m\"\u001b[39m\u001b[38;5;241m.\u001b[39mformat(\n\u001b[1;32m    988\u001b[0m           _type_name(x), _type_name(y)))\n\u001b[1;32m    989\u001b[0m \u001b[38;5;28;01melif\u001b[39;00m \u001b[38;5;28mlen\u001b[39m(adapter_cls) \u001b[38;5;241m>\u001b[39m \u001b[38;5;241m1\u001b[39m:\n\u001b[1;32m    990\u001b[0m   \u001b[38;5;28;01mraise\u001b[39;00m \u001b[38;5;167;01mRuntimeError\u001b[39;00m(\n\u001b[1;32m    991\u001b[0m       \u001b[38;5;124m\"\u001b[39m\u001b[38;5;124mData adapters should be mutually exclusive for \u001b[39m\u001b[38;5;124m\"\u001b[39m\n\u001b[1;32m    992\u001b[0m       \u001b[38;5;124m\"\u001b[39m\u001b[38;5;124mhandling inputs. Found multiple adapters \u001b[39m\u001b[38;5;132;01m{}\u001b[39;00m\u001b[38;5;124m to handle \u001b[39m\u001b[38;5;124m\"\u001b[39m\n\u001b[1;32m    993\u001b[0m       \u001b[38;5;124m\"\u001b[39m\u001b[38;5;124minput: \u001b[39m\u001b[38;5;132;01m{}\u001b[39;00m\u001b[38;5;124m, \u001b[39m\u001b[38;5;132;01m{}\u001b[39;00m\u001b[38;5;124m\"\u001b[39m\u001b[38;5;241m.\u001b[39mformat(\n\u001b[1;32m    994\u001b[0m           adapter_cls, _type_name(x), _type_name(y)))\n",
      "\u001b[0;31mValueError\u001b[0m: Failed to find data adapter that can handle input: (<class 'list'> containing values of types {\"<class 'tensorflow.python.data.ops.dataset_ops.ParallelBatchDataset'>\"}), <class 'NoneType'>"
     ]
    }
   ],
   "source": [
    "y_pred = model.predict([test_ds_left, test_ds_right])"
   ]
  },
  {
   "cell_type": "code",
   "execution_count": null,
   "id": "a432cbf4-f86a-4079-9c99-ca2894fe46fd",
   "metadata": {},
   "outputs": [],
   "source": [
    "test_accuracy, y_pred = compute_accuracy(test_labels, y_pred, cutoff)\n",
    "print(f'Accuracy: {test_accuracy*100:.2f}%')"
   ]
  },
  {
   "cell_type": "code",
   "execution_count": null,
   "id": "1737b04d-9958-4f00-8d59-282bbbc96ce5",
   "metadata": {},
   "outputs": [],
   "source": [
    "c_matrix = confusion_matrix(y_pred, test_labels, labels=[1, 0])\n",
    "c_matrix_df = pd.DataFrame(c_matrix, index=[\"TP\", \"FN\"], columns=[\"FP\", \"TN\"])\n",
    "plt.figure(figsize=(10, 7))\n",
    "sn.heatmap(c_matrix_df, cmap=\"Greens\", annot=True,\n",
    "           annot_kws={'fontsize': 20, 'fontweight': 'bold', 'alpha': 0.6},\n",
    "           fmt='g')"
   ]
  },
  {
   "cell_type": "code",
   "execution_count": null,
   "id": "9a7dd71c-f0c3-43a8-9f03-3b4c3d88c9d5",
   "metadata": {},
   "outputs": [],
   "source": [
    "report = classification_report(y_pred, test_labels)\n",
    "print(report)"
   ]
  },
  {
   "cell_type": "code",
   "execution_count": null,
   "id": "6f4ca1af-6062-4105-86fa-3998a67a462f",
   "metadata": {},
   "outputs": [],
   "source": [
    "def visualize(pairs, labels, to_show=6, num_col=3, predictions=None, test=False):\n",
    "\n",
    "    num_row = to_show // num_col if to_show // num_col != 0 else 1\n",
    "\n",
    "    to_show = num_row * num_col\n",
    "\n",
    "    fig, axes = plt.subplots(num_row, num_col, figsize=(5, 5))\n",
    "    for i in range(to_show):\n",
    "\n",
    "        if num_row == 1:\n",
    "            ax = axes[i % num_col]\n",
    "        else:\n",
    "            ax = axes[i // num_col, i % num_col]\n",
    "\n",
    "        ax.imshow(tf.concat([cv2.cvtColor(cv2.imread(pairs[\"left\"].iloc[i]), cv2.COLOR_BGR2RGB), cv2.cvtColor(cv2.imread(pairs[\"right\"].iloc[i]), cv2.COLOR_BGR2RGB)], axis=1), cmap=\"gray\")\n",
    "        ax.set_axis_off()\n",
    "        if test:\n",
    "            ax.set_title(\"True: {} | Pred: {:.5f}\".format(labels[\"label\"].iloc[i], predictions[i][0]))\n",
    "        else:\n",
    "            ax.set_title(\"Label: {}\".format(labels[i]))\n",
    "    if test:\n",
    "        plt.tight_layout(rect=(0, 0, 1.9, 1.9), w_pad=0.0)\n",
    "    else:\n",
    "        plt.tight_layout(rect=(0, 0, 1.5, 1.5))\n",
    "    plt.show()"
   ]
  },
  {
   "cell_type": "code",
   "execution_count": null,
   "id": "548ab46b-c575-412e-9e02-859cecf7234f",
   "metadata": {},
   "outputs": [],
   "source": [
    "visualize(pairs, test_labels, to_show=9, num_col=3, predictions=predictions, test=True)"
   ]
  }
 ],
 "metadata": {
  "kernelspec": {
   "display_name": "Python (my_env)",
   "language": "python",
   "name": "my_env"
  },
  "language_info": {
   "codemirror_mode": {
    "name": "ipython",
    "version": 3
   },
   "file_extension": ".py",
   "mimetype": "text/x-python",
   "name": "python",
   "nbconvert_exporter": "python",
   "pygments_lexer": "ipython3",
   "version": "3.10.8"
  }
 },
 "nbformat": 4,
 "nbformat_minor": 5
}
