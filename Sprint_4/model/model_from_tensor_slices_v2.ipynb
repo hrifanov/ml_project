{
 "cells": [
  {
   "cell_type": "code",
   "execution_count": 460,
   "metadata": {},
   "outputs": [],
   "source": [
    "from tensorflow.keras import layers\n",
    "from tensorflow.keras.applications import ResNet50\n",
    "from tensorflow.keras.utils import plot_model, image_dataset_from_directory\n",
    "from tensorflow.keras.models import Model\n",
    "from tensorflow.keras.optimizers import Adam\n",
    "from tensorflow import convert_to_tensor\n",
    "import tensorflow.keras.backend as K\n",
    "from matplotlib import pyplot as plt\n",
    "\n",
    "import tensorflow as tf\n",
    "tf.compat.v1.enable_eager_execution()"
   ]
  },
  {
   "cell_type": "code",
   "execution_count": 461,
   "metadata": {},
   "outputs": [],
   "source": [
    "from sklearn.model_selection import train_test_split\n",
    "import pandas as pd\n",
    "import numpy as np\n",
    "import pathlib\n",
    "import cv2\n",
    "import os"
   ]
  },
  {
   "cell_type": "markdown",
   "metadata": {},
   "source": [
    "### Paths"
   ]
  },
  {
   "cell_type": "code",
   "execution_count": 462,
   "metadata": {},
   "outputs": [],
   "source": [
    "images_path = '../../../Dataset/img_celeba_cropped'\n",
    "identity_path = '../../../Dataset/identity_CelebA.txt'\n",
    "attributes_path = '../../../Dataset/list_attr_celeba.txt'"
   ]
  },
  {
   "cell_type": "markdown",
   "metadata": {},
   "source": [
    "### Hyperparameters"
   ]
  },
  {
   "cell_type": "code",
   "execution_count": 463,
   "metadata": {},
   "outputs": [],
   "source": [
    "images_num=500\n",
    "\n",
    "train_size=0.6\n",
    "test_val_proportion=0.5\n",
    "\n",
    "image_shape=(224, 224, 3)\n",
    "\n",
    "batch_size=32\n",
    "lr=0.0001"
   ]
  },
  {
   "cell_type": "markdown",
   "metadata": {},
   "source": [
    "## Creating pairs"
   ]
  },
  {
   "cell_type": "code",
   "execution_count": 464,
   "metadata": {},
   "outputs": [],
   "source": [
    "celeb_identity = pd.read_csv(identity_path, sep = \" \", names=[\"image\", \"identity\"])\n",
    "celeb_identity[\"identity\"] = celeb_identity[\"identity\"].astype(\"string\")\n",
    "\n",
    "celeb_attrs = pd.read_csv(attributes_path, sep = \"\\s+\")"
   ]
  },
  {
   "cell_type": "code",
   "execution_count": 465,
   "metadata": {},
   "outputs": [],
   "source": [
    "def get_balanced_pair(column:str, pairing_column:str, df=celeb_identity):\n",
    "    # getting random identity from the provided column to use for balanced pair\n",
    "    random_id = df[column].sample(1, replace=True).to_string(index=False)\n",
    "    containing_id_list = df.loc[df[column] == random_id][pairing_column].sample(2, replace=True).to_list()\n",
    "    \n",
    "    # random pictures for pair generation\n",
    "    df_without_id = df.loc[df[pairing_column] != random_id]\n",
    "    negative = df[pairing_column].sample(1, replace=False).to_list()\n",
    "    \n",
    "    return [[containing_id_list[0], containing_id_list[1], 1], [containing_id_list[0], negative[0], 0]]"
   ]
  },
  {
   "cell_type": "code",
   "execution_count": 466,
   "metadata": {},
   "outputs": [],
   "source": [
    "balanced_pairs = []\n",
    "\n",
    "for record in range(images_num):\n",
    "    pair = get_balanced_pair(\"identity\", \"image\")\n",
    "    balanced_pairs.append(pair[0])\n",
    "    balanced_pairs.append(pair[1])\n",
    "    \n",
    "df = pd.DataFrame(balanced_pairs, columns =['left', 'right', 'label'])\n",
    "df['left'] = images_path + '/' + df['left']\n",
    "df['right'] = images_path + '/' + df['right']"
   ]
  },
  {
   "cell_type": "code",
   "execution_count": 467,
   "metadata": {},
   "outputs": [
    {
     "data": {
      "text/html": [
       "<div>\n",
       "<style scoped>\n",
       "    .dataframe tbody tr th:only-of-type {\n",
       "        vertical-align: middle;\n",
       "    }\n",
       "\n",
       "    .dataframe tbody tr th {\n",
       "        vertical-align: top;\n",
       "    }\n",
       "\n",
       "    .dataframe thead th {\n",
       "        text-align: right;\n",
       "    }\n",
       "</style>\n",
       "<table border=\"1\" class=\"dataframe\">\n",
       "  <thead>\n",
       "    <tr style=\"text-align: right;\">\n",
       "      <th></th>\n",
       "      <th>left</th>\n",
       "      <th>right</th>\n",
       "      <th>label</th>\n",
       "    </tr>\n",
       "  </thead>\n",
       "  <tbody>\n",
       "    <tr>\n",
       "      <th>0</th>\n",
       "      <td>../../../Dataset/img_celeba_cropped/042266.jpg</td>\n",
       "      <td>../../../Dataset/img_celeba_cropped/009573.jpg</td>\n",
       "      <td>1</td>\n",
       "    </tr>\n",
       "    <tr>\n",
       "      <th>1</th>\n",
       "      <td>../../../Dataset/img_celeba_cropped/042266.jpg</td>\n",
       "      <td>../../../Dataset/img_celeba_cropped/187245.jpg</td>\n",
       "      <td>0</td>\n",
       "    </tr>\n",
       "    <tr>\n",
       "      <th>2</th>\n",
       "      <td>../../../Dataset/img_celeba_cropped/185589.jpg</td>\n",
       "      <td>../../../Dataset/img_celeba_cropped/197629.jpg</td>\n",
       "      <td>1</td>\n",
       "    </tr>\n",
       "    <tr>\n",
       "      <th>3</th>\n",
       "      <td>../../../Dataset/img_celeba_cropped/185589.jpg</td>\n",
       "      <td>../../../Dataset/img_celeba_cropped/045294.jpg</td>\n",
       "      <td>0</td>\n",
       "    </tr>\n",
       "    <tr>\n",
       "      <th>4</th>\n",
       "      <td>../../../Dataset/img_celeba_cropped/114275.jpg</td>\n",
       "      <td>../../../Dataset/img_celeba_cropped/052910.jpg</td>\n",
       "      <td>1</td>\n",
       "    </tr>\n",
       "  </tbody>\n",
       "</table>\n",
       "</div>"
      ],
      "text/plain": [
       "                                             left  \\\n",
       "0  ../../../Dataset/img_celeba_cropped/042266.jpg   \n",
       "1  ../../../Dataset/img_celeba_cropped/042266.jpg   \n",
       "2  ../../../Dataset/img_celeba_cropped/185589.jpg   \n",
       "3  ../../../Dataset/img_celeba_cropped/185589.jpg   \n",
       "4  ../../../Dataset/img_celeba_cropped/114275.jpg   \n",
       "\n",
       "                                            right  label  \n",
       "0  ../../../Dataset/img_celeba_cropped/009573.jpg      1  \n",
       "1  ../../../Dataset/img_celeba_cropped/187245.jpg      0  \n",
       "2  ../../../Dataset/img_celeba_cropped/197629.jpg      1  \n",
       "3  ../../../Dataset/img_celeba_cropped/045294.jpg      0  \n",
       "4  ../../../Dataset/img_celeba_cropped/052910.jpg      1  "
      ]
     },
     "execution_count": 467,
     "metadata": {},
     "output_type": "execute_result"
    }
   ],
   "source": [
    "df.shape\n",
    "df.head()"
   ]
  },
  {
   "cell_type": "markdown",
   "metadata": {},
   "source": [
    "### Create test train val split"
   ]
  },
  {
   "cell_type": "code",
   "execution_count": 468,
   "metadata": {},
   "outputs": [],
   "source": [
    "X_train, X_rem, y_train, y_rem = train_test_split(df.iloc[:,:-1], df.iloc[:,-1:], train_size=train_size, random_state = 101, shuffle=True)\n",
    "\n",
    "X_val, X_test, y_val, y_test = train_test_split(X_rem,y_rem, test_size=test_val_proportion)"
   ]
  },
  {
   "cell_type": "code",
   "execution_count": 469,
   "metadata": {},
   "outputs": [
    {
     "name": "stdout",
     "output_type": "stream",
     "text": [
      "=====Training=====\n",
      "(600, 2)\n",
      "(600, 1)\n",
      "=====Validation=====\n",
      "(200, 2)\n",
      "(200, 1)\n",
      "=====Testing=====\n",
      "(200, 2)\n",
      "(200, 1)\n"
     ]
    }
   ],
   "source": [
    "print('=====Training=====')\n",
    "print(X_train.shape)\n",
    "print(y_train.shape)\n",
    "\n",
    "print('=====Validation=====')\n",
    "print(X_val.shape)\n",
    "print(y_val.shape)\n",
    "\n",
    "print('=====Testing=====')\n",
    "print(X_test.shape)\n",
    "print(y_val.shape)"
   ]
  },
  {
   "cell_type": "markdown",
   "metadata": {},
   "source": [
    "### Loading pairs into TF Dataset"
   ]
  },
  {
   "cell_type": "code",
   "execution_count": 470,
   "metadata": {},
   "outputs": [],
   "source": [
    "def preprocessing(left, right):\n",
    "    return convert_to_img(left), convert_to_img(right)\n",
    "\n",
    "\n",
    "def convert_to_img(img_path):\n",
    "    img = tf.io.read_file(img_path)\n",
    "    img = tf.image.decode_jpeg(img)\n",
    "    img = tf.image.convert_image_dtype(img, tf.float32)\n",
    "    #img = tf.image.per_image_standardization(img)\n",
    "    #img = tf.expand_dims(img, axis=0)\n",
    "    img = tf.reshape(img,(224,224,3))\n",
    "    return img\n",
    "\n",
    "def label_preprocessing(label):\n",
    "    return tf.cast(label, tf.float32)"
   ]
  },
  {
   "cell_type": "code",
   "execution_count": 471,
   "metadata": {},
   "outputs": [],
   "source": [
    "def create_dataset(features, labels):\n",
    "    feature_ds = tf.data.Dataset.from_tensor_slices((features['left'].values, features['right'].values))\n",
    "    labels_ds = tf.data.Dataset.from_tensor_slices(labels.values)\n",
    "    \n",
    "    feature_ds = feature_ds.map(preprocessing)\n",
    "    labels_ds = labels_ds.map(label_preprocessing)\n",
    "    \n",
    "    dataset = tf.data.Dataset.zip((feature_ds, labels_ds))\n",
    "    dataset = dataset.batch(batch_size, num_parallel_calls=tf.data.AUTOTUNE)\n",
    "    dataset = dataset.cache().prefetch(buffer_size=tf.data.AUTOTUNE)\n",
    "    \n",
    "    return dataset\n",
    "\n",
    "def create_dataset_no_labels(features):\n",
    "    feature_ds = tf.data.Dataset.from_tensor_slices((features['left'].values, features['right'].values))\n",
    "    feature_ds = feature_ds.map(preprocessing)\n",
    "    \n",
    "    feature_ds = feature_ds.batch(batch_size, num_parallel_calls=tf.data.AUTOTUNE)\n",
    "    feature_ds = feature_ds.cache().prefetch(buffer_size=tf.data.AUTOTUNE)\n",
    "    \n",
    "    return feature_ds\n",
    "\n",
    "def create_singular_dataset(feature):\n",
    "    dataset = tf.data.Dataset.from_tensor_slices(feature.values)\n",
    "    dataset = dataset.map(convert_to_img)\n",
    "    dataset = dataset.batch(batch_size, num_parallel_calls=tf.data.AUTOTUNE)\n",
    "    dataset = dataset.cache().prefetch(buffer_size=tf.data.AUTOTUNE)\n",
    "    \n",
    "    return dataset"
   ]
  },
  {
   "cell_type": "code",
   "execution_count": 472,
   "metadata": {},
   "outputs": [],
   "source": [
    "train_ds = create_dataset(X_train, y_train)\n",
    "val_ds = create_dataset(X_val, y_val)"
   ]
  },
  {
   "cell_type": "markdown",
   "metadata": {},
   "source": [
    "## NN model"
   ]
  },
  {
   "cell_type": "code",
   "execution_count": 473,
   "metadata": {},
   "outputs": [],
   "source": [
    "left_input = layers.Input(shape=(224, 224, 3), name='left_input')\n",
    "right_input = layers.Input(shape=(224, 224, 3), name='right_input')"
   ]
  },
  {
   "cell_type": "markdown",
   "metadata": {},
   "source": [
    "### ResNet50 model"
   ]
  },
  {
   "cell_type": "code",
   "execution_count": 474,
   "metadata": {},
   "outputs": [],
   "source": [
    "def resnet_network():\n",
    "    input = layers.Input(shape=(224, 224, 3))\n",
    "    \n",
    "    resnet=ResNet50(\n",
    "        input_tensor=input,\n",
    "        include_top=False,\n",
    "        input_shape=image_shape,\n",
    "        pooling='avg',\n",
    "        weights='imagenet',\n",
    "        classes=2)\n",
    "\n",
    "    for layer in resnet.layers[0:-1]:\n",
    "        layer.trainable = False\n",
    "\n",
    "    return Model(input, outputs=resnet.output, name='resnet50')"
   ]
  },
  {
   "cell_type": "code",
   "execution_count": 475,
   "metadata": {},
   "outputs": [],
   "source": [
    "def base_network():\n",
    "    input = layers.Input(shape=(224, 224, 3))\n",
    "    x = layers.Flatten()(input)\n",
    "\n",
    "    x = layers.Dense(512, activation='relu')(x)\n",
    "    x = layers.Dense(512, activation='relu')(x)\n",
    "    x = layers.Dense(128, activation='relu')(x)\n",
    "\n",
    "    return Model(inputs=input, outputs=x, name='base_network')"
   ]
  },
  {
   "cell_type": "code",
   "execution_count": 476,
   "metadata": {},
   "outputs": [],
   "source": [
    "base_model = base_network()\n",
    "\n",
    "model_left = base_model(left_input)\n",
    "model_right = base_model(right_input)"
   ]
  },
  {
   "cell_type": "markdown",
   "metadata": {},
   "source": [
    "### Merging resnet branches layers"
   ]
  },
  {
   "cell_type": "code",
   "execution_count": 477,
   "metadata": {},
   "outputs": [],
   "source": [
    "def euclidean_distance(vects):\n",
    "    x, y = vects\n",
    "    sum_square = tf.reduce_sum(tf.square(tf.subtract(x, y)), axis=1, keepdims=True)\n",
    "    return tf.sqrt(tf.maximum(sum_square, K.epsilon()))"
   ]
  },
  {
   "cell_type": "code",
   "execution_count": 478,
   "metadata": {},
   "outputs": [],
   "source": [
    "#merged = layers.subtract([model_left.output, model_right.output])\n",
    "model = layers.Lambda(euclidean_distance, name=\"merge\")([model_left, model_right])\n",
    "\n",
    "#model = layers.Flatten()(model)\n",
    "\n",
    "#model = layers.Dense(256, activation='relu')(model)\n",
    "#model = layers.Dropout(.2)(model)\n",
    "\n",
    "#model = layers.Dense(32, activation='relu')(model)\n",
    "\n",
    "#model = layers.Dense(1, activation='sigmoid')(model)\n",
    "\n",
    "model = Model(inputs = [left_input, right_input], outputs = model)"
   ]
  },
  {
   "cell_type": "code",
   "execution_count": 479,
   "metadata": {},
   "outputs": [],
   "source": [
    "# margin is a parametr settable by developer\n",
    "def contrastive_loss_with_margin(margin):\n",
    "    def contrastive_loss(y_true, y_pred):\n",
    "        '''Contrastive loss from Hadsell-et-al.'06\n",
    "        http://yann.lecun.com/exdb/publis/pdf/hadsell-chopra-lecun-06.pdf\n",
    "        '''\n",
    "        square_pred = tf.square(y_pred)\n",
    "        margin_square = tf.square(tf.maximum(margin - y_pred, 0))\n",
    "        return (y_true * square_pred + (1 - y_true) * margin_square)    \n",
    "    return contrastive_loss"
   ]
  },
  {
   "cell_type": "code",
   "execution_count": 480,
   "metadata": {},
   "outputs": [],
   "source": [
    "model.compile(optimizer=Adam(learning_rate=lr), loss=contrastive_loss_with_margin(margin=1.0), metrics=['accuracy'])"
   ]
  },
  {
   "cell_type": "code",
   "execution_count": 481,
   "metadata": {},
   "outputs": [
    {
     "data": {
      "image/png": "[encoded data removed]",
      "text/plain": [
       "<IPython.core.display.Image object>"
      ]
     },
     "execution_count": 481,
     "metadata": {},
     "output_type": "execute_result"
    }
   ],
   "source": [
    "plot_model(model, show_shapes=True)\n",
    "#model.summary()"
   ]
  },
  {
   "cell_type": "code",
   "execution_count": 482,
   "metadata": {},
   "outputs": [
    {
     "name": "stdout",
     "output_type": "stream",
     "text": [
      "Epoch 1/4\n"
     ]
    },
    {
     "name": "stderr",
     "output_type": "stream",
     "text": [
      "2022-11-27 17:33:17.750502: I tensorflow/core/grappler/optimizers/custom_graph_optimizer_registry.cc:114] Plugin optimizer for device_type GPU is enabled.\n"
     ]
    },
    {
     "name": "stdout",
     "output_type": "stream",
     "text": [
      "19/19 [==============================] - ETA: 0s - loss: 2.3876 - accuracy: 0.4867"
     ]
    },
    {
     "name": "stderr",
     "output_type": "stream",
     "text": [
      "2022-11-27 17:33:21.948155: I tensorflow/core/grappler/optimizers/custom_graph_optimizer_registry.cc:114] Plugin optimizer for device_type GPU is enabled.\n"
     ]
    },
    {
     "name": "stdout",
     "output_type": "stream",
     "text": [
      "19/19 [==============================] - 5s 251ms/step - loss: 2.3876 - accuracy: 0.4867 - val_loss: 0.4393 - val_accuracy: 0.4500\n",
      "Epoch 2/4\n",
      "19/19 [==============================] - 4s 208ms/step - loss: 0.4123 - accuracy: 0.4400 - val_loss: 0.3795 - val_accuracy: 0.4050\n",
      "Epoch 3/4\n",
      "19/19 [==============================] - 4s 206ms/step - loss: 0.5038 - accuracy: 0.4683 - val_loss: 0.5316 - val_accuracy: 0.4850\n",
      "Epoch 4/4\n",
      "19/19 [==============================] - 4s 206ms/step - loss: 0.6680 - accuracy: 0.5017 - val_loss: 0.3914 - val_accuracy: 0.4600\n"
     ]
    }
   ],
   "source": [
    "model_fit = model.fit(train_ds, validation_data=val_ds, epochs=4)"
   ]
  },
  {
   "cell_type": "markdown",
   "metadata": {},
   "source": [
    "### Performance metrics"
   ]
  },
  {
   "cell_type": "code",
   "execution_count": 483,
   "metadata": {},
   "outputs": [
    {
     "data": {
      "image/png": "[encoded data removed]",
      "text/plain": [
       "<Figure size 640x480 with 1 Axes>"
      ]
     },
     "metadata": {},
     "output_type": "display_data"
    }
   ],
   "source": [
    "plt.plot(model_fit.history['accuracy'])\n",
    "plt.plot(model_fit.history['val_accuracy'])\n",
    "plt.title('Model Accuracy')\n",
    "plt.ylabel('Accuracy')\n",
    "plt.xlabel('Epochs')\n",
    "plt.legend(['train', 'validation'])\n",
    "plt.axis(ymin=0,ymax=1)\n",
    "plt.grid()\n",
    "\n",
    "plt.show()"
   ]
  },
  {
   "cell_type": "code",
   "execution_count": 484,
   "metadata": {},
   "outputs": [
    {
     "data": {
      "image/png": "[encoded data removed]",
      "text/plain": [
       "<Figure size 640x480 with 1 Axes>"
      ]
     },
     "metadata": {},
     "output_type": "display_data"
    }
   ],
   "source": [
    "plt.plot(model_fit.history['loss'])\n",
    "plt.plot(model_fit.history['val_loss'])\n",
    "plt.title('Model Loss')\n",
    "plt.ylabel('Loss')\n",
    "plt.xlabel('Epochs')\n",
    "plt.legend(['train', 'validation'])\n",
    "plt.axis(ymin=0,ymax=1)\n",
    "plt.grid()\n",
    "\n",
    "plt.show()"
   ]
  },
  {
   "cell_type": "markdown",
   "metadata": {},
   "source": [
    "### Predictions"
   ]
  },
  {
   "cell_type": "code",
   "execution_count": 485,
   "metadata": {},
   "outputs": [],
   "source": [
    "test_ds_left = create_singular_dataset(X_test['left'])\n",
    "test_ds_right = create_singular_dataset(X_test['right'])\n",
    "test_labels = y_test['label']\n",
    "\n",
    "test_ds_full = create_dataset_no_labels(X_test)"
   ]
  },
  {
   "cell_type": "code",
   "execution_count": 486,
   "metadata": {},
   "outputs": [
    {
     "name": "stdout",
     "output_type": "stream",
     "text": [
      "3/7 [===========>..................] - ETA: 0s"
     ]
    },
    {
     "name": "stderr",
     "output_type": "stream",
     "text": [
      "2022-11-27 17:33:34.767712: I tensorflow/core/grappler/optimizers/custom_graph_optimizer_registry.cc:114] Plugin optimizer for device_type GPU is enabled.\n"
     ]
    },
    {
     "name": "stdout",
     "output_type": "stream",
     "text": [
      "7/7 [==============================] - 0s 62ms/step\n",
      "7/7 [==============================] - 0s 55ms/step\n"
     ]
    }
   ],
   "source": [
    "left_image_feature_vectors = base_model.predict(test_ds_left)\n",
    "right_image_feature_vectors = base_model.predict(test_ds_right)"
   ]
  },
  {
   "cell_type": "code",
   "execution_count": 487,
   "metadata": {},
   "outputs": [],
   "source": [
    "positive_left_image_feature_vectors = left_image_feature_vectors[0::2]\n",
    "negative_left_image_feature_vectors = left_image_feature_vectors[1::2]\n",
    "\n",
    "positive_right_image_feature_vectors = right_image_feature_vectors[0::2]\n",
    "negative_right_image_feature_vectors = right_image_feature_vectors[1::2]"
   ]
  },
  {
   "cell_type": "markdown",
   "metadata": {},
   "source": [
    "### Positive distances"
   ]
  },
  {
   "cell_type": "code",
   "execution_count": 488,
   "metadata": {},
   "outputs": [
    {
     "data": {
      "text/plain": [
       "count    100.000000\n",
       "mean       0.554929\n",
       "std        0.440005\n",
       "min        0.000316\n",
       "25%        0.215077\n",
       "50%        0.497165\n",
       "75%        0.838410\n",
       "max        1.929950\n",
       "dtype: float64"
      ]
     },
     "execution_count": 488,
     "metadata": {},
     "output_type": "execute_result"
    }
   ],
   "source": [
    "positive_distances = euclidean_distance((positive_left_image_feature_vectors, positive_right_image_feature_vectors)).numpy().flatten()\n",
    "pd.Series(positive_distances).describe()"
   ]
  },
  {
   "cell_type": "markdown",
   "metadata": {},
   "source": [
    "### Negative distances"
   ]
  },
  {
   "cell_type": "code",
   "execution_count": 489,
   "metadata": {},
   "outputs": [
    {
     "data": {
      "text/plain": [
       "count    100.000000\n",
       "mean       0.651879\n",
       "std        0.511351\n",
       "min        0.000316\n",
       "25%        0.271205\n",
       "50%        0.584234\n",
       "75%        0.908144\n",
       "max        2.087668\n",
       "dtype: float64"
      ]
     },
     "execution_count": 489,
     "metadata": {},
     "output_type": "execute_result"
    }
   ],
   "source": [
    "negative_distances = euclidean_distance((negative_left_image_feature_vectors, negative_right_image_feature_vectors)).numpy().flatten()\n",
    "pd.Series(negative_distances).describe()"
   ]
  },
  {
   "cell_type": "code",
   "execution_count": 490,
   "metadata": {},
   "outputs": [
    {
     "data": {
      "image/png": "[encoded data removed]",
      "text/plain": [
       "<Figure size 640x480 with 1 Axes>"
      ]
     },
     "metadata": {},
     "output_type": "display_data"
    }
   ],
   "source": [
    "fig = plt.figure()\n",
    "ax = fig.add_axes([0,0,1, 1])\n",
    "ax.boxplot([positive_distances, negative_distances])\n",
    "plt.xticks([1, 2], ['Positive', 'Negative'])\n",
    "ax.grid()\n",
    "plt.show()"
   ]
  },
  {
   "cell_type": "code",
   "execution_count": 493,
   "metadata": {},
   "outputs": [],
   "source": [
    "def compute_accuracy(y_true, y_pred):\n",
    "    # 1 for the same - distance is smaller than 0.5, 0 for the different\n",
    "    pred = y_pred.flatten() < 0.55\n",
    "    return np.mean(pred == y_true)"
   ]
  },
  {
   "cell_type": "code",
   "execution_count": 494,
   "metadata": {},
   "outputs": [
    {
     "name": "stdout",
     "output_type": "stream",
     "text": [
      "Test accuracy: 55.00%\n"
     ]
    }
   ],
   "source": [
    "y_pred_test = euclidean_distance((left_image_feature_vectors, right_image_feature_vectors)).numpy().flatten()\n",
    "test_accuracy = compute_accuracy(test_labels, y_pred_test)\n",
    "print(f'Test accuracy: {test_accuracy*100:.2f}%')"
   ]
  },
  {
   "cell_type": "code",
   "execution_count": null,
   "metadata": {},
   "outputs": [],
   "source": []
  }
 ],
 "metadata": {
  "kernelspec": {
   "display_name": "Python (my_env)",
   "language": "python",
   "name": "my_env"
  },
  "language_info": {
   "codemirror_mode": {
    "name": "ipython",
    "version": 3
   },
   "file_extension": ".py",
   "mimetype": "text/x-python",
   "name": "python",
   "nbconvert_exporter": "python",
   "pygments_lexer": "ipython3",
   "version": "3.8.13"
  }
 },
 "nbformat": 4,
 "nbformat_minor": 4
}
