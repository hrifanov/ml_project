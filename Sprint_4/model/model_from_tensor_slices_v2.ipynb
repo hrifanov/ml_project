{
 "cells": [
  {
   "cell_type": "code",
   "execution_count": 2,
   "metadata": {},
   "outputs": [],
   "source": [
    "from tensorflow.keras import layers\n",
    "from tensorflow.keras.applications import ResNet50\n",
    "from tensorflow.keras.utils import plot_model, image_dataset_from_directory\n",
    "from tensorflow.keras.models import Model\n",
    "from tensorflow.keras.optimizers import Adam\n",
    "from tensorflow import convert_to_tensor\n",
    "import tensorflow.keras.backend as K\n",
    "from matplotlib import pyplot as plt\n",
    "\n",
    "import tensorflow as tf\n",
    "tf.compat.v1.enable_eager_execution()"
   ]
  },
  {
   "cell_type": "code",
   "execution_count": 3,
   "metadata": {},
   "outputs": [],
   "source": [
    "from sklearn.model_selection import train_test_split\n",
    "from sklearn.metrics import confusion_matrix\n",
    "import pandas as pd\n",
    "import numpy as np\n",
    "import pathlib\n",
    "import time\n",
    "import cv2\n",
    "import os"
   ]
  },
  {
   "cell_type": "markdown",
   "metadata": {},
   "source": [
    "### Paths"
   ]
  },
  {
   "cell_type": "code",
   "execution_count": 4,
   "metadata": {},
   "outputs": [],
   "source": [
    "images_path = '../../../Dataset/img_celeba_cropped' # all images 224x224\n",
    "identity_path = '../../../Dataset/identity_CelebA.txt'\n",
    "attributes_path = '../../../Dataset/list_attr_celeba.txt'"
   ]
  },
  {
   "cell_type": "markdown",
   "metadata": {},
   "source": [
    "### Hyperparameters"
   ]
  },
  {
   "cell_type": "code",
   "execution_count": 5,
   "metadata": {},
   "outputs": [],
   "source": [
    "pair_num=10000\n",
    "\n",
    "train_size=0.6\n",
    "test_val_proportion=0.5\n",
    "\n",
    "network_input_shape=(224, 224, 3)\n",
    "\n",
    "batch_size=32\n",
    "lr=1e-5 #or 1e-5"
   ]
  },
  {
   "cell_type": "markdown",
   "metadata": {},
   "source": [
    "- 10k\n",
    "- contrastive loss\n",
    "- lr=0.00001\n",
    "- 30 batches\n",
    "- base network"
   ]
  },
  {
   "cell_type": "markdown",
   "metadata": {},
   "source": [
    "## Creating pairs"
   ]
  },
  {
   "cell_type": "code",
   "execution_count": 6,
   "metadata": {},
   "outputs": [],
   "source": [
    "celeb_identity = pd.read_csv(identity_path, sep = \" \", names=[\"image\", \"identity\"])\n",
    "celeb_identity[\"identity\"] = celeb_identity[\"identity\"].astype(\"string\")\n",
    "\n",
    "celeb_attrs = pd.read_csv(attributes_path, sep = \"\\s+\")"
   ]
  },
  {
   "cell_type": "code",
   "execution_count": 7,
   "metadata": {},
   "outputs": [],
   "source": [
    "def get_balanced_pair(column:str, pairing_column:str, df=celeb_identity):\n",
    "    # getting random identity from the provided column to use for balanced pair\n",
    "    random_id = df[column].sample(1, replace=True).to_string(index=False)\n",
    "    containing_id_list = df.loc[df[column] == random_id][pairing_column].sample(2, replace=True).to_list()\n",
    "    \n",
    "    # random pictures for pair generation\n",
    "    df_without_id = df.loc[df[column] != random_id]\n",
    "    negative = df[pairing_column].sample(1).to_list()\n",
    "    \n",
    "    return [[containing_id_list[0], containing_id_list[1], 1], [containing_id_list[0], negative[0], 0]]"
   ]
  },
  {
   "cell_type": "code",
   "execution_count": 8,
   "metadata": {},
   "outputs": [],
   "source": [
    "balanced_pairs = []\n",
    "\n",
    "for record in range(pair_num):\n",
    "    pair = get_balanced_pair(\"identity\", \"image\")\n",
    "    balanced_pairs.append(pair[0])\n",
    "    balanced_pairs.append(pair[1])\n",
    "    \n",
    "df = pd.DataFrame(balanced_pairs, columns =['left', 'right', 'label'])\n",
    "df['left'] = images_path + '/' + df['left']\n",
    "df['right'] = images_path + '/' + df['right']"
   ]
  },
  {
   "cell_type": "code",
   "execution_count": 9,
   "metadata": {},
   "outputs": [
    {
     "data": {
      "text/html": [
       "<div>\n",
       "<style scoped>\n",
       "    .dataframe tbody tr th:only-of-type {\n",
       "        vertical-align: middle;\n",
       "    }\n",
       "\n",
       "    .dataframe tbody tr th {\n",
       "        vertical-align: top;\n",
       "    }\n",
       "\n",
       "    .dataframe thead th {\n",
       "        text-align: right;\n",
       "    }\n",
       "</style>\n",
       "<table border=\"1\" class=\"dataframe\">\n",
       "  <thead>\n",
       "    <tr style=\"text-align: right;\">\n",
       "      <th></th>\n",
       "      <th>left</th>\n",
       "      <th>right</th>\n",
       "      <th>label</th>\n",
       "    </tr>\n",
       "  </thead>\n",
       "  <tbody>\n",
       "    <tr>\n",
       "      <th>0</th>\n",
       "      <td>../../../Dataset/img_celeba_cropped/202139.jpg</td>\n",
       "      <td>../../../Dataset/img_celeba_cropped/186109.jpg</td>\n",
       "      <td>1</td>\n",
       "    </tr>\n",
       "    <tr>\n",
       "      <th>1</th>\n",
       "      <td>../../../Dataset/img_celeba_cropped/202139.jpg</td>\n",
       "      <td>../../../Dataset/img_celeba_cropped/157776.jpg</td>\n",
       "      <td>0</td>\n",
       "    </tr>\n",
       "    <tr>\n",
       "      <th>2</th>\n",
       "      <td>../../../Dataset/img_celeba_cropped/119208.jpg</td>\n",
       "      <td>../../../Dataset/img_celeba_cropped/069223.jpg</td>\n",
       "      <td>1</td>\n",
       "    </tr>\n",
       "    <tr>\n",
       "      <th>3</th>\n",
       "      <td>../../../Dataset/img_celeba_cropped/119208.jpg</td>\n",
       "      <td>../../../Dataset/img_celeba_cropped/026729.jpg</td>\n",
       "      <td>0</td>\n",
       "    </tr>\n",
       "    <tr>\n",
       "      <th>4</th>\n",
       "      <td>../../../Dataset/img_celeba_cropped/142308.jpg</td>\n",
       "      <td>../../../Dataset/img_celeba_cropped/084410.jpg</td>\n",
       "      <td>1</td>\n",
       "    </tr>\n",
       "    <tr>\n",
       "      <th>5</th>\n",
       "      <td>../../../Dataset/img_celeba_cropped/142308.jpg</td>\n",
       "      <td>../../../Dataset/img_celeba_cropped/165617.jpg</td>\n",
       "      <td>0</td>\n",
       "    </tr>\n",
       "    <tr>\n",
       "      <th>6</th>\n",
       "      <td>../../../Dataset/img_celeba_cropped/193198.jpg</td>\n",
       "      <td>../../../Dataset/img_celeba_cropped/197007.jpg</td>\n",
       "      <td>1</td>\n",
       "    </tr>\n",
       "    <tr>\n",
       "      <th>7</th>\n",
       "      <td>../../../Dataset/img_celeba_cropped/193198.jpg</td>\n",
       "      <td>../../../Dataset/img_celeba_cropped/080444.jpg</td>\n",
       "      <td>0</td>\n",
       "    </tr>\n",
       "    <tr>\n",
       "      <th>8</th>\n",
       "      <td>../../../Dataset/img_celeba_cropped/002327.jpg</td>\n",
       "      <td>../../../Dataset/img_celeba_cropped/002327.jpg</td>\n",
       "      <td>1</td>\n",
       "    </tr>\n",
       "    <tr>\n",
       "      <th>9</th>\n",
       "      <td>../../../Dataset/img_celeba_cropped/002327.jpg</td>\n",
       "      <td>../../../Dataset/img_celeba_cropped/046470.jpg</td>\n",
       "      <td>0</td>\n",
       "    </tr>\n",
       "  </tbody>\n",
       "</table>\n",
       "</div>"
      ],
      "text/plain": [
       "                                             left  \\\n",
       "0  ../../../Dataset/img_celeba_cropped/202139.jpg   \n",
       "1  ../../../Dataset/img_celeba_cropped/202139.jpg   \n",
       "2  ../../../Dataset/img_celeba_cropped/119208.jpg   \n",
       "3  ../../../Dataset/img_celeba_cropped/119208.jpg   \n",
       "4  ../../../Dataset/img_celeba_cropped/142308.jpg   \n",
       "5  ../../../Dataset/img_celeba_cropped/142308.jpg   \n",
       "6  ../../../Dataset/img_celeba_cropped/193198.jpg   \n",
       "7  ../../../Dataset/img_celeba_cropped/193198.jpg   \n",
       "8  ../../../Dataset/img_celeba_cropped/002327.jpg   \n",
       "9  ../../../Dataset/img_celeba_cropped/002327.jpg   \n",
       "\n",
       "                                            right  label  \n",
       "0  ../../../Dataset/img_celeba_cropped/186109.jpg      1  \n",
       "1  ../../../Dataset/img_celeba_cropped/157776.jpg      0  \n",
       "2  ../../../Dataset/img_celeba_cropped/069223.jpg      1  \n",
       "3  ../../../Dataset/img_celeba_cropped/026729.jpg      0  \n",
       "4  ../../../Dataset/img_celeba_cropped/084410.jpg      1  \n",
       "5  ../../../Dataset/img_celeba_cropped/165617.jpg      0  \n",
       "6  ../../../Dataset/img_celeba_cropped/197007.jpg      1  \n",
       "7  ../../../Dataset/img_celeba_cropped/080444.jpg      0  \n",
       "8  ../../../Dataset/img_celeba_cropped/002327.jpg      1  \n",
       "9  ../../../Dataset/img_celeba_cropped/046470.jpg      0  "
      ]
     },
     "execution_count": 9,
     "metadata": {},
     "output_type": "execute_result"
    }
   ],
   "source": [
    "df.head(10)"
   ]
  },
  {
   "cell_type": "markdown",
   "metadata": {},
   "source": [
    "### Create test train val split"
   ]
  },
  {
   "cell_type": "code",
   "execution_count": 10,
   "metadata": {},
   "outputs": [],
   "source": [
    "X_train, X_rem, y_train, y_rem = train_test_split(df.iloc[:,:-1], df.iloc[:,-1:], train_size=train_size, random_state = 101, shuffle=True)\n",
    "\n",
    "X_val, X_test, y_val, y_test = train_test_split(X_rem,y_rem, test_size=test_val_proportion)"
   ]
  },
  {
   "cell_type": "code",
   "execution_count": 11,
   "metadata": {},
   "outputs": [
    {
     "name": "stdout",
     "output_type": "stream",
     "text": [
      "=====Training=====\n",
      "(12000, 2)\n",
      "(12000, 1)\n",
      "=====Validation=====\n",
      "(4000, 2)\n",
      "(4000, 1)\n",
      "=====Testing=====\n",
      "(4000, 2)\n",
      "(4000, 1)\n"
     ]
    }
   ],
   "source": [
    "print('=====Training=====')\n",
    "print(X_train.shape)\n",
    "print(y_train.shape)\n",
    "\n",
    "print('=====Validation=====')\n",
    "print(X_val.shape)\n",
    "print(y_val.shape)\n",
    "\n",
    "print('=====Testing=====')\n",
    "print(X_test.shape)\n",
    "print(y_val.shape)"
   ]
  },
  {
   "cell_type": "markdown",
   "metadata": {},
   "source": [
    "### Loading pairs into TF Dataset"
   ]
  },
  {
   "cell_type": "code",
   "execution_count": 12,
   "metadata": {},
   "outputs": [],
   "source": [
    "def preprocessing(left, right):\n",
    "    return convert_to_img(left), convert_to_img(right)\n",
    "\n",
    "\n",
    "def convert_to_img(img_path):\n",
    "    img = tf.io.read_file(img_path)\n",
    "    img = tf.image.decode_jpeg(img, channels=3)\n",
    "    img = tf.image.convert_image_dtype(img, tf.float32)\n",
    "    #img = tf.image.resize(img, (100, 100))\n",
    "    img = tf.image.per_image_standardization(img)\n",
    "    img = tf.reshape(img,(224,224,3))\n",
    "    return img\n",
    "\n",
    "def label_preprocessing(label):\n",
    "    return tf.cast(label, tf.float32)"
   ]
  },
  {
   "cell_type": "code",
   "execution_count": 13,
   "metadata": {},
   "outputs": [],
   "source": [
    "def create_dataset(features, labels):\n",
    "    feature_ds = tf.data.Dataset.from_tensor_slices((features['left'].values, features['right'].values))\n",
    "    labels_ds = tf.data.Dataset.from_tensor_slices(labels.values)\n",
    "    \n",
    "    feature_ds = feature_ds.map(preprocessing)\n",
    "    labels_ds = labels_ds.map(label_preprocessing)\n",
    "    \n",
    "    dataset = tf.data.Dataset.zip((feature_ds, labels_ds))\n",
    "    dataset = dataset.batch(batch_size, num_parallel_calls=tf.data.AUTOTUNE)\n",
    "    dataset = dataset.cache().prefetch(buffer_size=tf.data.AUTOTUNE)\n",
    "    \n",
    "    return dataset\n",
    "\n",
    "def create_dataset_no_labels(features):\n",
    "    feature_ds = tf.data.Dataset.from_tensor_slices((features['left'].values, features['right'].values))\n",
    "    feature_ds = feature_ds.map(preprocessing)\n",
    "    \n",
    "    feature_ds = feature_ds.batch(batch_size, num_parallel_calls=tf.data.AUTOTUNE)\n",
    "    feature_ds = feature_ds.cache().prefetch(buffer_size=tf.data.AUTOTUNE)\n",
    "    \n",
    "    return feature_ds\n",
    "\n",
    "def create_singular_dataset(feature):\n",
    "    dataset = tf.data.Dataset.from_tensor_slices(feature.values)\n",
    "    dataset = dataset.map(convert_to_img)\n",
    "    dataset = dataset.batch(batch_size, num_parallel_calls=tf.data.AUTOTUNE)\n",
    "    dataset = dataset.cache().prefetch(buffer_size=tf.data.AUTOTUNE)\n",
    "    \n",
    "    return dataset"
   ]
  },
  {
   "cell_type": "code",
   "execution_count": 14,
   "metadata": {},
   "outputs": [
    {
     "name": "stdout",
     "output_type": "stream",
     "text": [
      "Metal device set to: Apple M1 Pro\n"
     ]
    },
    {
     "name": "stderr",
     "output_type": "stream",
     "text": [
      "2022-11-28 19:15:52.047695: I tensorflow/core/common_runtime/pluggable_device/pluggable_device_factory.cc:306] Could not identify NUMA node of platform GPU ID 0, defaulting to 0. Your kernel may not have been built with NUMA support.\n",
      "2022-11-28 19:15:52.048012: I tensorflow/core/common_runtime/pluggable_device/pluggable_device_factory.cc:272] Created TensorFlow device (/job:localhost/replica:0/task:0/device:GPU:0 with 0 MB memory) -> physical PluggableDevice (device: 0, name: METAL, pci bus id: <undefined>)\n"
     ]
    }
   ],
   "source": [
    "train_ds = create_dataset(X_train, y_train)\n",
    "val_ds = create_dataset(X_val, y_val)"
   ]
  },
  {
   "cell_type": "markdown",
   "metadata": {},
   "source": [
    "## NN model"
   ]
  },
  {
   "cell_type": "code",
   "execution_count": 15,
   "metadata": {},
   "outputs": [],
   "source": [
    "left_input = layers.Input(shape=network_input_shape, name='left_input')\n",
    "right_input = layers.Input(shape=network_input_shape, name='right_input')"
   ]
  },
  {
   "cell_type": "markdown",
   "metadata": {},
   "source": [
    "### ResNet50 model"
   ]
  },
  {
   "cell_type": "code",
   "execution_count": 16,
   "metadata": {},
   "outputs": [],
   "source": [
    "trainable_layers=33 #whole conv_5 block\n",
    "\n",
    "def resnet_network():\n",
    "    input = layers.Input(shape=network_input_shape)\n",
    "    \n",
    "    resnet=ResNet50(\n",
    "        input_tensor=input,\n",
    "        include_top=False,\n",
    "        input_shape=network_input_shape,\n",
    "        pooling='avg',\n",
    "        weights='imagenet',\n",
    "        classes=2)\n",
    "\n",
    "    # whole conv5 block\n",
    "    for layer in resnet.layers[0:-trainable_layers]:\n",
    "        layer.trainable = False\n",
    "\n",
    "    return Model(input, outputs=resnet.output, name='resnet50')"
   ]
  },
  {
   "cell_type": "markdown",
   "metadata": {},
   "source": [
    "### Custom dense layers model"
   ]
  },
  {
   "cell_type": "code",
   "execution_count": 17,
   "metadata": {},
   "outputs": [],
   "source": [
    "def base_network():\n",
    "    input = layers.Input(shape=network_input_shape)\n",
    "    x = layers.Flatten()(input)\n",
    "\n",
    "    x = layers.Dense(1024, activation='relu')(x)\n",
    "    x = layers.Dropout(.2)(x)\n",
    "    x = layers.Dense(1024, activation='relu')(x)\n",
    "    x = layers.Dropout(.2)(x)\n",
    "    x = layers.Dense(2048, activation='relu')(x)\n",
    "    x = layers.Dropout(.2)(x)\n",
    "    x = layers.Dense(2048, activation='relu')(x)\n",
    "    x = layers.Dropout(.2)(x)\n",
    "    x = layers.Dense(4096, activation='relu')(x)\n",
    "    x = layers.Dense(4096, activation='relu')(x)\n",
    "\n",
    "    return Model(inputs=input, outputs=x, name='base_network')"
   ]
  },
  {
   "cell_type": "markdown",
   "metadata": {},
   "source": [
    "### Conv model"
   ]
  },
  {
   "cell_type": "code",
   "execution_count": 18,
   "metadata": {},
   "outputs": [],
   "source": [
    "def conv_network(): \n",
    "    input = layers.Input(shape=network_input_shape, name='input_image')\n",
    "    \n",
    "    # First block\n",
    "    c1 = layers.Conv2D(64, (10,10), activation='relu')(input)\n",
    "    m1 = layers.MaxPooling2D(64, (2,2), padding='same')(c1)\n",
    "    \n",
    "    # Second block\n",
    "    c2 = layers.Conv2D(128, (7,7), activation='relu')(m1)\n",
    "    m2 = layers.MaxPooling2D(64, (2,2), padding='same')(c2)\n",
    "    \n",
    "    # Third block \n",
    "    c3 = layers.Conv2D(128, (4,4), activation='relu')(m2)\n",
    "    m3 = layers.MaxPooling2D(64, (2,2), padding='same')(c3)\n",
    "    \n",
    "    # Final embedding block\n",
    "    c4 = layers.Conv2D(256, (4,4), activation='relu')(m3)\n",
    "    f1 = layers.Flatten()(c4)\n",
    "    d1 = layers.Dense(4096, activation='sigmoid')(f1)\n",
    "    \n",
    "    \n",
    "    return Model(inputs=input, outputs=d1, name='conv_net')"
   ]
  },
  {
   "cell_type": "code",
   "execution_count": 19,
   "metadata": {},
   "outputs": [],
   "source": [
    "#base_model = resnet_network()\n",
    "#base_model = conv_network()\n",
    "base_model = base_network()\n",
    "\n",
    "model_left = base_model(left_input)\n",
    "model_right = base_model(right_input)"
   ]
  },
  {
   "cell_type": "markdown",
   "metadata": {},
   "source": [
    "### Merging resnet branches layers"
   ]
  },
  {
   "cell_type": "code",
   "execution_count": 20,
   "metadata": {},
   "outputs": [],
   "source": [
    "def euclidean_distance(vects):\n",
    "    x, y = vects\n",
    "    sum_square = tf.reduce_sum(tf.square(tf.subtract(x, y)), axis=1, keepdims=True)\n",
    "    return tf.sqrt(tf.maximum(sum_square, K.epsilon()))"
   ]
  },
  {
   "cell_type": "code",
   "execution_count": 21,
   "metadata": {},
   "outputs": [],
   "source": [
    "#model = layers.subtract([model_left, model_right])\n",
    "model = layers.Lambda(euclidean_distance, name=\"merge\")([model_left, model_right])\n",
    "\n",
    "#model = layers.Dense(256, activation='relu')(model)\n",
    "#model = layers.Dropout(.2)(model)\n",
    "#model = layers.Dense(32, activation='relu')(model)\n",
    "model = layers.Dense(1, activation='sigmoid')(model)\n",
    "\n",
    "model = Model(inputs = [left_input, right_input], outputs = model, name='base_network')"
   ]
  },
  {
   "cell_type": "markdown",
   "metadata": {},
   "source": [
    "### Loss funtions"
   ]
  },
  {
   "cell_type": "code",
   "execution_count": 22,
   "metadata": {},
   "outputs": [],
   "source": [
    "# margin is a parametr settable by developer\n",
    "def contrastive_loss_with_margin(margin):\n",
    "    def contrastive_loss(y_true, y_pred):\n",
    "        '''Contrastive loss from Hadsell-et-al.'06\n",
    "        http://yann.lecun.com/exdb/publis/pdf/hadsell-chopra-lecun-06.pdf\n",
    "        '''\n",
    "        square_pred = tf.square(y_pred)\n",
    "        margin_square = tf.square(tf.maximum(margin - y_pred, 0))\n",
    "        return (y_true * square_pred + (1 - y_true) * margin_square)    \n",
    "    return contrastive_loss"
   ]
  },
  {
   "cell_type": "code",
   "execution_count": 23,
   "metadata": {},
   "outputs": [],
   "source": [
    "def L1Dist(y_true, y_pred):\n",
    "    return tf.math.abs(y_true - y_pred)"
   ]
  },
  {
   "cell_type": "code",
   "execution_count": 24,
   "metadata": {},
   "outputs": [],
   "source": [
    "model.compile(optimizer=Adam(learning_rate=lr), loss=contrastive_loss_with_margin(margin=1))"
   ]
  },
  {
   "cell_type": "code",
   "execution_count": 25,
   "metadata": {},
   "outputs": [
    {
     "data": {
      "image/png": "[encoded data removed]",
      "text/plain": [
       "<IPython.core.display.Image object>"
      ]
     },
     "execution_count": 25,
     "metadata": {},
     "output_type": "execute_result"
    }
   ],
   "source": [
    "plot_model(model, show_shapes=True)"
   ]
  },
  {
   "cell_type": "code",
   "execution_count": 26,
   "metadata": {},
   "outputs": [
    {
     "name": "stdout",
     "output_type": "stream",
     "text": [
      "Model: \"base_network\"\n",
      "__________________________________________________________________________________________________\n",
      " Layer (type)                   Output Shape         Param #     Connected to                     \n",
      "==================================================================================================\n",
      " left_input (InputLayer)        [(None, 224, 224, 3  0           []                               \n",
      "                                )]                                                                \n",
      "                                                                                                  \n",
      " right_input (InputLayer)       [(None, 224, 224, 3  0           []                               \n",
      "                                )]                                                                \n",
      "                                                                                                  \n",
      " base_network (Functional)      (None, 4096)         186660864   ['left_input[0][0]',             \n",
      "                                                                  'right_input[0][0]']            \n",
      "                                                                                                  \n",
      " merge (Lambda)                 (None, 1)            0           ['base_network[0][0]',           \n",
      "                                                                  'base_network[1][0]']           \n",
      "                                                                                                  \n",
      " dense_6 (Dense)                (None, 1)            2           ['merge[0][0]']                  \n",
      "                                                                                                  \n",
      "==================================================================================================\n",
      "Total params: 186,660,866\n",
      "Trainable params: 186,660,866\n",
      "Non-trainable params: 0\n",
      "__________________________________________________________________________________________________\n"
     ]
    }
   ],
   "source": [
    "model.summary()"
   ]
  },
  {
   "cell_type": "markdown",
   "metadata": {},
   "source": [
    "### Load existing model from a checkpoint"
   ]
  },
  {
   "cell_type": "code",
   "execution_count": 27,
   "metadata": {},
   "outputs": [],
   "source": [
    "#checkpoint_dir = 'checkpoints/res_net-20221128-184233'\n",
    "#latest_ckpt = tf.train.latest_checkpoint(checkpoint_dir)\n",
    "\n",
    "#model.load_weights(latest_ckpt)"
   ]
  },
  {
   "cell_type": "markdown",
   "metadata": {},
   "source": [
    "### Train new model"
   ]
  },
  {
   "cell_type": "code",
   "execution_count": null,
   "metadata": {},
   "outputs": [
    {
     "name": "stdout",
     "output_type": "stream",
     "text": [
      "Epoch 1/30\n"
     ]
    },
    {
     "name": "stderr",
     "output_type": "stream",
     "text": [
      "2022-11-28 19:15:53.001952: W tensorflow/core/platform/profile_utils/cpu_utils.cc:128] Failed to get CPU frequency: 0 Hz\n",
      "2022-11-28 19:15:53.302756: I tensorflow/core/grappler/optimizers/custom_graph_optimizer_registry.cc:114] Plugin optimizer for device_type GPU is enabled.\n"
     ]
    },
    {
     "name": "stdout",
     "output_type": "stream",
     "text": [
      "375/375 [==============================] - ETA: 0s - loss: 0.2599"
     ]
    },
    {
     "name": "stderr",
     "output_type": "stream",
     "text": [
      "2022-11-28 19:17:09.155591: I tensorflow/core/grappler/optimizers/custom_graph_optimizer_registry.cc:114] Plugin optimizer for device_type GPU is enabled.\n"
     ]
    },
    {
     "name": "stdout",
     "output_type": "stream",
     "text": [
      "375/375 [==============================] - 89s 236ms/step - loss: 0.2599 - val_loss: 0.2489\n",
      "Epoch 2/30\n",
      "375/375 [==============================] - 118s 311ms/step - loss: 0.2498 - val_loss: 0.2478\n",
      "Epoch 3/30\n",
      "375/375 [==============================] - 117s 309ms/step - loss: 0.2490 - val_loss: 0.2472\n",
      "Epoch 4/30\n",
      "375/375 [==============================] - 117s 311ms/step - loss: 0.2483 - val_loss: 0.2499\n",
      "Epoch 5/30\n",
      "375/375 [==============================] - 116s 305ms/step - loss: 0.2471 - val_loss: 0.2442\n",
      "Epoch 6/30\n",
      "375/375 [==============================] - 114s 303ms/step - loss: 0.2436 - val_loss: 0.2430\n",
      "Epoch 7/30\n",
      "375/375 [==============================] - 302s 805ms/step - loss: 0.2386 - val_loss: 0.2426\n",
      "Epoch 8/30\n",
      "375/375 [==============================] - 121s 319ms/step - loss: 0.2310 - val_loss: 0.2435\n",
      "Epoch 9/30\n",
      "375/375 [==============================] - 119s 315ms/step - loss: 0.2263 - val_loss: 0.2422\n",
      "Epoch 10/30\n",
      "375/375 [==============================] - 119s 314ms/step - loss: 0.2210 - val_loss: 0.2414\n",
      "Epoch 11/30\n",
      "375/375 [==============================] - 119s 314ms/step - loss: 0.2144 - val_loss: 0.2434\n",
      "Epoch 12/30\n",
      "375/375 [==============================] - 118s 314ms/step - loss: 0.2086 - val_loss: 0.2421\n",
      "Epoch 13/30\n",
      "375/375 [==============================] - 122s 322ms/step - loss: 0.2037 - val_loss: 0.2444\n",
      "Epoch 14/30\n",
      "375/375 [==============================] - 122s 322ms/step - loss: 0.1993 - val_loss: 0.2435\n",
      "Epoch 15/30\n",
      "375/375 [==============================] - 121s 320ms/step - loss: 0.1952 - val_loss: 0.2432\n",
      "Epoch 16/30\n",
      "243/375 [==================>...........] - ETA: 34s - loss: 0.1918"
     ]
    }
   ],
   "source": [
    "model_fit = model.fit(train_ds, validation_data=val_ds, epochs=30)\n",
    "\n",
    "checkpoints_path = 'checkpoints'\n",
    "model_version = f'{model.name}-{time.strftime(\"%Y%m%d-%H%M%S\")}'\n",
    "\n",
    "!cd {checkpoint_path} && mkdir {model_version}\n",
    "\n",
    "model_path = f'{checkpoints_path}/{model_version}'\n",
    "model.save_weights(model_path)"
   ]
  },
  {
   "cell_type": "markdown",
   "metadata": {},
   "source": [
    "### Performance metrics"
   ]
  },
  {
   "cell_type": "code",
   "execution_count": null,
   "metadata": {},
   "outputs": [],
   "source": [
    "plt.plot(model_fit.history['loss'])\n",
    "plt.plot(model_fit.history['val_loss'])\n",
    "plt.title('Model Loss')\n",
    "plt.ylabel('Loss')\n",
    "plt.xlabel('Epochs')\n",
    "plt.legend(['train', 'validation'])\n",
    "#plt.axis(ymin=0,ymax=1)\n",
    "plt.grid()\n",
    "\n",
    "plt.show()"
   ]
  },
  {
   "cell_type": "markdown",
   "metadata": {},
   "source": [
    "### Predictions"
   ]
  },
  {
   "cell_type": "code",
   "execution_count": null,
   "metadata": {},
   "outputs": [],
   "source": [
    "test_ds_left = create_singular_dataset(X_test['left'])\n",
    "test_ds_right = create_singular_dataset(X_test['right'])\n",
    "\n",
    "\n",
    "test_labels = y_test['label']\n",
    "\n",
    "test_ds_full = create_dataset_no_labels(X_test)"
   ]
  },
  {
   "cell_type": "code",
   "execution_count": null,
   "metadata": {},
   "outputs": [],
   "source": [
    "left_image_feature_vectors = base_model.predict(test_ds_left)\n",
    "right_image_feature_vectors = base_model.predict(test_ds_right)"
   ]
  },
  {
   "cell_type": "code",
   "execution_count": null,
   "metadata": {},
   "outputs": [],
   "source": [
    "positive_left_image_feature_vectors = left_image_feature_vectors[0::2]\n",
    "negative_left_image_feature_vectors = left_image_feature_vectors[1::2]\n",
    "\n",
    "positive_right_image_feature_vectors = right_image_feature_vectors[0::2]\n",
    "negative_right_image_feature_vectors = right_image_feature_vectors[1::2]"
   ]
  },
  {
   "cell_type": "markdown",
   "metadata": {},
   "source": [
    "### Positive distances"
   ]
  },
  {
   "cell_type": "code",
   "execution_count": null,
   "metadata": {},
   "outputs": [],
   "source": [
    "positive_distances = euclidean_distance((positive_left_image_feature_vectors, positive_right_image_feature_vectors)).numpy().flatten()\n",
    "positive_mean = pd.Series(positive_distances).mean()\n",
    "pd.Series(positive_distances).describe()"
   ]
  },
  {
   "cell_type": "markdown",
   "metadata": {},
   "source": [
    "### Negative distances"
   ]
  },
  {
   "cell_type": "code",
   "execution_count": null,
   "metadata": {},
   "outputs": [],
   "source": [
    "negative_distances = euclidean_distance((negative_left_image_feature_vectors, negative_right_image_feature_vectors)).numpy().flatten()\n",
    "negative_mean = pd.Series(negative_distances).mean()\n",
    "pd.Series(negative_distances).describe()"
   ]
  },
  {
   "cell_type": "code",
   "execution_count": null,
   "metadata": {},
   "outputs": [],
   "source": [
    "fig = plt.figure()\n",
    "ax = fig.add_axes([0,0,1, 1])\n",
    "ax.boxplot([positive_distances, negative_distances])\n",
    "plt.xticks([1, 2], ['Positive', 'Negative'])\n",
    "ax.grid()\n",
    "plt.show()"
   ]
  },
  {
   "cell_type": "code",
   "execution_count": null,
   "metadata": {},
   "outputs": [],
   "source": [
    "def compute_accuracy(y_true, y_pred, cutoff):\n",
    "    pred = y_pred.flatten() < cutoff\n",
    "    return np.mean(pred == y_true)"
   ]
  },
  {
   "cell_type": "code",
   "execution_count": null,
   "metadata": {},
   "outputs": [],
   "source": [
    "y_pred_test = euclidean_distance((left_image_feature_vectors, right_image_feature_vectors)).numpy().flatten()\n",
    "cutoff = (positive_mean + negative_mean)/2\n",
    "\n",
    "test_accuracy = compute_accuracy(test_labels, y_pred_test, cutoff)\n",
    "print(f'Accuracy: {test_accuracy*100:.2f}%')"
   ]
  },
  {
   "cell_type": "code",
   "execution_count": null,
   "metadata": {},
   "outputs": [],
   "source": [
    "y_pred = y_pred_test.flatten() < cutoff"
   ]
  },
  {
   "cell_type": "code",
   "execution_count": null,
   "metadata": {},
   "outputs": [],
   "source": [
    "confusion_matrix(test_labels, y_pred, labels = [1,0])"
   ]
  },
  {
   "cell_type": "code",
   "execution_count": null,
   "metadata": {},
   "outputs": [],
   "source": []
  }
 ],
 "metadata": {
  "kernelspec": {
   "display_name": "Python (my_env)",
   "language": "python",
   "name": "my_env"
  },
  "language_info": {
   "codemirror_mode": {
    "name": "ipython",
    "version": 3
   },
   "file_extension": ".py",
   "mimetype": "text/x-python",
   "name": "python",
   "nbconvert_exporter": "python",
   "pygments_lexer": "ipython3",
   "version": "3.8.13"
  }
 },
 "nbformat": 4,
 "nbformat_minor": 4
}
