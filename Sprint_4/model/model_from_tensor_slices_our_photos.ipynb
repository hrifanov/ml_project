{
 "cells": [
  {
   "cell_type": "code",
   "execution_count": 1,
   "metadata": {},
   "outputs": [],
   "source": [
    "from tensorflow.keras import layers\n",
    "from tensorflow.keras.applications import ResNet50\n",
    "from tensorflow.keras.utils import plot_model, image_dataset_from_directory\n",
    "from tensorflow.keras.models import Model\n",
    "from tensorflow.keras.optimizers import Adam\n",
    "from tensorflow import convert_to_tensor\n",
    "import tensorflow.keras.backend as K\n",
    "from matplotlib import pyplot as plt\n",
    "\n",
    "import tensorflow as tf\n",
    "tf.compat.v1.enable_eager_execution()"
   ]
  },
  {
   "cell_type": "code",
   "execution_count": 2,
   "metadata": {},
   "outputs": [],
   "source": [
    "from sklearn.model_selection import train_test_split\n",
    "from sklearn.metrics import confusion_matrix\n",
    "import pandas as pd\n",
    "import numpy as np\n",
    "import pathlib\n",
    "import time\n",
    "import cv2\n",
    "import os\n",
    "import random\n",
    "import re"
   ]
  },
  {
   "cell_type": "markdown",
   "metadata": {},
   "source": [
    "### Paths"
   ]
  },
  {
   "cell_type": "code",
   "execution_count": 3,
   "metadata": {},
   "outputs": [],
   "source": [
    "images_path = '../../../Dataset/teamphotos_ready/'\n",
    "#identity_path = '../../../Dataset/identity_test.txt'\n",
    "#attributes_path = '../../../Dataset/list_attr_celeba.txt'"
   ]
  },
  {
   "cell_type": "markdown",
   "metadata": {},
   "source": [
    "### Hyperparameters"
   ]
  },
  {
   "cell_type": "code",
   "execution_count": 4,
   "metadata": {},
   "outputs": [],
   "source": [
    "images_num=20\n",
    "\n",
    "train_size=0.6\n",
    "test_val_proportion=0.5\n",
    "\n",
    "image_shape=(224, 224, 3)\n",
    "\n",
    "batch_size=10\n",
    "lr=0.000001"
   ]
  },
  {
   "cell_type": "markdown",
   "metadata": {},
   "source": [
    "## Creating pairs"
   ]
  },
  {
   "cell_type": "code",
   "execution_count": 5,
   "metadata": {},
   "outputs": [],
   "source": [
    "def slicer(array, index_from, index_to):\n",
    "    array_copy = array.copy()\n",
    "    del array_copy[index_from:index_to]\n",
    "    return array_copy"
   ]
  },
  {
   "cell_type": "code",
   "execution_count": 6,
   "metadata": {},
   "outputs": [],
   "source": [
    "def get_balanced_pair(path):\n",
    "    containing_id_list = []\n",
    "    photos = os.listdir(path)\n",
    "    photos.sort(key=lambda f: int(re.sub('\\D', '', f)))\n",
    "    \n",
    "    photo_sample = random.sample(photos, 1)\n",
    "    photo_sample = photo_sample[0]\n",
    "    photo_index = photos.index(photo_sample)\n",
    "    if photo_index % 2 == 1:\n",
    "        containing_id_list.append(photos[photo_index])\n",
    "        containing_id_list.append(photos[photo_index - 1])\n",
    "        negative = random.sample(slicer(photos, photo_index - 1, photo_index + 1), 1)\n",
    "        negative = negative[0]\n",
    "        return [[containing_id_list[0], containing_id_list[1], 1], [containing_id_list[0], negative, 0]]\n",
    "    else:\n",
    "        containing_id_list.append(photos[photo_index])\n",
    "        containing_id_list.append(photos[photo_index + 1])\n",
    "        negative = random.sample(slicer(photos, photo_index, photo_index + 1), 1)\n",
    "        negative = negative[0]\n",
    "        return [[containing_id_list[0], containing_id_list[1], 1], [containing_id_list[0], negative, 0]]\n",
    "    "
   ]
  },
  {
   "cell_type": "code",
   "execution_count": 7,
   "metadata": {},
   "outputs": [],
   "source": [
    "balanced_pairs = []\n",
    "random.seed(64)\n",
    "\n",
    "for i in range(images_num):\n",
    "    pair = get_balanced_pair(images_path)\n",
    "    balanced_pairs.append(pair[0])\n",
    "    balanced_pairs.append(pair[1])\n",
    "    \n",
    "df_train = pd.DataFrame(balanced_pairs, columns =['left', 'right', 'label'])\n",
    "df_train['left'] = images_path  + df_train['left']\n",
    "df_train['right'] = images_path + df_train['right']"
   ]
  },
  {
   "cell_type": "code",
   "execution_count": 8,
   "metadata": {},
   "outputs": [
    {
     "data": {
      "text/html": [
       "<div>\n",
       "<style scoped>\n",
       "    .dataframe tbody tr th:only-of-type {\n",
       "        vertical-align: middle;\n",
       "    }\n",
       "\n",
       "    .dataframe tbody tr th {\n",
       "        vertical-align: top;\n",
       "    }\n",
       "\n",
       "    .dataframe thead th {\n",
       "        text-align: right;\n",
       "    }\n",
       "</style>\n",
       "<table border=\"1\" class=\"dataframe\">\n",
       "  <thead>\n",
       "    <tr style=\"text-align: right;\">\n",
       "      <th></th>\n",
       "      <th>left</th>\n",
       "      <th>right</th>\n",
       "      <th>label</th>\n",
       "    </tr>\n",
       "  </thead>\n",
       "  <tbody>\n",
       "    <tr>\n",
       "      <th>0</th>\n",
       "      <td>../../../Dataset/teamphotos_ready/16.jpg</td>\n",
       "      <td>../../../Dataset/teamphotos_ready/15.jpg</td>\n",
       "      <td>1</td>\n",
       "    </tr>\n",
       "    <tr>\n",
       "      <th>1</th>\n",
       "      <td>../../../Dataset/teamphotos_ready/16.jpg</td>\n",
       "      <td>../../../Dataset/teamphotos_ready/4.jpg</td>\n",
       "      <td>0</td>\n",
       "    </tr>\n",
       "    <tr>\n",
       "      <th>2</th>\n",
       "      <td>../../../Dataset/teamphotos_ready/22.jpg</td>\n",
       "      <td>../../../Dataset/teamphotos_ready/23.jpg</td>\n",
       "      <td>1</td>\n",
       "    </tr>\n",
       "    <tr>\n",
       "      <th>3</th>\n",
       "      <td>../../../Dataset/teamphotos_ready/22.jpg</td>\n",
       "      <td>../../../Dataset/teamphotos_ready/21.jpg</td>\n",
       "      <td>0</td>\n",
       "    </tr>\n",
       "    <tr>\n",
       "      <th>4</th>\n",
       "      <td>../../../Dataset/teamphotos_ready/13.jpg</td>\n",
       "      <td>../../../Dataset/teamphotos_ready/14.jpg</td>\n",
       "      <td>1</td>\n",
       "    </tr>\n",
       "    <tr>\n",
       "      <th>5</th>\n",
       "      <td>../../../Dataset/teamphotos_ready/13.jpg</td>\n",
       "      <td>../../../Dataset/teamphotos_ready/20.jpg</td>\n",
       "      <td>0</td>\n",
       "    </tr>\n",
       "    <tr>\n",
       "      <th>6</th>\n",
       "      <td>../../../Dataset/teamphotos_ready/23.jpg</td>\n",
       "      <td>../../../Dataset/teamphotos_ready/22.jpg</td>\n",
       "      <td>1</td>\n",
       "    </tr>\n",
       "    <tr>\n",
       "      <th>7</th>\n",
       "      <td>../../../Dataset/teamphotos_ready/23.jpg</td>\n",
       "      <td>../../../Dataset/teamphotos_ready/1.jpg</td>\n",
       "      <td>0</td>\n",
       "    </tr>\n",
       "    <tr>\n",
       "      <th>8</th>\n",
       "      <td>../../../Dataset/teamphotos_ready/7.jpg</td>\n",
       "      <td>../../../Dataset/teamphotos_ready/8.jpg</td>\n",
       "      <td>1</td>\n",
       "    </tr>\n",
       "    <tr>\n",
       "      <th>9</th>\n",
       "      <td>../../../Dataset/teamphotos_ready/7.jpg</td>\n",
       "      <td>../../../Dataset/teamphotos_ready/10.jpg</td>\n",
       "      <td>0</td>\n",
       "    </tr>\n",
       "    <tr>\n",
       "      <th>10</th>\n",
       "      <td>../../../Dataset/teamphotos_ready/24.jpg</td>\n",
       "      <td>../../../Dataset/teamphotos_ready/25.jpg</td>\n",
       "      <td>1</td>\n",
       "    </tr>\n",
       "    <tr>\n",
       "      <th>11</th>\n",
       "      <td>../../../Dataset/teamphotos_ready/24.jpg</td>\n",
       "      <td>../../../Dataset/teamphotos_ready/22.jpg</td>\n",
       "      <td>0</td>\n",
       "    </tr>\n",
       "    <tr>\n",
       "      <th>12</th>\n",
       "      <td>../../../Dataset/teamphotos_ready/7.jpg</td>\n",
       "      <td>../../../Dataset/teamphotos_ready/8.jpg</td>\n",
       "      <td>1</td>\n",
       "    </tr>\n",
       "    <tr>\n",
       "      <th>13</th>\n",
       "      <td>../../../Dataset/teamphotos_ready/7.jpg</td>\n",
       "      <td>../../../Dataset/teamphotos_ready/25.jpg</td>\n",
       "      <td>0</td>\n",
       "    </tr>\n",
       "    <tr>\n",
       "      <th>14</th>\n",
       "      <td>../../../Dataset/teamphotos_ready/22.jpg</td>\n",
       "      <td>../../../Dataset/teamphotos_ready/23.jpg</td>\n",
       "      <td>1</td>\n",
       "    </tr>\n",
       "    <tr>\n",
       "      <th>15</th>\n",
       "      <td>../../../Dataset/teamphotos_ready/22.jpg</td>\n",
       "      <td>../../../Dataset/teamphotos_ready/5.jpg</td>\n",
       "      <td>0</td>\n",
       "    </tr>\n",
       "    <tr>\n",
       "      <th>16</th>\n",
       "      <td>../../../Dataset/teamphotos_ready/3.jpg</td>\n",
       "      <td>../../../Dataset/teamphotos_ready/4.jpg</td>\n",
       "      <td>1</td>\n",
       "    </tr>\n",
       "    <tr>\n",
       "      <th>17</th>\n",
       "      <td>../../../Dataset/teamphotos_ready/3.jpg</td>\n",
       "      <td>../../../Dataset/teamphotos_ready/15.jpg</td>\n",
       "      <td>0</td>\n",
       "    </tr>\n",
       "    <tr>\n",
       "      <th>18</th>\n",
       "      <td>../../../Dataset/teamphotos_ready/15.jpg</td>\n",
       "      <td>../../../Dataset/teamphotos_ready/16.jpg</td>\n",
       "      <td>1</td>\n",
       "    </tr>\n",
       "    <tr>\n",
       "      <th>19</th>\n",
       "      <td>../../../Dataset/teamphotos_ready/15.jpg</td>\n",
       "      <td>../../../Dataset/teamphotos_ready/7.jpg</td>\n",
       "      <td>0</td>\n",
       "    </tr>\n",
       "    <tr>\n",
       "      <th>20</th>\n",
       "      <td>../../../Dataset/teamphotos_ready/25.jpg</td>\n",
       "      <td>../../../Dataset/teamphotos_ready/24.jpg</td>\n",
       "      <td>1</td>\n",
       "    </tr>\n",
       "    <tr>\n",
       "      <th>21</th>\n",
       "      <td>../../../Dataset/teamphotos_ready/25.jpg</td>\n",
       "      <td>../../../Dataset/teamphotos_ready/1.jpg</td>\n",
       "      <td>0</td>\n",
       "    </tr>\n",
       "    <tr>\n",
       "      <th>22</th>\n",
       "      <td>../../../Dataset/teamphotos_ready/3.jpg</td>\n",
       "      <td>../../../Dataset/teamphotos_ready/4.jpg</td>\n",
       "      <td>1</td>\n",
       "    </tr>\n",
       "    <tr>\n",
       "      <th>23</th>\n",
       "      <td>../../../Dataset/teamphotos_ready/3.jpg</td>\n",
       "      <td>../../../Dataset/teamphotos_ready/14.jpg</td>\n",
       "      <td>0</td>\n",
       "    </tr>\n",
       "    <tr>\n",
       "      <th>24</th>\n",
       "      <td>../../../Dataset/teamphotos_ready/23.jpg</td>\n",
       "      <td>../../../Dataset/teamphotos_ready/22.jpg</td>\n",
       "      <td>1</td>\n",
       "    </tr>\n",
       "    <tr>\n",
       "      <th>25</th>\n",
       "      <td>../../../Dataset/teamphotos_ready/23.jpg</td>\n",
       "      <td>../../../Dataset/teamphotos_ready/1.jpg</td>\n",
       "      <td>0</td>\n",
       "    </tr>\n",
       "    <tr>\n",
       "      <th>26</th>\n",
       "      <td>../../../Dataset/teamphotos_ready/3.jpg</td>\n",
       "      <td>../../../Dataset/teamphotos_ready/4.jpg</td>\n",
       "      <td>1</td>\n",
       "    </tr>\n",
       "    <tr>\n",
       "      <th>27</th>\n",
       "      <td>../../../Dataset/teamphotos_ready/3.jpg</td>\n",
       "      <td>../../../Dataset/teamphotos_ready/7.jpg</td>\n",
       "      <td>0</td>\n",
       "    </tr>\n",
       "    <tr>\n",
       "      <th>28</th>\n",
       "      <td>../../../Dataset/teamphotos_ready/4.jpg</td>\n",
       "      <td>../../../Dataset/teamphotos_ready/3.jpg</td>\n",
       "      <td>1</td>\n",
       "    </tr>\n",
       "    <tr>\n",
       "      <th>29</th>\n",
       "      <td>../../../Dataset/teamphotos_ready/4.jpg</td>\n",
       "      <td>../../../Dataset/teamphotos_ready/22.jpg</td>\n",
       "      <td>0</td>\n",
       "    </tr>\n",
       "    <tr>\n",
       "      <th>30</th>\n",
       "      <td>../../../Dataset/teamphotos_ready/2.jpg</td>\n",
       "      <td>../../../Dataset/teamphotos_ready/1.jpg</td>\n",
       "      <td>1</td>\n",
       "    </tr>\n",
       "    <tr>\n",
       "      <th>31</th>\n",
       "      <td>../../../Dataset/teamphotos_ready/2.jpg</td>\n",
       "      <td>../../../Dataset/teamphotos_ready/22.jpg</td>\n",
       "      <td>0</td>\n",
       "    </tr>\n",
       "    <tr>\n",
       "      <th>32</th>\n",
       "      <td>../../../Dataset/teamphotos_ready/9.jpg</td>\n",
       "      <td>../../../Dataset/teamphotos_ready/10.jpg</td>\n",
       "      <td>1</td>\n",
       "    </tr>\n",
       "    <tr>\n",
       "      <th>33</th>\n",
       "      <td>../../../Dataset/teamphotos_ready/9.jpg</td>\n",
       "      <td>../../../Dataset/teamphotos_ready/8.jpg</td>\n",
       "      <td>0</td>\n",
       "    </tr>\n",
       "    <tr>\n",
       "      <th>34</th>\n",
       "      <td>../../../Dataset/teamphotos_ready/18.jpg</td>\n",
       "      <td>../../../Dataset/teamphotos_ready/17.jpg</td>\n",
       "      <td>1</td>\n",
       "    </tr>\n",
       "    <tr>\n",
       "      <th>35</th>\n",
       "      <td>../../../Dataset/teamphotos_ready/18.jpg</td>\n",
       "      <td>../../../Dataset/teamphotos_ready/7.jpg</td>\n",
       "      <td>0</td>\n",
       "    </tr>\n",
       "    <tr>\n",
       "      <th>36</th>\n",
       "      <td>../../../Dataset/teamphotos_ready/3.jpg</td>\n",
       "      <td>../../../Dataset/teamphotos_ready/4.jpg</td>\n",
       "      <td>1</td>\n",
       "    </tr>\n",
       "    <tr>\n",
       "      <th>37</th>\n",
       "      <td>../../../Dataset/teamphotos_ready/3.jpg</td>\n",
       "      <td>../../../Dataset/teamphotos_ready/1.jpg</td>\n",
       "      <td>0</td>\n",
       "    </tr>\n",
       "    <tr>\n",
       "      <th>38</th>\n",
       "      <td>../../../Dataset/teamphotos_ready/15.jpg</td>\n",
       "      <td>../../../Dataset/teamphotos_ready/16.jpg</td>\n",
       "      <td>1</td>\n",
       "    </tr>\n",
       "    <tr>\n",
       "      <th>39</th>\n",
       "      <td>../../../Dataset/teamphotos_ready/15.jpg</td>\n",
       "      <td>../../../Dataset/teamphotos_ready/13.jpg</td>\n",
       "      <td>0</td>\n",
       "    </tr>\n",
       "  </tbody>\n",
       "</table>\n",
       "</div>"
      ],
      "text/plain": [
       "                                        left  \\\n",
       "0   ../../../Dataset/teamphotos_ready/16.jpg   \n",
       "1   ../../../Dataset/teamphotos_ready/16.jpg   \n",
       "2   ../../../Dataset/teamphotos_ready/22.jpg   \n",
       "3   ../../../Dataset/teamphotos_ready/22.jpg   \n",
       "4   ../../../Dataset/teamphotos_ready/13.jpg   \n",
       "5   ../../../Dataset/teamphotos_ready/13.jpg   \n",
       "6   ../../../Dataset/teamphotos_ready/23.jpg   \n",
       "7   ../../../Dataset/teamphotos_ready/23.jpg   \n",
       "8    ../../../Dataset/teamphotos_ready/7.jpg   \n",
       "9    ../../../Dataset/teamphotos_ready/7.jpg   \n",
       "10  ../../../Dataset/teamphotos_ready/24.jpg   \n",
       "11  ../../../Dataset/teamphotos_ready/24.jpg   \n",
       "12   ../../../Dataset/teamphotos_ready/7.jpg   \n",
       "13   ../../../Dataset/teamphotos_ready/7.jpg   \n",
       "14  ../../../Dataset/teamphotos_ready/22.jpg   \n",
       "15  ../../../Dataset/teamphotos_ready/22.jpg   \n",
       "16   ../../../Dataset/teamphotos_ready/3.jpg   \n",
       "17   ../../../Dataset/teamphotos_ready/3.jpg   \n",
       "18  ../../../Dataset/teamphotos_ready/15.jpg   \n",
       "19  ../../../Dataset/teamphotos_ready/15.jpg   \n",
       "20  ../../../Dataset/teamphotos_ready/25.jpg   \n",
       "21  ../../../Dataset/teamphotos_ready/25.jpg   \n",
       "22   ../../../Dataset/teamphotos_ready/3.jpg   \n",
       "23   ../../../Dataset/teamphotos_ready/3.jpg   \n",
       "24  ../../../Dataset/teamphotos_ready/23.jpg   \n",
       "25  ../../../Dataset/teamphotos_ready/23.jpg   \n",
       "26   ../../../Dataset/teamphotos_ready/3.jpg   \n",
       "27   ../../../Dataset/teamphotos_ready/3.jpg   \n",
       "28   ../../../Dataset/teamphotos_ready/4.jpg   \n",
       "29   ../../../Dataset/teamphotos_ready/4.jpg   \n",
       "30   ../../../Dataset/teamphotos_ready/2.jpg   \n",
       "31   ../../../Dataset/teamphotos_ready/2.jpg   \n",
       "32   ../../../Dataset/teamphotos_ready/9.jpg   \n",
       "33   ../../../Dataset/teamphotos_ready/9.jpg   \n",
       "34  ../../../Dataset/teamphotos_ready/18.jpg   \n",
       "35  ../../../Dataset/teamphotos_ready/18.jpg   \n",
       "36   ../../../Dataset/teamphotos_ready/3.jpg   \n",
       "37   ../../../Dataset/teamphotos_ready/3.jpg   \n",
       "38  ../../../Dataset/teamphotos_ready/15.jpg   \n",
       "39  ../../../Dataset/teamphotos_ready/15.jpg   \n",
       "\n",
       "                                       right  label  \n",
       "0   ../../../Dataset/teamphotos_ready/15.jpg      1  \n",
       "1    ../../../Dataset/teamphotos_ready/4.jpg      0  \n",
       "2   ../../../Dataset/teamphotos_ready/23.jpg      1  \n",
       "3   ../../../Dataset/teamphotos_ready/21.jpg      0  \n",
       "4   ../../../Dataset/teamphotos_ready/14.jpg      1  \n",
       "5   ../../../Dataset/teamphotos_ready/20.jpg      0  \n",
       "6   ../../../Dataset/teamphotos_ready/22.jpg      1  \n",
       "7    ../../../Dataset/teamphotos_ready/1.jpg      0  \n",
       "8    ../../../Dataset/teamphotos_ready/8.jpg      1  \n",
       "9   ../../../Dataset/teamphotos_ready/10.jpg      0  \n",
       "10  ../../../Dataset/teamphotos_ready/25.jpg      1  \n",
       "11  ../../../Dataset/teamphotos_ready/22.jpg      0  \n",
       "12   ../../../Dataset/teamphotos_ready/8.jpg      1  \n",
       "13  ../../../Dataset/teamphotos_ready/25.jpg      0  \n",
       "14  ../../../Dataset/teamphotos_ready/23.jpg      1  \n",
       "15   ../../../Dataset/teamphotos_ready/5.jpg      0  \n",
       "16   ../../../Dataset/teamphotos_ready/4.jpg      1  \n",
       "17  ../../../Dataset/teamphotos_ready/15.jpg      0  \n",
       "18  ../../../Dataset/teamphotos_ready/16.jpg      1  \n",
       "19   ../../../Dataset/teamphotos_ready/7.jpg      0  \n",
       "20  ../../../Dataset/teamphotos_ready/24.jpg      1  \n",
       "21   ../../../Dataset/teamphotos_ready/1.jpg      0  \n",
       "22   ../../../Dataset/teamphotos_ready/4.jpg      1  \n",
       "23  ../../../Dataset/teamphotos_ready/14.jpg      0  \n",
       "24  ../../../Dataset/teamphotos_ready/22.jpg      1  \n",
       "25   ../../../Dataset/teamphotos_ready/1.jpg      0  \n",
       "26   ../../../Dataset/teamphotos_ready/4.jpg      1  \n",
       "27   ../../../Dataset/teamphotos_ready/7.jpg      0  \n",
       "28   ../../../Dataset/teamphotos_ready/3.jpg      1  \n",
       "29  ../../../Dataset/teamphotos_ready/22.jpg      0  \n",
       "30   ../../../Dataset/teamphotos_ready/1.jpg      1  \n",
       "31  ../../../Dataset/teamphotos_ready/22.jpg      0  \n",
       "32  ../../../Dataset/teamphotos_ready/10.jpg      1  \n",
       "33   ../../../Dataset/teamphotos_ready/8.jpg      0  \n",
       "34  ../../../Dataset/teamphotos_ready/17.jpg      1  \n",
       "35   ../../../Dataset/teamphotos_ready/7.jpg      0  \n",
       "36   ../../../Dataset/teamphotos_ready/4.jpg      1  \n",
       "37   ../../../Dataset/teamphotos_ready/1.jpg      0  \n",
       "38  ../../../Dataset/teamphotos_ready/16.jpg      1  \n",
       "39  ../../../Dataset/teamphotos_ready/13.jpg      0  "
      ]
     },
     "execution_count": 8,
     "metadata": {},
     "output_type": "execute_result"
    }
   ],
   "source": [
    "df_train"
   ]
  },
  {
   "cell_type": "code",
   "execution_count": 9,
   "metadata": {},
   "outputs": [],
   "source": [
    "balanced_pairs_test = []\n",
    "random.seed(128)\n",
    "\n",
    "for i in range(images_num):\n",
    "    pair = get_balanced_pair(images_path)\n",
    "    balanced_pairs_test.append(pair[0])\n",
    "    balanced_pairs_test.append(pair[1])\n",
    "    \n",
    "df_test = pd.DataFrame(balanced_pairs_test, columns =['left', 'right', 'label'])\n",
    "df_test['left'] = images_path + df_test['left']\n",
    "df_test['right'] = images_path + df_test['right']"
   ]
  },
  {
   "cell_type": "code",
   "execution_count": 10,
   "metadata": {},
   "outputs": [
    {
     "data": {
      "text/html": [
       "<div>\n",
       "<style scoped>\n",
       "    .dataframe tbody tr th:only-of-type {\n",
       "        vertical-align: middle;\n",
       "    }\n",
       "\n",
       "    .dataframe tbody tr th {\n",
       "        vertical-align: top;\n",
       "    }\n",
       "\n",
       "    .dataframe thead th {\n",
       "        text-align: right;\n",
       "    }\n",
       "</style>\n",
       "<table border=\"1\" class=\"dataframe\">\n",
       "  <thead>\n",
       "    <tr style=\"text-align: right;\">\n",
       "      <th></th>\n",
       "      <th>left</th>\n",
       "      <th>right</th>\n",
       "      <th>label</th>\n",
       "    </tr>\n",
       "  </thead>\n",
       "  <tbody>\n",
       "    <tr>\n",
       "      <th>0</th>\n",
       "      <td>../../../Dataset/teamphotos_ready/8.jpg</td>\n",
       "      <td>../../../Dataset/teamphotos_ready/7.jpg</td>\n",
       "      <td>1</td>\n",
       "    </tr>\n",
       "    <tr>\n",
       "      <th>1</th>\n",
       "      <td>../../../Dataset/teamphotos_ready/8.jpg</td>\n",
       "      <td>../../../Dataset/teamphotos_ready/15.jpg</td>\n",
       "      <td>0</td>\n",
       "    </tr>\n",
       "    <tr>\n",
       "      <th>2</th>\n",
       "      <td>../../../Dataset/teamphotos_ready/17.jpg</td>\n",
       "      <td>../../../Dataset/teamphotos_ready/18.jpg</td>\n",
       "      <td>1</td>\n",
       "    </tr>\n",
       "    <tr>\n",
       "      <th>3</th>\n",
       "      <td>../../../Dataset/teamphotos_ready/17.jpg</td>\n",
       "      <td>../../../Dataset/teamphotos_ready/12.jpg</td>\n",
       "      <td>0</td>\n",
       "    </tr>\n",
       "    <tr>\n",
       "      <th>4</th>\n",
       "      <td>../../../Dataset/teamphotos_ready/5.jpg</td>\n",
       "      <td>../../../Dataset/teamphotos_ready/6.jpg</td>\n",
       "      <td>1</td>\n",
       "    </tr>\n",
       "    <tr>\n",
       "      <th>5</th>\n",
       "      <td>../../../Dataset/teamphotos_ready/5.jpg</td>\n",
       "      <td>../../../Dataset/teamphotos_ready/17.jpg</td>\n",
       "      <td>0</td>\n",
       "    </tr>\n",
       "    <tr>\n",
       "      <th>6</th>\n",
       "      <td>../../../Dataset/teamphotos_ready/1.jpg</td>\n",
       "      <td>../../../Dataset/teamphotos_ready/2.jpg</td>\n",
       "      <td>1</td>\n",
       "    </tr>\n",
       "    <tr>\n",
       "      <th>7</th>\n",
       "      <td>../../../Dataset/teamphotos_ready/1.jpg</td>\n",
       "      <td>../../../Dataset/teamphotos_ready/6.jpg</td>\n",
       "      <td>0</td>\n",
       "    </tr>\n",
       "    <tr>\n",
       "      <th>8</th>\n",
       "      <td>../../../Dataset/teamphotos_ready/11.jpg</td>\n",
       "      <td>../../../Dataset/teamphotos_ready/12.jpg</td>\n",
       "      <td>1</td>\n",
       "    </tr>\n",
       "    <tr>\n",
       "      <th>9</th>\n",
       "      <td>../../../Dataset/teamphotos_ready/11.jpg</td>\n",
       "      <td>../../../Dataset/teamphotos_ready/23.jpg</td>\n",
       "      <td>0</td>\n",
       "    </tr>\n",
       "    <tr>\n",
       "      <th>10</th>\n",
       "      <td>../../../Dataset/teamphotos_ready/18.jpg</td>\n",
       "      <td>../../../Dataset/teamphotos_ready/17.jpg</td>\n",
       "      <td>1</td>\n",
       "    </tr>\n",
       "    <tr>\n",
       "      <th>11</th>\n",
       "      <td>../../../Dataset/teamphotos_ready/18.jpg</td>\n",
       "      <td>../../../Dataset/teamphotos_ready/9.jpg</td>\n",
       "      <td>0</td>\n",
       "    </tr>\n",
       "    <tr>\n",
       "      <th>12</th>\n",
       "      <td>../../../Dataset/teamphotos_ready/22.jpg</td>\n",
       "      <td>../../../Dataset/teamphotos_ready/23.jpg</td>\n",
       "      <td>1</td>\n",
       "    </tr>\n",
       "    <tr>\n",
       "      <th>13</th>\n",
       "      <td>../../../Dataset/teamphotos_ready/22.jpg</td>\n",
       "      <td>../../../Dataset/teamphotos_ready/24.jpg</td>\n",
       "      <td>0</td>\n",
       "    </tr>\n",
       "    <tr>\n",
       "      <th>14</th>\n",
       "      <td>../../../Dataset/teamphotos_ready/20.jpg</td>\n",
       "      <td>../../../Dataset/teamphotos_ready/21.jpg</td>\n",
       "      <td>1</td>\n",
       "    </tr>\n",
       "    <tr>\n",
       "      <th>15</th>\n",
       "      <td>../../../Dataset/teamphotos_ready/20.jpg</td>\n",
       "      <td>../../../Dataset/teamphotos_ready/25.jpg</td>\n",
       "      <td>0</td>\n",
       "    </tr>\n",
       "    <tr>\n",
       "      <th>16</th>\n",
       "      <td>../../../Dataset/teamphotos_ready/18.jpg</td>\n",
       "      <td>../../../Dataset/teamphotos_ready/17.jpg</td>\n",
       "      <td>1</td>\n",
       "    </tr>\n",
       "    <tr>\n",
       "      <th>17</th>\n",
       "      <td>../../../Dataset/teamphotos_ready/18.jpg</td>\n",
       "      <td>../../../Dataset/teamphotos_ready/10.jpg</td>\n",
       "      <td>0</td>\n",
       "    </tr>\n",
       "    <tr>\n",
       "      <th>18</th>\n",
       "      <td>../../../Dataset/teamphotos_ready/3.jpg</td>\n",
       "      <td>../../../Dataset/teamphotos_ready/4.jpg</td>\n",
       "      <td>1</td>\n",
       "    </tr>\n",
       "    <tr>\n",
       "      <th>19</th>\n",
       "      <td>../../../Dataset/teamphotos_ready/3.jpg</td>\n",
       "      <td>../../../Dataset/teamphotos_ready/5.jpg</td>\n",
       "      <td>0</td>\n",
       "    </tr>\n",
       "    <tr>\n",
       "      <th>20</th>\n",
       "      <td>../../../Dataset/teamphotos_ready/1.jpg</td>\n",
       "      <td>../../../Dataset/teamphotos_ready/2.jpg</td>\n",
       "      <td>1</td>\n",
       "    </tr>\n",
       "    <tr>\n",
       "      <th>21</th>\n",
       "      <td>../../../Dataset/teamphotos_ready/1.jpg</td>\n",
       "      <td>../../../Dataset/teamphotos_ready/11.jpg</td>\n",
       "      <td>0</td>\n",
       "    </tr>\n",
       "    <tr>\n",
       "      <th>22</th>\n",
       "      <td>../../../Dataset/teamphotos_ready/12.jpg</td>\n",
       "      <td>../../../Dataset/teamphotos_ready/11.jpg</td>\n",
       "      <td>1</td>\n",
       "    </tr>\n",
       "    <tr>\n",
       "      <th>23</th>\n",
       "      <td>../../../Dataset/teamphotos_ready/12.jpg</td>\n",
       "      <td>../../../Dataset/teamphotos_ready/4.jpg</td>\n",
       "      <td>0</td>\n",
       "    </tr>\n",
       "    <tr>\n",
       "      <th>24</th>\n",
       "      <td>../../../Dataset/teamphotos_ready/24.jpg</td>\n",
       "      <td>../../../Dataset/teamphotos_ready/25.jpg</td>\n",
       "      <td>1</td>\n",
       "    </tr>\n",
       "    <tr>\n",
       "      <th>25</th>\n",
       "      <td>../../../Dataset/teamphotos_ready/24.jpg</td>\n",
       "      <td>../../../Dataset/teamphotos_ready/22.jpg</td>\n",
       "      <td>0</td>\n",
       "    </tr>\n",
       "    <tr>\n",
       "      <th>26</th>\n",
       "      <td>../../../Dataset/teamphotos_ready/15.jpg</td>\n",
       "      <td>../../../Dataset/teamphotos_ready/16.jpg</td>\n",
       "      <td>1</td>\n",
       "    </tr>\n",
       "    <tr>\n",
       "      <th>27</th>\n",
       "      <td>../../../Dataset/teamphotos_ready/15.jpg</td>\n",
       "      <td>../../../Dataset/teamphotos_ready/6.jpg</td>\n",
       "      <td>0</td>\n",
       "    </tr>\n",
       "    <tr>\n",
       "      <th>28</th>\n",
       "      <td>../../../Dataset/teamphotos_ready/13.jpg</td>\n",
       "      <td>../../../Dataset/teamphotos_ready/14.jpg</td>\n",
       "      <td>1</td>\n",
       "    </tr>\n",
       "    <tr>\n",
       "      <th>29</th>\n",
       "      <td>../../../Dataset/teamphotos_ready/13.jpg</td>\n",
       "      <td>../../../Dataset/teamphotos_ready/18.jpg</td>\n",
       "      <td>0</td>\n",
       "    </tr>\n",
       "    <tr>\n",
       "      <th>30</th>\n",
       "      <td>../../../Dataset/teamphotos_ready/12.jpg</td>\n",
       "      <td>../../../Dataset/teamphotos_ready/11.jpg</td>\n",
       "      <td>1</td>\n",
       "    </tr>\n",
       "    <tr>\n",
       "      <th>31</th>\n",
       "      <td>../../../Dataset/teamphotos_ready/12.jpg</td>\n",
       "      <td>../../../Dataset/teamphotos_ready/18.jpg</td>\n",
       "      <td>0</td>\n",
       "    </tr>\n",
       "    <tr>\n",
       "      <th>32</th>\n",
       "      <td>../../../Dataset/teamphotos_ready/11.jpg</td>\n",
       "      <td>../../../Dataset/teamphotos_ready/12.jpg</td>\n",
       "      <td>1</td>\n",
       "    </tr>\n",
       "    <tr>\n",
       "      <th>33</th>\n",
       "      <td>../../../Dataset/teamphotos_ready/11.jpg</td>\n",
       "      <td>../../../Dataset/teamphotos_ready/17.jpg</td>\n",
       "      <td>0</td>\n",
       "    </tr>\n",
       "    <tr>\n",
       "      <th>34</th>\n",
       "      <td>../../../Dataset/teamphotos_ready/11.jpg</td>\n",
       "      <td>../../../Dataset/teamphotos_ready/12.jpg</td>\n",
       "      <td>1</td>\n",
       "    </tr>\n",
       "    <tr>\n",
       "      <th>35</th>\n",
       "      <td>../../../Dataset/teamphotos_ready/11.jpg</td>\n",
       "      <td>../../../Dataset/teamphotos_ready/18.jpg</td>\n",
       "      <td>0</td>\n",
       "    </tr>\n",
       "    <tr>\n",
       "      <th>36</th>\n",
       "      <td>../../../Dataset/teamphotos_ready/12.jpg</td>\n",
       "      <td>../../../Dataset/teamphotos_ready/11.jpg</td>\n",
       "      <td>1</td>\n",
       "    </tr>\n",
       "    <tr>\n",
       "      <th>37</th>\n",
       "      <td>../../../Dataset/teamphotos_ready/12.jpg</td>\n",
       "      <td>../../../Dataset/teamphotos_ready/16.jpg</td>\n",
       "      <td>0</td>\n",
       "    </tr>\n",
       "    <tr>\n",
       "      <th>38</th>\n",
       "      <td>../../../Dataset/teamphotos_ready/23.jpg</td>\n",
       "      <td>../../../Dataset/teamphotos_ready/22.jpg</td>\n",
       "      <td>1</td>\n",
       "    </tr>\n",
       "    <tr>\n",
       "      <th>39</th>\n",
       "      <td>../../../Dataset/teamphotos_ready/23.jpg</td>\n",
       "      <td>../../../Dataset/teamphotos_ready/10.jpg</td>\n",
       "      <td>0</td>\n",
       "    </tr>\n",
       "  </tbody>\n",
       "</table>\n",
       "</div>"
      ],
      "text/plain": [
       "                                        left  \\\n",
       "0    ../../../Dataset/teamphotos_ready/8.jpg   \n",
       "1    ../../../Dataset/teamphotos_ready/8.jpg   \n",
       "2   ../../../Dataset/teamphotos_ready/17.jpg   \n",
       "3   ../../../Dataset/teamphotos_ready/17.jpg   \n",
       "4    ../../../Dataset/teamphotos_ready/5.jpg   \n",
       "5    ../../../Dataset/teamphotos_ready/5.jpg   \n",
       "6    ../../../Dataset/teamphotos_ready/1.jpg   \n",
       "7    ../../../Dataset/teamphotos_ready/1.jpg   \n",
       "8   ../../../Dataset/teamphotos_ready/11.jpg   \n",
       "9   ../../../Dataset/teamphotos_ready/11.jpg   \n",
       "10  ../../../Dataset/teamphotos_ready/18.jpg   \n",
       "11  ../../../Dataset/teamphotos_ready/18.jpg   \n",
       "12  ../../../Dataset/teamphotos_ready/22.jpg   \n",
       "13  ../../../Dataset/teamphotos_ready/22.jpg   \n",
       "14  ../../../Dataset/teamphotos_ready/20.jpg   \n",
       "15  ../../../Dataset/teamphotos_ready/20.jpg   \n",
       "16  ../../../Dataset/teamphotos_ready/18.jpg   \n",
       "17  ../../../Dataset/teamphotos_ready/18.jpg   \n",
       "18   ../../../Dataset/teamphotos_ready/3.jpg   \n",
       "19   ../../../Dataset/teamphotos_ready/3.jpg   \n",
       "20   ../../../Dataset/teamphotos_ready/1.jpg   \n",
       "21   ../../../Dataset/teamphotos_ready/1.jpg   \n",
       "22  ../../../Dataset/teamphotos_ready/12.jpg   \n",
       "23  ../../../Dataset/teamphotos_ready/12.jpg   \n",
       "24  ../../../Dataset/teamphotos_ready/24.jpg   \n",
       "25  ../../../Dataset/teamphotos_ready/24.jpg   \n",
       "26  ../../../Dataset/teamphotos_ready/15.jpg   \n",
       "27  ../../../Dataset/teamphotos_ready/15.jpg   \n",
       "28  ../../../Dataset/teamphotos_ready/13.jpg   \n",
       "29  ../../../Dataset/teamphotos_ready/13.jpg   \n",
       "30  ../../../Dataset/teamphotos_ready/12.jpg   \n",
       "31  ../../../Dataset/teamphotos_ready/12.jpg   \n",
       "32  ../../../Dataset/teamphotos_ready/11.jpg   \n",
       "33  ../../../Dataset/teamphotos_ready/11.jpg   \n",
       "34  ../../../Dataset/teamphotos_ready/11.jpg   \n",
       "35  ../../../Dataset/teamphotos_ready/11.jpg   \n",
       "36  ../../../Dataset/teamphotos_ready/12.jpg   \n",
       "37  ../../../Dataset/teamphotos_ready/12.jpg   \n",
       "38  ../../../Dataset/teamphotos_ready/23.jpg   \n",
       "39  ../../../Dataset/teamphotos_ready/23.jpg   \n",
       "\n",
       "                                       right  label  \n",
       "0    ../../../Dataset/teamphotos_ready/7.jpg      1  \n",
       "1   ../../../Dataset/teamphotos_ready/15.jpg      0  \n",
       "2   ../../../Dataset/teamphotos_ready/18.jpg      1  \n",
       "3   ../../../Dataset/teamphotos_ready/12.jpg      0  \n",
       "4    ../../../Dataset/teamphotos_ready/6.jpg      1  \n",
       "5   ../../../Dataset/teamphotos_ready/17.jpg      0  \n",
       "6    ../../../Dataset/teamphotos_ready/2.jpg      1  \n",
       "7    ../../../Dataset/teamphotos_ready/6.jpg      0  \n",
       "8   ../../../Dataset/teamphotos_ready/12.jpg      1  \n",
       "9   ../../../Dataset/teamphotos_ready/23.jpg      0  \n",
       "10  ../../../Dataset/teamphotos_ready/17.jpg      1  \n",
       "11   ../../../Dataset/teamphotos_ready/9.jpg      0  \n",
       "12  ../../../Dataset/teamphotos_ready/23.jpg      1  \n",
       "13  ../../../Dataset/teamphotos_ready/24.jpg      0  \n",
       "14  ../../../Dataset/teamphotos_ready/21.jpg      1  \n",
       "15  ../../../Dataset/teamphotos_ready/25.jpg      0  \n",
       "16  ../../../Dataset/teamphotos_ready/17.jpg      1  \n",
       "17  ../../../Dataset/teamphotos_ready/10.jpg      0  \n",
       "18   ../../../Dataset/teamphotos_ready/4.jpg      1  \n",
       "19   ../../../Dataset/teamphotos_ready/5.jpg      0  \n",
       "20   ../../../Dataset/teamphotos_ready/2.jpg      1  \n",
       "21  ../../../Dataset/teamphotos_ready/11.jpg      0  \n",
       "22  ../../../Dataset/teamphotos_ready/11.jpg      1  \n",
       "23   ../../../Dataset/teamphotos_ready/4.jpg      0  \n",
       "24  ../../../Dataset/teamphotos_ready/25.jpg      1  \n",
       "25  ../../../Dataset/teamphotos_ready/22.jpg      0  \n",
       "26  ../../../Dataset/teamphotos_ready/16.jpg      1  \n",
       "27   ../../../Dataset/teamphotos_ready/6.jpg      0  \n",
       "28  ../../../Dataset/teamphotos_ready/14.jpg      1  \n",
       "29  ../../../Dataset/teamphotos_ready/18.jpg      0  \n",
       "30  ../../../Dataset/teamphotos_ready/11.jpg      1  \n",
       "31  ../../../Dataset/teamphotos_ready/18.jpg      0  \n",
       "32  ../../../Dataset/teamphotos_ready/12.jpg      1  \n",
       "33  ../../../Dataset/teamphotos_ready/17.jpg      0  \n",
       "34  ../../../Dataset/teamphotos_ready/12.jpg      1  \n",
       "35  ../../../Dataset/teamphotos_ready/18.jpg      0  \n",
       "36  ../../../Dataset/teamphotos_ready/11.jpg      1  \n",
       "37  ../../../Dataset/teamphotos_ready/16.jpg      0  \n",
       "38  ../../../Dataset/teamphotos_ready/22.jpg      1  \n",
       "39  ../../../Dataset/teamphotos_ready/10.jpg      0  "
      ]
     },
     "execution_count": 10,
     "metadata": {},
     "output_type": "execute_result"
    }
   ],
   "source": [
    "df_test"
   ]
  },
  {
   "cell_type": "markdown",
   "metadata": {},
   "source": [
    "### Create test train val split"
   ]
  },
  {
   "cell_type": "code",
   "execution_count": 11,
   "metadata": {},
   "outputs": [],
   "source": [
    "#X_train, X_rem, y_train, y_rem = train_test_split(df.iloc[:,:-1], df.iloc[:,-1:], train_size=train_size, random_state = 101, shuffle=True)\n",
    "\n",
    "#X_val, X_test, y_val, y_test = train_test_split(X_rem,y_rem, test_size=test_val_proportion)"
   ]
  },
  {
   "cell_type": "code",
   "execution_count": 12,
   "metadata": {},
   "outputs": [],
   "source": [
    "X_train = df_train[[\"left\", \"right\"]]\n",
    "Y_train_label = df_train[[\"label\"]]"
   ]
  },
  {
   "cell_type": "code",
   "execution_count": 13,
   "metadata": {},
   "outputs": [],
   "source": [
    "X_test = df_test[[\"left\", \"right\"]]\n",
    "Y_test_label = df_test[[\"label\"]]"
   ]
  },
  {
   "cell_type": "code",
   "execution_count": 14,
   "metadata": {},
   "outputs": [
    {
     "name": "stdout",
     "output_type": "stream",
     "text": [
      "=====Training=====\n",
      "(40, 2)\n",
      "(40, 1)\n",
      "=====Testing=====\n",
      "(40, 2)\n",
      "(40, 1)\n"
     ]
    }
   ],
   "source": [
    "print('=====Training=====')\n",
    "print(X_train.shape)\n",
    "print(Y_train_label.shape)\n",
    "\n",
    "#print('=====Validation=====')\n",
    "#print(X_val.shape)\n",
    "#print(Y_val.shape)\n",
    "\n",
    "print('=====Testing=====')\n",
    "print(X_test.shape)\n",
    "print(Y_test_label.shape)"
   ]
  },
  {
   "cell_type": "markdown",
   "metadata": {},
   "source": [
    "### Loading pairs into TF Dataset"
   ]
  },
  {
   "cell_type": "code",
   "execution_count": 15,
   "metadata": {},
   "outputs": [],
   "source": [
    "def preprocessing(left, right):\n",
    "    return convert_to_img(left), convert_to_img(right)\n",
    "\n",
    "\n",
    "def convert_to_img(img_path):\n",
    "    img = tf.io.read_file(img_path)\n",
    "    img = tf.image.decode_jpeg(img)\n",
    "    img = tf.image.convert_image_dtype(img, tf.float32)\n",
    "    #img = tf.image.per_image_standardization(img)\n",
    "    #img = tf.expand_dims(img, axis=0)\n",
    "    img = tf.reshape(img,(224,224,3))\n",
    "    return img\n",
    "\n",
    "def label_preprocessing(label):\n",
    "    return tf.cast(label, tf.float32)"
   ]
  },
  {
   "cell_type": "code",
   "execution_count": 16,
   "metadata": {},
   "outputs": [],
   "source": [
    "def create_dataset(features, labels):\n",
    "    feature_ds = tf.data.Dataset.from_tensor_slices((features['left'].values, features['right'].values))\n",
    "    labels_ds = tf.data.Dataset.from_tensor_slices(labels.values)\n",
    "    \n",
    "    feature_ds = feature_ds.map(preprocessing)\n",
    "    labels_ds = labels_ds.map(label_preprocessing)\n",
    "    \n",
    "    dataset = tf.data.Dataset.zip((feature_ds, labels_ds))\n",
    "    dataset = dataset.batch(batch_size, num_parallel_calls=tf.data.AUTOTUNE)\n",
    "    dataset = dataset.cache().prefetch(buffer_size=tf.data.AUTOTUNE)\n",
    "    \n",
    "    return dataset\n",
    "\n",
    "def create_dataset_no_labels(features):\n",
    "    feature_ds = tf.data.Dataset.from_tensor_slices((features['left'].values, features['right'].values))\n",
    "    feature_ds = feature_ds.map(preprocessing)\n",
    "    \n",
    "    feature_ds = feature_ds.batch(batch_size, num_parallel_calls=tf.data.AUTOTUNE)\n",
    "    feature_ds = feature_ds.cache().prefetch(buffer_size=tf.data.AUTOTUNE)\n",
    "    \n",
    "    return feature_ds\n",
    "\n",
    "def create_singular_dataset(feature):\n",
    "    dataset = tf.data.Dataset.from_tensor_slices(feature.values)\n",
    "    dataset = dataset.map(convert_to_img)\n",
    "    dataset = dataset.batch(batch_size, num_parallel_calls=tf.data.AUTOTUNE)\n",
    "    dataset = dataset.cache().prefetch(buffer_size=tf.data.AUTOTUNE)\n",
    "    \n",
    "    return dataset"
   ]
  },
  {
   "cell_type": "code",
   "execution_count": 17,
   "metadata": {},
   "outputs": [],
   "source": [
    "train_ds = create_dataset(X_train, Y_train_label)\n",
    "val_ds = create_dataset(X_test, Y_test_label)"
   ]
  },
  {
   "cell_type": "markdown",
   "metadata": {},
   "source": [
    "## NN model"
   ]
  },
  {
   "cell_type": "code",
   "execution_count": 18,
   "metadata": {},
   "outputs": [],
   "source": [
    "left_input = layers.Input(shape=(224, 224, 3), name='left_input')\n",
    "right_input = layers.Input(shape=(224, 224, 3), name='right_input')"
   ]
  },
  {
   "cell_type": "markdown",
   "metadata": {},
   "source": [
    "### ResNet50 model"
   ]
  },
  {
   "cell_type": "code",
   "execution_count": 19,
   "metadata": {},
   "outputs": [],
   "source": [
    "trainable_layers=33 #whole conv_5 block\n",
    "\n",
    "def resnet_network():\n",
    "    input = layers.Input(shape=(224, 224, 3))\n",
    "    \n",
    "    resnet=ResNet50(\n",
    "        input_tensor=input,\n",
    "        include_top=False,\n",
    "        input_shape=image_shape,\n",
    "        pooling='avg',\n",
    "        weights='imagenet',\n",
    "        classes=2)\n",
    "\n",
    "    # whole conv5 block\n",
    "    for layer in resnet.layers[0:-trainable_layers]:\n",
    "        layer.trainable = False\n",
    "\n",
    "    return Model(input, outputs=resnet.output, name='resnet50')"
   ]
  },
  {
   "cell_type": "code",
   "execution_count": 20,
   "metadata": {},
   "outputs": [],
   "source": [
    "def conv_network(): \n",
    "    input = layers.Input(shape=image_shape, name='input_image')\n",
    "    \n",
    "    # First block\n",
    "    c1 = layers.Conv2D(64, (10,10), activation='relu')(input)\n",
    "    m1 = layers.MaxPooling2D(64, (2,2), padding='same')(c1)\n",
    "    \n",
    "    # Second block\n",
    "    c2 = layers.Conv2D(128, (7,7), activation='relu')(m1)\n",
    "    m2 = layers.MaxPooling2D(64, (2,2), padding='same')(c2)\n",
    "    \n",
    "    # Third block \n",
    "    c3 = layers.Conv2D(128, (4,4), activation='relu')(m2)\n",
    "    m3 = layers.MaxPooling2D(64, (2,2), padding='same')(c3)\n",
    "    \n",
    "    # Final embedding block\n",
    "    c4 = layers.Conv2D(256, (4,4), activation='relu')(m3)\n",
    "    f1 = layers.Flatten()(c4)\n",
    "    d1 = layers.Dense(4096, activation='sigmoid')(f1)\n",
    "    \n",
    "    \n",
    "    return Model(inputs=input, outputs=d1, name='conv_net')"
   ]
  },
  {
   "cell_type": "code",
   "execution_count": 21,
   "metadata": {},
   "outputs": [],
   "source": [
    "def base_network():\n",
    "    input = layers.Input(shape=(224, 224, 3))\n",
    "    x = layers.Flatten()(input)\n",
    "\n",
    "    x = layers.Dense(512, activation='relu')(x)\n",
    "    x = layers.Dense(512, activation='relu')(x)\n",
    "    x = layers.Dense(128, activation='relu')(x)\n",
    "\n",
    "    return Model(inputs=input, outputs=x, name='base_network')"
   ]
  },
  {
   "cell_type": "code",
   "execution_count": 22,
   "metadata": {},
   "outputs": [],
   "source": [
    "base_model = base_network()\n",
    "\n",
    "model_left = base_model(left_input)\n",
    "model_right = base_model(right_input)"
   ]
  },
  {
   "cell_type": "markdown",
   "metadata": {},
   "source": [
    "### Merging resnet branches layers"
   ]
  },
  {
   "cell_type": "code",
   "execution_count": 23,
   "metadata": {},
   "outputs": [],
   "source": [
    "def euclidean_distance(vects):\n",
    "    x, y = vects\n",
    "    sum_square = tf.reduce_sum(tf.square(tf.subtract(x, y)), axis=1, keepdims=True)\n",
    "    return tf.sqrt(tf.maximum(sum_square, K.epsilon()))"
   ]
  },
  {
   "cell_type": "code",
   "execution_count": 24,
   "metadata": {},
   "outputs": [],
   "source": [
    "#merged = layers.subtract([model_left.output, model_right.output])\n",
    "model = layers.Lambda(euclidean_distance, name=\"merge\")([model_left, model_right])\n",
    "\n",
    "#model = layers.Flatten()(model)\n",
    "\n",
    "#model = layers.Dense(256, activation='relu')(model)\n",
    "#model = layers.Dropout(.2)(model)\n",
    "\n",
    "#model = layers.Dense(32, activation='relu')(model)\n",
    "\n",
    "#model = layers.Dense(1, activation='sigmoid')(model)\n",
    "\n",
    "model = Model(inputs = [left_input, right_input], outputs = model, name='conv_model')"
   ]
  },
  {
   "cell_type": "code",
   "execution_count": 25,
   "metadata": {},
   "outputs": [],
   "source": [
    "# margin is a parametr settable by developer\n",
    "def contrastive_loss_with_margin(margin):\n",
    "    def contrastive_loss(y_true, y_pred):\n",
    "        '''Contrastive loss from Hadsell-et-al.'06\n",
    "        http://yann.lecun.com/exdb/publis/pdf/hadsell-chopra-lecun-06.pdf\n",
    "        '''\n",
    "        square_pred = tf.square(y_pred)\n",
    "        margin_square = tf.square(tf.maximum(margin - y_pred, 0))\n",
    "        return (y_true * square_pred + (1 - y_true) * margin_square)    \n",
    "    return contrastive_loss"
   ]
  },
  {
   "cell_type": "code",
   "execution_count": 26,
   "metadata": {},
   "outputs": [],
   "source": [
    "model.compile(optimizer=Adam(learning_rate=lr), loss=contrastive_loss_with_margin(margin=1.0))"
   ]
  },
  {
   "cell_type": "code",
   "execution_count": 27,
   "metadata": {},
   "outputs": [
    {
     "data": {
      "image/png": "[encoded data removed]",
      "text/plain": [
       "<IPython.core.display.Image object>"
      ]
     },
     "execution_count": 27,
     "metadata": {},
     "output_type": "execute_result"
    }
   ],
   "source": [
    "plot_model(model, show_shapes=True)\n",
    "#model.summary()"
   ]
  },
  {
   "cell_type": "code",
   "execution_count": 28,
   "metadata": {},
   "outputs": [],
   "source": [
    "#checkpoint_dir = 'checkpoints/own-photos-conv_net-20221128-202929'\n",
    "#latest_ckpt = tf.train.latest_checkpoint(checkpoint_dir)\n",
    "\n",
    "#model.load_weights(latest_ckpt)"
   ]
  },
  {
   "cell_type": "code",
   "execution_count": 29,
   "metadata": {},
   "outputs": [
    {
     "name": "stdout",
     "output_type": "stream",
     "text": [
      "Epoch 1/10\n",
      "4/4 [==============================] - 3s 558ms/step - loss: 1.1651 - val_loss: 0.9281\n",
      "Epoch 2/10\n",
      "4/4 [==============================] - 2s 460ms/step - loss: 0.4707 - val_loss: 0.7062\n",
      "Epoch 3/10\n",
      "4/4 [==============================] - 2s 467ms/step - loss: 0.2772 - val_loss: 0.6166\n",
      "Epoch 4/10\n",
      "4/4 [==============================] - 2s 459ms/step - loss: 0.1791 - val_loss: 0.5707\n",
      "Epoch 5/10\n",
      "4/4 [==============================] - 2s 468ms/step - loss: 0.1218 - val_loss: 0.5312\n",
      "Epoch 6/10\n",
      "4/4 [==============================] - 2s 471ms/step - loss: 0.0855 - val_loss: 0.5044\n",
      "Epoch 7/10\n",
      "4/4 [==============================] - 2s 450ms/step - loss: 0.0623 - val_loss: 0.4815\n",
      "Epoch 8/10\n",
      "4/4 [==============================] - 2s 436ms/step - loss: 0.0454 - val_loss: 0.4713\n",
      "Epoch 9/10\n",
      "4/4 [==============================] - 2s 436ms/step - loss: 0.0349 - val_loss: 0.4682\n",
      "Epoch 10/10\n",
      "4/4 [==============================] - 2s 440ms/step - loss: 0.0267 - val_loss: 0.4628\n"
     ]
    }
   ],
   "source": [
    "model_fit = model.fit(train_ds, validation_data=val_ds, epochs=10)"
   ]
  },
  {
   "cell_type": "code",
   "execution_count": 30,
   "metadata": {},
   "outputs": [],
   "source": [
    "#checkpoints_path = 'checkpoints'\n",
    "#model_version = f'{model.name}-own_photos-{time.strftime(\"%Y%m%d-%H%M%S\")}'\n",
    "\n",
    "#!cd {checkpoint_path} && mkdir {model_version}\n",
    "\n",
    "#model_path = f'{checkpoints_path}/{model_version}'\n",
    "#model.save_weights(model_path)"
   ]
  },
  {
   "cell_type": "markdown",
   "metadata": {},
   "source": [
    "### Performance metrics"
   ]
  },
  {
   "cell_type": "code",
   "execution_count": 31,
   "metadata": {},
   "outputs": [
    {
     "data": {
      "image/png": "[encoded data removed]",
      "text/plain": [
       "<Figure size 432x288 with 1 Axes>"
      ]
     },
     "metadata": {
      "needs_background": "light"
     },
     "output_type": "display_data"
    }
   ],
   "source": [
    "plt.plot(model_fit.history['loss'])\n",
    "plt.plot(model_fit.history['val_loss'])\n",
    "plt.title('Model Loss')\n",
    "plt.ylabel('Loss')\n",
    "plt.xlabel('Epochs')\n",
    "plt.legend(['train', 'validation'])\n",
    "plt.grid()\n",
    "\n",
    "plt.show()"
   ]
  },
  {
   "cell_type": "markdown",
   "metadata": {},
   "source": [
    "### Predictions"
   ]
  },
  {
   "cell_type": "code",
   "execution_count": 32,
   "metadata": {},
   "outputs": [],
   "source": [
    "test_ds_left = create_singular_dataset(X_test['left'])\n",
    "test_ds_right = create_singular_dataset(X_test['right'])\n",
    "test_labels = Y_test_label['label']\n",
    "\n",
    "test_ds_full = create_dataset_no_labels(X_test)"
   ]
  },
  {
   "cell_type": "code",
   "execution_count": 33,
   "metadata": {},
   "outputs": [
    {
     "name": "stdout",
     "output_type": "stream",
     "text": [
      "4/4 [==============================] - 0s 19ms/step\n",
      "4/4 [==============================] - 0s 28ms/step\n"
     ]
    }
   ],
   "source": [
    "left_image_feature_vectors = base_model.predict(test_ds_left)\n",
    "right_image_feature_vectors = base_model.predict(test_ds_right)"
   ]
  },
  {
   "cell_type": "code",
   "execution_count": 34,
   "metadata": {},
   "outputs": [],
   "source": [
    "positive_left_image_feature_vectors = left_image_feature_vectors[0::2]\n",
    "negative_left_image_feature_vectors = left_image_feature_vectors[1::2]\n",
    "\n",
    "positive_right_image_feature_vectors = right_image_feature_vectors[0::2]\n",
    "negative_right_image_feature_vectors = right_image_feature_vectors[1::2]"
   ]
  },
  {
   "cell_type": "markdown",
   "metadata": {},
   "source": [
    "### Positive distances"
   ]
  },
  {
   "cell_type": "code",
   "execution_count": 35,
   "metadata": {},
   "outputs": [
    {
     "data": {
      "text/plain": [
       "count    20.000000\n",
       "mean      0.731231\n",
       "std       0.636634\n",
       "min       0.076175\n",
       "25%       0.250510\n",
       "50%       0.382799\n",
       "75%       1.602062\n",
       "max       1.602062\n",
       "dtype: float64"
      ]
     },
     "execution_count": 35,
     "metadata": {},
     "output_type": "execute_result"
    }
   ],
   "source": [
    "positive_distances = euclidean_distance((positive_left_image_feature_vectors, positive_right_image_feature_vectors)).numpy().flatten()\n",
    "positive_mean = pd.Series(positive_distances).mean()\n",
    "pd.Series(positive_distances).describe()"
   ]
  },
  {
   "cell_type": "markdown",
   "metadata": {},
   "source": [
    "### Negative distances"
   ]
  },
  {
   "cell_type": "code",
   "execution_count": 36,
   "metadata": {},
   "outputs": [
    {
     "data": {
      "text/plain": [
       "count    20.000000\n",
       "mean      1.138581\n",
       "std       0.194022\n",
       "min       0.744048\n",
       "25%       0.961375\n",
       "50%       1.191329\n",
       "75%       1.297175\n",
       "max       1.380866\n",
       "dtype: float64"
      ]
     },
     "execution_count": 36,
     "metadata": {},
     "output_type": "execute_result"
    }
   ],
   "source": [
    "negative_distances = euclidean_distance((negative_left_image_feature_vectors, negative_right_image_feature_vectors)).numpy().flatten()\n",
    "negative_mean = pd.Series(negative_distances).mean()\n",
    "pd.Series(negative_distances).describe()"
   ]
  },
  {
   "cell_type": "code",
   "execution_count": 37,
   "metadata": {},
   "outputs": [
    {
     "data": {
      "image/png": "[encoded data removed]",
      "text/plain": [
       "<Figure size 432x288 with 1 Axes>"
      ]
     },
     "metadata": {
      "needs_background": "light"
     },
     "output_type": "display_data"
    }
   ],
   "source": [
    "fig = plt.figure()\n",
    "ax = fig.add_axes([0,0,1, 1])\n",
    "ax.boxplot([positive_distances, negative_distances])\n",
    "plt.xticks([1, 2], ['Positive', 'Negative'])\n",
    "ax.grid()\n",
    "plt.show()"
   ]
  },
  {
   "cell_type": "code",
   "execution_count": 38,
   "metadata": {},
   "outputs": [],
   "source": [
    "def compute_accuracy(y_true, y_pred, cutoff):\n",
    "    pred = y_pred.flatten() < cutoff\n",
    "    return np.mean(pred == y_true), pred"
   ]
  },
  {
   "cell_type": "code",
   "execution_count": 39,
   "metadata": {},
   "outputs": [
    {
     "name": "stdout",
     "output_type": "stream",
     "text": [
      "Test accuracy: 70.00%\n"
     ]
    }
   ],
   "source": [
    "y_pred_test = euclidean_distance((left_image_feature_vectors, right_image_feature_vectors)).numpy().flatten()\n",
    "cutoff = (positive_mean + negative_mean)/2\n",
    "\n",
    "test_accuracy, y_pred = compute_accuracy(test_labels, y_pred_test, cutoff)\n",
    "print(f'Test accuracy: {test_accuracy*100:.2f}%')"
   ]
  },
  {
   "cell_type": "code",
   "execution_count": 40,
   "metadata": {},
   "outputs": [
    {
     "data": {
      "text/plain": [
       "array([[12,  8],\n",
       "       [ 4, 16]], dtype=int64)"
      ]
     },
     "execution_count": 40,
     "metadata": {},
     "output_type": "execute_result"
    }
   ],
   "source": [
    "confusion_matrix(Y_test_label, y_pred, labels = [1,0])"
   ]
  },
  {
   "cell_type": "code",
   "execution_count": 41,
   "metadata": {},
   "outputs": [],
   "source": [
    "def display_images(left, right, predictions, title, n):\n",
    "    fig, axarr = plt.subplots(2,10, figsize=(17,3))\n",
    "    plt.setp(axarr, xticks=[], yticks=[])\n",
    "    \n",
    "    for image, i in zip(left, range(len(left))):\n",
    "        img = cv2.imread(image)\n",
    "        axarr[0,i].imshow(img)\n",
    "        axarr[0,i].grid(None)\n",
    "        \n",
    "    for image, i in zip(right, range(len(right))):\n",
    "        img = cv2.imread(image)\n",
    "        axarr[1,i].imshow(img)\n",
    "        axarr[1,i].grid(None)\n",
    "        axarr[1,i].set_xticks(predictions)\n",
    "\n",
    "    for i,t in enumerate(plt.gca().xaxis.get_ticklabels()):\n",
    "        if predictions[i] > cutoff: \n",
    "            t.set_color('red')"
   ]
  },
  {
   "cell_type": "code",
   "execution_count": 44,
   "metadata": {},
   "outputs": [
    {
     "data": {
      "image/png": "[encoded data removed]",
      "text/plain": [
       "<Figure size 1224x216 with 20 Axes>"
      ]
     },
     "metadata": {
      "needs_background": "light"
     },
     "output_type": "display_data"
    }
   ],
   "source": [
    "y_pred_test = np.squeeze(y_pred_test)\n",
    "indexes = np.random.choice(len(y_pred_test), size=10)\n",
    "display_images(X_test[\"left\"][indexes],\n",
    "               X_test[\"right\"][indexes],\n",
    "               y_pred_test[indexes],\n",
    "               'Clothes and their dissimilarity', 10)"
   ]
  },
  {
   "cell_type": "code",
   "execution_count": 96,
   "metadata": {},
   "outputs": [
    {
     "data": {
      "text/plain": [
       "0    ../../../Dataset/teamphotos_ready/train_16.jpg\n",
       "1    ../../../Dataset/teamphotos_ready/train_16.jpg\n",
       "2    ../../../Dataset/teamphotos_ready/train_26.jpg\n",
       "3    ../../../Dataset/teamphotos_ready/train_26.jpg\n",
       "Name: left, dtype: object"
      ]
     },
     "execution_count": 96,
     "metadata": {},
     "output_type": "execute_result"
    }
   ],
   "source": [
    "for image X_test[\"left\"]:\n",
    "    im"
   ]
  },
  {
   "cell_type": "code",
   "execution_count": 86,
   "metadata": {},
   "outputs": [],
   "source": [
    "skuska = cv2.imread(X_test[\"left\"][0])"
   ]
  },
  {
   "cell_type": "code",
   "execution_count": 142,
   "metadata": {},
   "outputs": [
    {
     "data": {
      "text/plain": [
       "array([0.0518389 , 1.022171  , 0.06278787, 1.3575753 , 1.9707003 ,\n",
       "       0.88329947, 0.0880376 , 2.4079964 , 1.0112617 , 1.5780284 ],\n",
       "      dtype=float32)"
      ]
     },
     "execution_count": 142,
     "metadata": {},
     "output_type": "execute_result"
    }
   ],
   "source": [
    "y_pred_test[0:10]"
   ]
  },
  {
   "cell_type": "code",
   "execution_count": 146,
   "metadata": {},
   "outputs": [
    {
     "data": {
      "text/plain": [
       "array([ 3, 17, 16, 27, 30, 16, 23, 14, 36, 27])"
      ]
     },
     "execution_count": 146,
     "metadata": {},
     "output_type": "execute_result"
    }
   ],
   "source": [
    "indexes"
   ]
  },
  {
   "cell_type": "code",
   "execution_count": null,
   "metadata": {},
   "outputs": [],
   "source": []
  }
 ],
 "metadata": {
  "kernelspec": {
   "display_name": "Python 3 (ipykernel)",
   "language": "python",
   "name": "python3"
  },
  "language_info": {
   "codemirror_mode": {
    "name": "ipython",
    "version": 3
   },
   "file_extension": ".py",
   "mimetype": "text/x-python",
   "name": "python",
   "nbconvert_exporter": "python",
   "pygments_lexer": "ipython3",
   "version": "3.8.3"
  }
 },
 "nbformat": 4,
 "nbformat_minor": 4
}
