{
 "cells": [
  {
   "cell_type": "code",
   "execution_count": 2,
   "metadata": {},
   "outputs": [],
   "source": [
    "import pandas as pd\n",
    "import cv2\n",
    "from matplotlib import pyplot as plt\n",
    "\n",
    "def load_and_crop_img(photo_path, img_coordinates):\n",
    "    img = cv2.imread(photo_path)\n",
    "    \n",
    "    x1 = img_coordinates['x_1']\n",
    "    y1 = img_coordinates['y_1']\n",
    "    x2 = x1 + img_coordinates['width']\n",
    "    y2 = y1 + img_coordinates['height']\n",
    "\n",
    "    UPPER_LEFT = (x1, y1)\n",
    "    BOTTOM_RIGHT = (x2, y2)\n",
    "    \n",
    "    BOUNDING_BOX_COLOR = (0, 0, 255)\n",
    "    BOUNDING_BOX_THICKNESS = 2\n",
    "\n",
    "    rectangle = cv2.rectangle(img.copy(), UPPER_LEFT, BOTTOM_RIGHT, (0, 0, 255), BOUNDING_BOX_THICKNESS)\n",
    "    \n",
    "    crop_img = img[y1:y2, x1:x2]\n",
    "    return crop_img"
   ]
  },
  {
   "cell_type": "code",
   "execution_count": null,
   "metadata": {},
   "outputs": [],
   "source": []
  },
  {
   "cell_type": "code",
   "execution_count": null,
   "metadata": {},
   "outputs": [],
   "source": []
  }
 ],
 "metadata": {
  "kernelspec": {
   "display_name": "Python (my_env)",
   "language": "python",
   "name": "my_env"
  },
  "language_info": {
   "codemirror_mode": {
    "name": "ipython",
    "version": 3
   },
   "file_extension": ".py",
   "mimetype": "text/x-python",
   "name": "python",
   "nbconvert_exporter": "python",
   "pygments_lexer": "ipython3",
   "version": "3.8.13"
  },
  "vscode": {
   "interpreter": {
    "hash": "3c58a2c05360f9d7d52fa9a199313f5f21d7006b32a788890cf8d199bfacd771"
   }
  }
 },
 "nbformat": 4,
 "nbformat_minor": 5
}
