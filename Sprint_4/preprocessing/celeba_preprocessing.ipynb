{
 "cells": [
  {
   "cell_type": "code",
   "execution_count": 13,
   "metadata": {},
   "outputs": [],
   "source": [
    "import os\n",
    "import numpy as np\n",
    "import cv2\n",
    "from tensorflow.keras.applications.resnet50 import preprocess_input"
   ]
  },
  {
   "cell_type": "code",
   "execution_count": 15,
   "metadata": {},
   "outputs": [],
   "source": [
    "%run load_and_crop_img.ipynb\n",
    "%run resize_img.ipynb"
   ]
  },
  {
   "cell_type": "code",
   "execution_count": 16,
   "metadata": {},
   "outputs": [],
   "source": [
    "photos_path = \"../../../Dataset/img_celeba\"\n",
    "coordinates_path = '../../../Dataset/list_bbox_celeba.txt'"
   ]
  },
  {
   "cell_type": "code",
   "execution_count": 296,
   "metadata": {},
   "outputs": [],
   "source": [
    "start_index = 0\n",
    "end_index = 49999"
   ]
  },
  {
   "cell_type": "code",
   "execution_count": 297,
   "metadata": {},
   "outputs": [],
   "source": [
    "#coordinates dataframe\n",
    "face_coordinates = pd.read_csv(coordinates_path, sep='\\s+')\n",
    "face_coordinates_subset = face_coordinates.iloc[start_index: end_index]"
   ]
  },
  {
   "cell_type": "code",
   "execution_count": 298,
   "metadata": {},
   "outputs": [
    {
     "name": "stdout",
     "output_type": "stream",
     "text": [
      "image_id    050001.jpg\n",
      "x_1                366\n",
      "y_1                120\n",
      "width              224\n",
      "height             310\n",
      "Name: 50000, dtype: object\n"
     ]
    }
   ],
   "source": [
    "#photo names from photodir\n",
    "photos = os.listdir(photos_path)\n",
    "photos.sort()\n",
    "photos_subset = photos[start_index:end_index]\n",
    "\n",
    "print(face_coordinates_subset.iloc[0])"
   ]
  },
  {
   "cell_type": "markdown",
   "metadata": {},
   "source": [
    "### Preprocess 1 picture"
   ]
  },
  {
   "cell_type": "code",
   "execution_count": 290,
   "metadata": {},
   "outputs": [],
   "source": [
    "# img_path = f'{photos_path}/{photos[9]}'\n",
    "# img_coord = face_coordinates.iloc[9]\n",
    "   \n",
    "# #load img and its coordinates and crop\n",
    "# img = load_and_crop_img(img_path, img_coord)\n",
    "# #resize img to 224x224\n",
    "# img = resize_img(img, 224)\n",
    "# #img = preprocess_input(img)\n",
    "\n",
    "# #error, shape 224x1, not 224x224\n",
    "# #print(img.shape)\n",
    "\n",
    "# try:\n",
    "#     #write into new folder 'img_celeba_cropped/'\n",
    "#     cv2.imwrite(os.path.join('../../../Dataset/img_celeba_cropped/', 'img.jpg'), img)\n",
    "# except Exception as e:\n",
    "#     print(e)"
   ]
  },
  {
   "cell_type": "markdown",
   "metadata": {},
   "source": [
    "### Preprocess n pictures"
   ]
  },
  {
   "cell_type": "code",
   "execution_count": 291,
   "metadata": {},
   "outputs": [
    {
     "name": "stdout",
     "output_type": "stream",
     "text": [
      "050001.jpg\n",
      "050002.jpg\n",
      "050003.jpg\n"
     ]
    },
    {
     "ename": "ZeroDivisionError",
     "evalue": "division by zero",
     "output_type": "error",
     "traceback": [
      "\u001b[0;31m---------------------------------------------------------------------------\u001b[0m",
      "\u001b[0;31mZeroDivisionError\u001b[0m                         Traceback (most recent call last)",
      "Cell \u001b[0;32mIn [291], line 6\u001b[0m\n\u001b[1;32m      3\u001b[0m img_coord \u001b[38;5;241m=\u001b[39m face_coordinates\u001b[38;5;241m.\u001b[39miloc[idx]\n\u001b[1;32m      5\u001b[0m img \u001b[38;5;241m=\u001b[39m load_and_crop_img(img_path, img_coord)\n\u001b[0;32m----> 6\u001b[0m img \u001b[38;5;241m=\u001b[39m \u001b[43mresize_img\u001b[49m\u001b[43m(\u001b[49m\u001b[43mimg\u001b[49m\u001b[43m,\u001b[49m\u001b[43m \u001b[49m\u001b[38;5;241;43m224\u001b[39;49m\u001b[43m)\u001b[49m\n\u001b[1;32m      8\u001b[0m \u001b[38;5;28mprint\u001b[39m(photo)\n\u001b[1;32m     10\u001b[0m \u001b[38;5;28;01mtry\u001b[39;00m:\n\u001b[1;32m     11\u001b[0m \u001b[38;5;66;03m#write into new folder 'img_celeba_cropped/'\u001b[39;00m\n",
      "Cell \u001b[0;32mIn [273], line 4\u001b[0m, in \u001b[0;36mresize_img\u001b[0;34m(img, resize_to)\u001b[0m\n\u001b[1;32m      1\u001b[0m \u001b[38;5;28;01mdef\u001b[39;00m \u001b[38;5;21mresize_img\u001b[39m(img, resize_to):\n\u001b[1;32m      2\u001b[0m     old_size \u001b[38;5;241m=\u001b[39m img\u001b[38;5;241m.\u001b[39mshape[:\u001b[38;5;241m2\u001b[39m]\n\u001b[0;32m----> 4\u001b[0m     ratio \u001b[38;5;241m=\u001b[39m \u001b[43mresize_to\u001b[49m\u001b[43m \u001b[49m\u001b[38;5;241;43m/\u001b[39;49m\u001b[43m \u001b[49m\u001b[38;5;28;43mmin\u001b[39;49m\u001b[43m(\u001b[49m\u001b[43mold_size\u001b[49m\u001b[43m)\u001b[49m\n\u001b[1;32m      6\u001b[0m     width \u001b[38;5;241m=\u001b[39m \u001b[38;5;28mround\u001b[39m(img\u001b[38;5;241m.\u001b[39mshape[\u001b[38;5;241m1\u001b[39m] \u001b[38;5;241m*\u001b[39m ratio)\n\u001b[1;32m      7\u001b[0m     height \u001b[38;5;241m=\u001b[39m \u001b[38;5;28mround\u001b[39m(img\u001b[38;5;241m.\u001b[39mshape[\u001b[38;5;241m0\u001b[39m] \u001b[38;5;241m*\u001b[39m ratio)\n",
      "\u001b[0;31mZeroDivisionError\u001b[0m: division by zero"
     ]
    }
   ],
   "source": [
    "for idx, photo in enumerate(photos_subset):\n",
    "    img_path = f'{photos_path}/{photo}'\n",
    "    img_coord = face_coordinates.iloc[idx]\n",
    "    \n",
    "    img = load_and_crop_img(img_path, img_coord)\n",
    "    img = resize_img(img, 224)\n",
    "    \n",
    "    try:\n",
    "    #write into new folder 'img_celeba_cropped/'\n",
    "        cv2.imwrite(os.path.join('../../../Dataset/img_celeba_cropped/', photo), img)\n",
    "    except Exception as e:\n",
    "        print(idx)\n",
    "        print(photo)\n",
    "        print(e)"
   ]
  }
 ],
 "metadata": {
  "kernelspec": {
   "display_name": "Python (my_env)",
   "language": "python",
   "name": "my_env"
  },
  "language_info": {
   "codemirror_mode": {
    "name": "ipython",
    "version": 3
   },
   "file_extension": ".py",
   "mimetype": "text/x-python",
   "name": "python",
   "nbconvert_exporter": "python",
   "pygments_lexer": "ipython3",
   "version": "3.8.13"
  }
 },
 "nbformat": 4,
 "nbformat_minor": 4
}
