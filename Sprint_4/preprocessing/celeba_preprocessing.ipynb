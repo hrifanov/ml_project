{
 "cells": [
  {
   "cell_type": "code",
   "execution_count": 261,
   "metadata": {},
   "outputs": [],
   "source": [
    "import os\n",
    "import glob\n",
    "import numpy as np\n",
    "import cv2\n",
    "from tensorflow.keras.applications.resnet50 import preprocess_input"
   ]
  },
  {
   "cell_type": "code",
   "execution_count": 262,
   "metadata": {},
   "outputs": [
    {
     "name": "stderr",
     "output_type": "stream",
     "text": [
      "/Users/igor/miniforge3/envs/my_env/lib/python3.8/site-packages/nbformat/__init__.py:92: MissingIDFieldWarning: Code cell is missing an id field, this will become a hard error in future nbformat versions. You may want to use `normalize()` on your notebooks before validations (available since nbformat 5.1.4). Previous versions of nbformat are fixing this issue transparently, and will stop doing so in the future.\n",
      "  validate(nb)\n"
     ]
    }
   ],
   "source": [
    "%run load_and_crop_img.ipynb"
   ]
  },
  {
   "cell_type": "code",
   "execution_count": 263,
   "metadata": {},
   "outputs": [],
   "source": [
    "photos_path = \"../../../Dataset/img_celeba/\"\n",
    "coordinates_path = '../../../Dataset/list_bbox_celeba.txt'"
   ]
  },
  {
   "cell_type": "code",
   "execution_count": 255,
   "metadata": {},
   "outputs": [],
   "source": [
    "start_index = 0\n",
    "end_index = 202600\n",
    "\n",
    "#101283"
   ]
  },
  {
   "cell_type": "code",
   "execution_count": 259,
   "metadata": {},
   "outputs": [],
   "source": [
    "#coordinates dataframe\n",
    "face_coordinates = pd.read_csv(coordinates_path, sep='\\s+')\n",
    "face_coordinates_subset = face_coordinates.iloc[start_index: end_index]"
   ]
  },
  {
   "cell_type": "code",
   "execution_count": 260,
   "metadata": {},
   "outputs": [
    {
     "name": "stdout",
     "output_type": "stream",
     "text": [
      "2599\n",
      "2599\n"
     ]
    }
   ],
   "source": [
    "#photo names from photodir\n",
    "photos = os.listdir(photos_path)\n",
    "photos.sort()\n",
    "\n",
    "photos_subset = photos[start_index:end_index]"
   ]
  },
  {
   "cell_type": "markdown",
   "metadata": {},
   "source": [
    "### Preprocess n pictures"
   ]
  },
  {
   "cell_type": "code",
   "execution_count": 258,
   "metadata": {},
   "outputs": [],
   "source": [
    "for idx, photo in enumerate(photos_subset):\n",
    "    img_path = f'{photos_path}{photo}'\n",
    "    img_coord = face_coordinates.iloc[start_index+idx]\n",
    "    \n",
    "   \n",
    "    \n",
    "    \n",
    "    img = load_and_crop_img(img_path, img_coord)\n",
    "    img = cv2.resize(img, (224, 224), interpolation = cv2.INTER_AREA)\n",
    "    \n",
    "    try:\n",
    "        cv2.imwrite(os.path.join('../../../Dataset/img_celeba_cropped', photo), img)\n",
    "    except Exception as e:\n",
    "        print(idx)\n",
    "        print(photo)\n",
    "        print(e)"
   ]
  }
 ],
 "metadata": {
  "kernelspec": {
   "display_name": "Python (my_env)",
   "language": "python",
   "name": "my_env"
  },
  "language_info": {
   "codemirror_mode": {
    "name": "ipython",
    "version": 3
   },
   "file_extension": ".py",
   "mimetype": "text/x-python",
   "name": "python",
   "nbconvert_exporter": "python",
   "pygments_lexer": "ipython3",
   "version": "3.8.13"
  }
 },
 "nbformat": 4,
 "nbformat_minor": 4
}
