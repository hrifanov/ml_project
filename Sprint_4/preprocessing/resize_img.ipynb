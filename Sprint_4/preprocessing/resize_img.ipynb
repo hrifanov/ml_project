{
 "cells": [
  {
   "cell_type": "code",
   "execution_count": 1,
   "metadata": {},
   "outputs": [],
   "source": [
    "def resize_img(img, resize_to):\n",
    "    old_size = img.shape[:2]\n",
    "    \n",
    "    ratio = resize_to / min(old_size)\n",
    "    \n",
    "    width = round(img.shape[1] * ratio)\n",
    "    height = round(img.shape[0] * ratio)\n",
    "    dim = (width, height)\n",
    "\n",
    "    \n",
    "    resized_img = cv2.resize(img, dim)\n",
    "    \n",
    "    \n",
    "    delta_w = dim[0] - resize_to\n",
    "    delta_h = dim[1] - resize_to\n",
    "    \n",
    "    x1 = delta_w // 2\n",
    "    y1 = delta_h // 2\n",
    "    x2 = x1 + resize_to\n",
    "    y2 = y1 + resize_to\n",
    "    \n",
    "    \n",
    "    return resized_img[y1:y2, x1:x2]"
   ]
  },
  {
   "cell_type": "code",
   "execution_count": null,
   "metadata": {},
   "outputs": [],
   "source": []
  }
 ],
 "metadata": {
  "kernelspec": {
   "display_name": "Python (my_env)",
   "language": "python",
   "name": "my_env"
  },
  "language_info": {
   "codemirror_mode": {
    "name": "ipython",
    "version": 3
   },
   "file_extension": ".py",
   "mimetype": "text/x-python",
   "name": "python",
   "nbconvert_exporter": "python",
   "pygments_lexer": "ipython3",
   "version": "3.8.13"
  }
 },
 "nbformat": 4,
 "nbformat_minor": 4
}
