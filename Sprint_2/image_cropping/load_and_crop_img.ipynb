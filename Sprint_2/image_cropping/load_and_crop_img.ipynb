{
 "cells": [
  {
   "cell_type": "code",
   "execution_count": null,
   "id": "4e4c745b",
   "metadata": {},
   "outputs": [],
   "source": [
    "import pandas as pd\n",
    "import cv2\n",
    "from matplotlib import pyplot as plt\n",
    "\n",
    "def load_and_crop_img(img_index):\n",
    "    coordinates_path = 'dataset/list_bbox_celeba.txt'\n",
    "    photo_path = f'dataset/img_celeba/{str(img_index).zfill(6)}.jpg'\n",
    "    \n",
    "    face_coordinates = pd.read_csv(coordinates_path, sep='\\s+')\n",
    "    img = cv2.imread(photo_path)\n",
    "    \n",
    "    img_coordinates = face_coordinates.loc[img_index-1]\n",
    "\n",
    "    x1 = img_coordinates['x_1']\n",
    "    y1 = img_coordinates['y_1']\n",
    "    x2 = x1 + img_coordinates['width']\n",
    "    y2 = y1 + img_coordinates['height']\n",
    "\n",
    "    UPPER_LEFT = (x1, y1)\n",
    "    BOTTOM_RIGHT = (x2, y2)\n",
    "    \n",
    "    BOUNDING_BOX_COLOR = (0, 0, 255)\n",
    "    BOUNDING_BOX_THICKNESS = 2\n",
    "\n",
    "    rectangle = cv2.rectangle(img.copy(), UPPER_LEFT, BOTTOM_RIGHT, (0, 0, 255), BOUNDING_BOX_THICKNESS)\n",
    "    \n",
    "    crop_img = img[y1:y2, x1:x2]\n",
    "    return crop_img"
   ]
  }
 ],
 "metadata": {
  "kernelspec": {
   "display_name": "Python 3 (ipykernel)",
   "language": "python",
   "name": "python3"
  },
  "language_info": {
   "codemirror_mode": {
    "name": "ipython",
    "version": 3
   },
   "file_extension": ".py",
   "mimetype": "text/x-python",
   "name": "python",
   "nbconvert_exporter": "python",
   "pygments_lexer": "ipython3",
   "version": "3.9.12"
  }
 },
 "nbformat": 4,
 "nbformat_minor": 5
}
