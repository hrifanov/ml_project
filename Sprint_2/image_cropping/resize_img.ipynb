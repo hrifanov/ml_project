{
 "cells": [
  {
   "cell_type": "code",
   "execution_count": 1,
   "id": "ec882fc6",
   "metadata": {},
   "outputs": [],
   "source": [
    "import cv2"
   ]
  },
  {
   "cell_type": "code",
   "execution_count": 2,
   "id": "29b3f0a0",
   "metadata": {},
   "outputs": [],
   "source": [
    "print_img = lambda img : plt.imshow(cv2.cvtColor(img, cv2.COLOR_BGR2RGB))"
   ]
  },
  {
   "cell_type": "code",
   "execution_count": 3,
   "id": "d6e49030",
   "metadata": {},
   "outputs": [],
   "source": [
    "def resize_img(img, resize_to):\n",
    "    old_size = img.shape[:2]\n",
    "    ratio = float(resize_to) / min(old_size)\n",
    "    \n",
    "    new_size = tuple([int(i * ratio) for i in old_size])\n",
    "    resized_img = cv2.resize(img, ([new_size[1], new_size[0]]))\n",
    "    \n",
    "    delta_w = new_size[1] - resize_to\n",
    "    delta_h = new_size[0] - resize_to\n",
    "    \n",
    "    x1 = delta_w // 2\n",
    "    y1 = delta_h // 2\n",
    "    x2 = x1 + resize_to\n",
    "    y2 = y1 + resize_to\n",
    "    \n",
    "    return resized_img[y1:y2, x1:x2]"
   ]
  }
 ],
 "metadata": {
  "kernelspec": {
   "display_name": "Python 3.10.4 ('Python_vse')",
   "language": "python",
   "name": "python3"
  },
  "language_info": {
   "codemirror_mode": {
    "name": "ipython",
    "version": 3
   },
   "file_extension": ".py",
   "mimetype": "text/x-python",
   "name": "python",
   "nbconvert_exporter": "python",
   "pygments_lexer": "ipython3",
   "version": "3.10.4"
  },
  "vscode": {
   "interpreter": {
    "hash": "3c58a2c05360f9d7d52fa9a199313f5f21d7006b32a788890cf8d199bfacd771"
   }
  }
 },
 "nbformat": 4,
 "nbformat_minor": 5
}
